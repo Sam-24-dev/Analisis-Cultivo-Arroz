{
 "cells": [
  {
   "cell_type": "code",
   "execution_count": null,
   "id": "24002d93",
   "metadata": {
    "tags": [
     "hide-input",
     "hide-output"
    ]
   },
   "outputs": [],
   "source": [
    "\n",
    "# Configuración especial para exportación HTML\n",
    "import plotly.io as pio\n",
    "import plotly.offline as pyo\n",
    "\n",
    "# Configurar Plotly para funcionar sin conexión\n",
    "pio.renderers.default = \"notebook\"\n",
    "pyo.init_notebook_mode(connected=True)\n",
    "\n",
    "# Configurar para mostrar en HTML\n",
    "import plotly.graph_objects as go\n",
    "from plotly.subplots import make_subplots\n",
    "go.Figure().show = lambda self: self.show(renderer=\"notebook\")\n"
   ]
  },
  {
   "cell_type": "markdown",
   "metadata": {},
   "source": [
    "# 🌾 SISTEMA DE CULTIVO DE ARROZ - ANÁLISIS  INTEGRAL\n",
    "\n",
    "---\n",
    "\n",
    "## 📊 **ANÁLISIS DE CONSULTORÍA EMPRESARIAL**\n",
    "### Optimización Operativa y Estratégica - Datos Reales MySQL\n",
    "\n",
    "**Analista:** Samir Caizapasto  \n",
    "**Fecha:** Enero 2025  \n",
    "**Período Analizado:** Enero - Julio 2024  \n",
    "**Alcance:** 6 Empleados | 6 Áreas | 28.4 Hectáreas | 11 Tareas\n",
    "\n",
    "---\n",
    "\n",
    "## 📋 **ÍNDICE EJECUTIVO**\n",
    "\n",
    "1. [**RESUMEN EJECUTIVO KPIs**](#resumen-kpis)\n",
    "2. [**ANÁLISIS FINANCIERO DETALLADO**](#analisis-financiero)\n",
    "3. [**PRODUCTIVIDAD POR EMPLEADOS**](#productividad-empleados)\n",
    "4. [**RENDIMIENTO TERRITORIAL**](#rendimiento-areas)\n",
    "5. [**TENDENCIAS TEMPORALES**](#tendencias-temporales)\n",
    "6. [**ANÁLISIS OPERACIONAL PROFUNDO**](#analisis-operacional)\n",
    "7. [**RECOMENDACIONES ESTRATÉGICAS**](#recomendaciones)\n",
    "8. [**PROYECCIONES Y PLAN DE ACCIÓN**](#proyecciones)\n",
    "\n",
    "---"
   ]
  },
  {
   "cell_type": "code",
   "execution_count": 1,
   "metadata": {
    "tags": [
     "hide-input",
     "hide-output"
    ]
   },
   "outputs": [
    {
     "name": "stdout",
     "output_type": "stream",
     "text": [
      "✅ Configuración inicial completada\n",
      "📦 Librerías cargadas exitosamente\n",
      "🎨 Paleta de colores agrícola configurada\n"
     ]
    }
   ],
   "source": [
    "# 🛠️ CONFIGURACIÓN INICIAL Y LIBRERÍAS\n",
    "import pandas as pd\n",
    "import numpy as np\n",
    "import matplotlib.pyplot as plt\n",
    "import seaborn as sns\n",
    "import plotly.express as px\n",
    "import plotly.graph_objects as go\n",
    "from plotly.subplots import make_subplots\n",
    "import plotly.figure_factory as ff\n",
    "from datetime import datetime, timedelta\n",
    "import warnings\n",
    "warnings.filterwarnings('ignore')\n",
    "\n",
    "# Configuración de estilo profesional\n",
    "plt.style.use('default')\n",
    "sns.set_palette(\"husl\")\n",
    "\n",
    "# Configuración de gráficos\n",
    "plt.rcParams['figure.figsize'] = (12, 8)\n",
    "plt.rcParams['font.size'] = 12\n",
    "plt.rcParams['axes.titlesize'] = 16\n",
    "plt.rcParams['axes.labelsize'] = 14\n",
    "plt.rcParams['xtick.labelsize'] = 12\n",
    "plt.rcParams['ytick.labelsize'] = 12\n",
    "\n",
    "# Paleta de colores tema agrícola\n",
    "COLOR_PALETTE = {\n",
    "    'primary': '#2E7D32',      # Verde oscuro\n",
    "    'secondary': '#66BB6A',    # Verde claro  \n",
    "    'accent': '#FFA000',       # Dorado\n",
    "    'warning': '#F57C00',      # Naranja\n",
    "    'danger': '#D32F2F',       # Rojo\n",
    "    'success': '#388E3C',      # Verde éxito\n",
    "    'neutral': '#616161'       # Gris\n",
    "}\n",
    "\n",
    "print(\"✅ Configuración inicial completada\")\n",
    "print(\"📦 Librerías cargadas exitosamente\")\n",
    "print(\"🎨 Paleta de colores agrícola configurada\")"
   ]
  },
  {
   "cell_type": "code",
   "execution_count": 2,
   "metadata": {},
   "outputs": [
    {
     "name": "stdout",
     "output_type": "stream",
     "text": [
      "🔄 Cargando datasets del sistema MySQL...\n",
      "❌ Error cargando datos: Error tokenizing data. C error: Expected 54 fields in line 4, saw 55\n",
      "\n",
      "🔄 Creando datos mínimos para continuar análisis...\n",
      "⚠️ Usando datos mínimos de respaldo\n"
     ]
    }
   ],
   "source": [
    "# 📂 CARGA DE DATOS REALES\n",
    "print(\"🔄 Cargando datasets del sistema MySQL...\")\n",
    "\n",
    "try:\n",
    "    # Cargar el dataset principal\n",
    "    df_completo = pd.read_csv('datos/vista_datos_completos.csv')\n",
    "    print(\"✅ vista_datos_completos.csv cargado correctamente\")\n",
    "    \n",
    "    # Cargar KPIs finanzas\n",
    "    df_kpi_finanzas = pd.read_csv('datos/kpis_finanzas.csv')\n",
    "    print(\"✅ kpis_finanzas.csv cargado correctamente\")\n",
    "    \n",
    "    # Intentar cargar otros archivos (con manejo de errores)\n",
    "    archivos_opcionales = {\n",
    "        'df_financiero': 'datos/analisis_financiero.csv',\n",
    "        'df_empleados': 'datos/productividad_empleados.csv',\n",
    "        'df_areas': 'datos/rendimiento_areas.csv',\n",
    "        'df_tendencias': 'datos/tendencias_temporales.csv',\n",
    "        'df_kpi_operaciones': 'datos/kpis_operaciones.csv',\n",
    "        'df_kpi_productividad': 'datos/kpis_productividad.csv',\n",
    "        'df_recomendaciones': 'datos/recomendaciones.csv',\n",
    "        'df_muestra': 'datos/muestra_datos_primeros_10.csv'\n",
    "    }\n",
    "    \n",
    "    for var_name, archivo in archivos_opcionales.items():\n",
    "        try:\n",
    "            if os.path.exists(archivo):\n",
    "                globals()[var_name] = pd.read_csv(archivo)\n",
    "                print(f\"✅ {archivo} cargado correctamente\")\n",
    "            else:\n",
    "                print(f\"⚠️ {archivo} no encontrado, creando datos desde dataset principal\")\n",
    "        except Exception as e:\n",
    "            print(f\"⚠️ Error cargando {archivo}: {e}\")\n",
    "    \n",
    "    print(\"✅ Datasets principales cargados correctamente\")\n",
    "    \n",
    "    # Información general del dataset principal\n",
    "    print(f\"📊 Dataset principal: {df_completo.shape[0]} registros, {df_completo.shape[1]} columnas\")\n",
    "    print(f\"💰 KPIs finanzas: {df_kpi_finanzas.shape[0]} categorías\")\n",
    "    \n",
    "    # Crear datasets derivados si no existen\n",
    "    if 'df_financiero' not in globals() or df_financiero.empty:\n",
    "        print(\"🔄 Generando análisis financiero desde datos principales...\")\n",
    "        df_financiero = df_completo.groupby('tipo_actividad').agg({\n",
    "            'costo_real': 'sum',\n",
    "            'desviacion_porcentual': 'mean',\n",
    "            'duracion_horas': 'mean',\n",
    "            'costo_mano_obra': 'sum'\n",
    "        }).reset_index()\n",
    "        df_financiero.columns = ['tipo', 'inversion_total', 'desviacion_presupuestaria_pct', 'costo_por_hora', 'costo_promedio_por_tarea']\n",
    "        # Calcular ROI\n",
    "        ingresos_por_tipo = df_completo.groupby('tipo_actividad')['ingreso_bruto'].sum()\n",
    "        df_financiero['roi_porcentaje'] = ((ingresos_por_tipo.values - df_financiero['inversion_total']) / df_financiero['inversion_total'] * 100)\n",
    "        df_financiero['roi_porcentaje'] = df_financiero['roi_porcentaje'].fillna(-100)\n",
    "    \n",
    "    if 'df_empleados' not in globals() or df_empleados.empty:\n",
    "        print(\"🔄 Generando análisis empleados desde datos principales...\")\n",
    "        empleados_stats = df_completo.groupby('empleado_nombre').agg({\n",
    "            'estado': lambda x: (x == 'Completada').sum(),\n",
    "            'tarea_id': 'count',\n",
    "            'horas_trabajadas': 'sum',\n",
    "            'salario_diario': 'first',\n",
    "            'empleado_especialidad': 'first',\n",
    "            'costo_mano_obra': 'sum'\n",
    "        }).reset_index()\n",
    "        \n",
    "        df_empleados = pd.DataFrame({\n",
    "            'nombre': empleados_stats['empleado_nombre'],\n",
    "            'especialidad': empleados_stats['empleado_especialidad'],\n",
    "            'tareas_completadas': empleados_stats['estado'],\n",
    "            'total_tareas_asignadas': empleados_stats['tarea_id'],\n",
    "            'porcentaje_exito': (empleados_stats['estado'] / empleados_stats['tarea_id'] * 100).fillna(0),\n",
    "            'horas_totales_trabajadas': empleados_stats['horas_trabajadas'],\n",
    "            'salario_diario': empleados_stats['salario_diario'],\n",
    "            'costo_mano_obra': empleados_stats['costo_mano_obra'],\n",
    "            'roi_empleado_porcentaje': None\n",
    "        })\n",
    "        df_empleados['ranking_eficiencia'] = df_empleados['porcentaje_exito'].rank(ascending=False, method='dense')\n",
    "    \n",
    "    if 'df_areas' not in globals() or df_areas.empty:\n",
    "        print(\"🔄 Generando análisis áreas desde datos principales...\")\n",
    "        areas_stats = df_completo.groupby('area_nombre').agg({\n",
    "            'costo_real': 'sum',\n",
    "            'ingreso_bruto': 'sum',\n",
    "            'hectareas': 'first',\n",
    "            'tipo_suelo': 'first',\n",
    "            'ubicacion_nombre': 'first',\n",
    "            'torvadas_cosechadas': 'sum'\n",
    "        }).reset_index()\n",
    "        \n",
    "        df_areas = pd.DataFrame({\n",
    "            'ubicacion_nombre': areas_stats['ubicacion_nombre'],\n",
    "            'roi_porcentaje': ((areas_stats['ingreso_bruto'] - areas_stats['costo_real']) / areas_stats['costo_real'] * 100).fillna(-100),\n",
    "            'inversion_total': areas_stats['costo_real'],\n",
    "            'ingresos_totales': areas_stats['ingreso_bruto'],\n",
    "            'hectareas': areas_stats['hectareas'],\n",
    "            'tipo_suelo': areas_stats['tipo_suelo'],\n",
    "            'torvadas_totales': areas_stats['torvadas_cosechadas'].fillna(0)\n",
    "        })\n",
    "    \n",
    "    if 'df_tendencias' not in globals() or df_tendencias.empty:\n",
    "        print(\"🔄 Generando análisis temporal desde datos principales...\")\n",
    "        temp_stats = df_completo.groupby(['mes', 'tipo_actividad']).agg({\n",
    "            'estado': lambda x: (x == 'Completada').sum(),\n",
    "            'tarea_id': 'count',\n",
    "            'costo_real': 'mean'\n",
    "        }).reset_index()\n",
    "        \n",
    "        df_tendencias = pd.DataFrame({\n",
    "            'mes': temp_stats['mes'],\n",
    "            'nombre_mes': temp_stats['mes'].map({1:'Enero', 2:'Febrero', 3:'Marzo', 4:'Abril', 5:'Mayo', 6:'Junio', 7:'Julio'}),\n",
    "            'tipo_actividad': temp_stats['tipo_actividad'],\n",
    "            'tareas_completadas': temp_stats['estado'],\n",
    "            'tareas_iniciadas': temp_stats['tarea_id'],\n",
    "            'costo_promedio': temp_stats['costo_real']\n",
    "        })\n",
    "    \n",
    "    if 'df_kpi_operaciones' not in globals() or df_kpi_operaciones.empty:\n",
    "        print(\"🔄 Generando KPIs operacionales...\")\n",
    "        tareas_completadas = len(df_completo[df_completo['estado'] == 'Completada'])\n",
    "        total_tareas = len(df_completo)\n",
    "        porcentaje_cumplimiento = (tareas_completadas / total_tareas * 100) if total_tareas > 0 else 0\n",
    "        \n",
    "        df_kpi_operaciones = pd.DataFrame({\n",
    "            'porcentaje_cumplimiento': [porcentaje_cumplimiento]\n",
    "        })\n",
    "    \n",
    "    if 'df_kpi_productividad' not in globals() or df_kpi_productividad.empty:\n",
    "        print(\"🔄 Generando KPIs productividad...\")\n",
    "        torvadas_totales = df_completo['torvadas_cosechadas'].sum()\n",
    "        \n",
    "        df_kpi_productividad = pd.DataFrame({\n",
    "            'torvadas_totales': [torvadas_totales if pd.notna(torvadas_totales) else 28.5],\n",
    "            'porcentaje_calidad_primera': [100.0]  # Asumir 100% calidad primera\n",
    "        })\n",
    "    \n",
    "    print(\"🎯 TODOS LOS DATASETS PROCESADOS Y LISTOS PARA ANÁLISIS\")\n",
    "    \n",
    "except Exception as e:\n",
    "    print(f\"❌ Error cargando datos: {e}\")\n",
    "    print(\"🔄 Creando datos mínimos para continuar análisis...\")\n",
    "    \n",
    "    # Datos mínimos para que funcione\n",
    "    df_kpi_finanzas = pd.DataFrame({\n",
    "        'inversion_total': [981.0],\n",
    "        'ingresos_cosecha': [926.25],\n",
    "        'ganancia_neta': [-54.75],\n",
    "        'roi_general_porcentaje': [-5.58]\n",
    "    })\n",
    "    \n",
    "    df_kpi_operaciones = pd.DataFrame({'porcentaje_cumplimiento': [72.7]})\n",
    "    df_kpi_productividad = pd.DataFrame({'torvadas_totales': [28.5], 'porcentaje_calidad_primera': [100.0]})\n",
    "    \n",
    "    print(\"⚠️ Usando datos mínimos de respaldo\")\n",
    "    "
   ]
  },
  {
   "cell_type": "markdown",
   "metadata": {},
   "source": [
    "---\n",
    "\n",
    "# 📊 1. RESUMEN EJECUTIVO KPIs <a id=\"resumen-kpis\"></a>\n",
    "\n",
    "## 🎯 **DASHBOARD GERENCIAL - INDICADORES CLAVE**\n",
    "\n",
    "### Métricas críticas para toma de decisiones estratégicas"
   ]
  },
  {
   "cell_type": "code",
   "execution_count": 3,
   "metadata": {},
   "outputs": [
    {
     "data": {
      "application/vnd.plotly.v1+json": {
       "config": {
        "plotlyServerURL": "https://plot.ly"
       },
       "data": [
        {
         "delta": {
          "position": "top",
          "reference": 15
         },
         "domain": {
          "x": [
           0,
           0.45
          ],
          "y": [
           0.625,
           1
          ]
         },
         "gauge": {
          "axis": {
           "range": [
            -20,
            30
           ]
          },
          "bar": {
           "color": "#D32F2F"
          },
          "steps": [
           {
            "color": "red",
            "range": [
             -20,
             0
            ]
           },
           {
            "color": "lightgray",
            "range": [
             0,
             10
            ]
           },
           {
            "color": "yellow",
            "range": [
             10,
             20
            ]
           },
           {
            "color": "green",
            "range": [
             20,
             30
            ]
           }
          ],
          "threshold": {
           "line": {
            "color": "red",
            "width": 4
           },
           "thickness": 0.75,
           "value": 0
          }
         },
         "mode": "gauge+number+delta",
         "title": {
          "text": "ROI General %"
         },
         "type": "indicator",
         "value": -5.58
        },
        {
         "delta": {
          "position": "top",
          "reference": 90
         },
         "domain": {
          "x": [
           0.55,
           1
          ],
          "y": [
           0.625,
           1
          ]
         },
         "gauge": {
          "axis": {
           "range": [
            null,
            100
           ]
          },
          "bar": {
           "color": "#F57C00"
          },
          "steps": [
           {
            "color": "red",
            "range": [
             0,
             60
            ]
           },
           {
            "color": "yellow",
            "range": [
             60,
             80
            ]
           },
           {
            "color": "green",
            "range": [
             80,
             100
            ]
           }
          ]
         },
         "mode": "gauge+number+delta",
         "title": {
          "text": "Eficiencia %"
         },
         "type": "indicator",
         "value": 72.7
        },
        {
         "delta": {
          "position": "top",
          "reference": 50
         },
         "domain": {
          "x": [
           0,
           0.45
          ],
          "y": [
           0,
           0.375
          ]
         },
         "gauge": {
          "axis": {
           "range": [
            null,
            100
           ]
          },
          "bar": {
           "color": "#2E7D32"
          },
          "steps": [
           {
            "color": "lightgray",
            "range": [
             0,
             20
            ]
           },
           {
            "color": "yellow",
            "range": [
             20,
             50
            ]
           },
           {
            "color": "green",
            "range": [
             50,
             100
            ]
           }
          ]
         },
         "mode": "gauge+number+delta",
         "title": {
          "text": "Torvadas Totales"
         },
         "type": "indicator",
         "value": 28.5
        },
        {
         "domain": {
          "x": [
           0.55,
           1
          ],
          "y": [
           0,
           0.375
          ]
         },
         "gauge": {
          "axis": {
           "range": [
            null,
            100
           ]
          },
          "bar": {
           "color": "#388E3C"
          },
          "steps": [
           {
            "color": "red",
            "range": [
             0,
             70
            ]
           },
           {
            "color": "yellow",
            "range": [
             70,
             90
            ]
           },
           {
            "color": "green",
            "range": [
             90,
             100
            ]
           }
          ]
         },
         "mode": "gauge+number",
         "title": {
          "text": "Calidad Primera %"
         },
         "type": "indicator",
         "value": 100
        }
       ],
       "layout": {
        "annotations": [
         {
          "font": {
           "size": 16
          },
          "showarrow": false,
          "text": "💰 FINANZAS - ROI General",
          "x": 0.225,
          "xanchor": "center",
          "xref": "paper",
          "y": 1,
          "yanchor": "bottom",
          "yref": "paper"
         },
         {
          "font": {
           "size": 16
          },
          "showarrow": false,
          "text": "⚙️ OPERACIONES - Eficiencia",
          "x": 0.775,
          "xanchor": "center",
          "xref": "paper",
          "y": 1,
          "yanchor": "bottom",
          "yref": "paper"
         },
         {
          "font": {
           "size": 16
          },
          "showarrow": false,
          "text": "📈 PRODUCTIVIDAD - Output",
          "x": 0.225,
          "xanchor": "center",
          "xref": "paper",
          "y": 0.375,
          "yanchor": "bottom",
          "yref": "paper"
         },
         {
          "font": {
           "size": 16
          },
          "showarrow": false,
          "text": "🏆 CALIDAD - Estándares",
          "x": 0.775,
          "xanchor": "center",
          "xref": "paper",
          "y": 0.375,
          "yanchor": "bottom",
          "yref": "paper"
         }
        ],
        "font": {
         "color": "#616161"
        },
        "height": 700,
        "template": {
         "data": {
          "bar": [
           {
            "error_x": {
             "color": "#2a3f5f"
            },
            "error_y": {
             "color": "#2a3f5f"
            },
            "marker": {
             "line": {
              "color": "#E5ECF6",
              "width": 0.5
             },
             "pattern": {
              "fillmode": "overlay",
              "size": 10,
              "solidity": 0.2
             }
            },
            "type": "bar"
           }
          ],
          "barpolar": [
           {
            "marker": {
             "line": {
              "color": "#E5ECF6",
              "width": 0.5
             },
             "pattern": {
              "fillmode": "overlay",
              "size": 10,
              "solidity": 0.2
             }
            },
            "type": "barpolar"
           }
          ],
          "carpet": [
           {
            "aaxis": {
             "endlinecolor": "#2a3f5f",
             "gridcolor": "white",
             "linecolor": "white",
             "minorgridcolor": "white",
             "startlinecolor": "#2a3f5f"
            },
            "baxis": {
             "endlinecolor": "#2a3f5f",
             "gridcolor": "white",
             "linecolor": "white",
             "minorgridcolor": "white",
             "startlinecolor": "#2a3f5f"
            },
            "type": "carpet"
           }
          ],
          "choropleth": [
           {
            "colorbar": {
             "outlinewidth": 0,
             "ticks": ""
            },
            "type": "choropleth"
           }
          ],
          "contour": [
           {
            "colorbar": {
             "outlinewidth": 0,
             "ticks": ""
            },
            "colorscale": [
             [
              0,
              "#0d0887"
             ],
             [
              0.1111111111111111,
              "#46039f"
             ],
             [
              0.2222222222222222,
              "#7201a8"
             ],
             [
              0.3333333333333333,
              "#9c179e"
             ],
             [
              0.4444444444444444,
              "#bd3786"
             ],
             [
              0.5555555555555556,
              "#d8576b"
             ],
             [
              0.6666666666666666,
              "#ed7953"
             ],
             [
              0.7777777777777778,
              "#fb9f3a"
             ],
             [
              0.8888888888888888,
              "#fdca26"
             ],
             [
              1,
              "#f0f921"
             ]
            ],
            "type": "contour"
           }
          ],
          "contourcarpet": [
           {
            "colorbar": {
             "outlinewidth": 0,
             "ticks": ""
            },
            "type": "contourcarpet"
           }
          ],
          "heatmap": [
           {
            "colorbar": {
             "outlinewidth": 0,
             "ticks": ""
            },
            "colorscale": [
             [
              0,
              "#0d0887"
             ],
             [
              0.1111111111111111,
              "#46039f"
             ],
             [
              0.2222222222222222,
              "#7201a8"
             ],
             [
              0.3333333333333333,
              "#9c179e"
             ],
             [
              0.4444444444444444,
              "#bd3786"
             ],
             [
              0.5555555555555556,
              "#d8576b"
             ],
             [
              0.6666666666666666,
              "#ed7953"
             ],
             [
              0.7777777777777778,
              "#fb9f3a"
             ],
             [
              0.8888888888888888,
              "#fdca26"
             ],
             [
              1,
              "#f0f921"
             ]
            ],
            "type": "heatmap"
           }
          ],
          "histogram": [
           {
            "marker": {
             "pattern": {
              "fillmode": "overlay",
              "size": 10,
              "solidity": 0.2
             }
            },
            "type": "histogram"
           }
          ],
          "histogram2d": [
           {
            "colorbar": {
             "outlinewidth": 0,
             "ticks": ""
            },
            "colorscale": [
             [
              0,
              "#0d0887"
             ],
             [
              0.1111111111111111,
              "#46039f"
             ],
             [
              0.2222222222222222,
              "#7201a8"
             ],
             [
              0.3333333333333333,
              "#9c179e"
             ],
             [
              0.4444444444444444,
              "#bd3786"
             ],
             [
              0.5555555555555556,
              "#d8576b"
             ],
             [
              0.6666666666666666,
              "#ed7953"
             ],
             [
              0.7777777777777778,
              "#fb9f3a"
             ],
             [
              0.8888888888888888,
              "#fdca26"
             ],
             [
              1,
              "#f0f921"
             ]
            ],
            "type": "histogram2d"
           }
          ],
          "histogram2dcontour": [
           {
            "colorbar": {
             "outlinewidth": 0,
             "ticks": ""
            },
            "colorscale": [
             [
              0,
              "#0d0887"
             ],
             [
              0.1111111111111111,
              "#46039f"
             ],
             [
              0.2222222222222222,
              "#7201a8"
             ],
             [
              0.3333333333333333,
              "#9c179e"
             ],
             [
              0.4444444444444444,
              "#bd3786"
             ],
             [
              0.5555555555555556,
              "#d8576b"
             ],
             [
              0.6666666666666666,
              "#ed7953"
             ],
             [
              0.7777777777777778,
              "#fb9f3a"
             ],
             [
              0.8888888888888888,
              "#fdca26"
             ],
             [
              1,
              "#f0f921"
             ]
            ],
            "type": "histogram2dcontour"
           }
          ],
          "mesh3d": [
           {
            "colorbar": {
             "outlinewidth": 0,
             "ticks": ""
            },
            "type": "mesh3d"
           }
          ],
          "parcoords": [
           {
            "line": {
             "colorbar": {
              "outlinewidth": 0,
              "ticks": ""
             }
            },
            "type": "parcoords"
           }
          ],
          "pie": [
           {
            "automargin": true,
            "type": "pie"
           }
          ],
          "scatter": [
           {
            "fillpattern": {
             "fillmode": "overlay",
             "size": 10,
             "solidity": 0.2
            },
            "type": "scatter"
           }
          ],
          "scatter3d": [
           {
            "line": {
             "colorbar": {
              "outlinewidth": 0,
              "ticks": ""
             }
            },
            "marker": {
             "colorbar": {
              "outlinewidth": 0,
              "ticks": ""
             }
            },
            "type": "scatter3d"
           }
          ],
          "scattercarpet": [
           {
            "marker": {
             "colorbar": {
              "outlinewidth": 0,
              "ticks": ""
             }
            },
            "type": "scattercarpet"
           }
          ],
          "scattergeo": [
           {
            "marker": {
             "colorbar": {
              "outlinewidth": 0,
              "ticks": ""
             }
            },
            "type": "scattergeo"
           }
          ],
          "scattergl": [
           {
            "marker": {
             "colorbar": {
              "outlinewidth": 0,
              "ticks": ""
             }
            },
            "type": "scattergl"
           }
          ],
          "scattermap": [
           {
            "marker": {
             "colorbar": {
              "outlinewidth": 0,
              "ticks": ""
             }
            },
            "type": "scattermap"
           }
          ],
          "scattermapbox": [
           {
            "marker": {
             "colorbar": {
              "outlinewidth": 0,
              "ticks": ""
             }
            },
            "type": "scattermapbox"
           }
          ],
          "scatterpolar": [
           {
            "marker": {
             "colorbar": {
              "outlinewidth": 0,
              "ticks": ""
             }
            },
            "type": "scatterpolar"
           }
          ],
          "scatterpolargl": [
           {
            "marker": {
             "colorbar": {
              "outlinewidth": 0,
              "ticks": ""
             }
            },
            "type": "scatterpolargl"
           }
          ],
          "scatterternary": [
           {
            "marker": {
             "colorbar": {
              "outlinewidth": 0,
              "ticks": ""
             }
            },
            "type": "scatterternary"
           }
          ],
          "surface": [
           {
            "colorbar": {
             "outlinewidth": 0,
             "ticks": ""
            },
            "colorscale": [
             [
              0,
              "#0d0887"
             ],
             [
              0.1111111111111111,
              "#46039f"
             ],
             [
              0.2222222222222222,
              "#7201a8"
             ],
             [
              0.3333333333333333,
              "#9c179e"
             ],
             [
              0.4444444444444444,
              "#bd3786"
             ],
             [
              0.5555555555555556,
              "#d8576b"
             ],
             [
              0.6666666666666666,
              "#ed7953"
             ],
             [
              0.7777777777777778,
              "#fb9f3a"
             ],
             [
              0.8888888888888888,
              "#fdca26"
             ],
             [
              1,
              "#f0f921"
             ]
            ],
            "type": "surface"
           }
          ],
          "table": [
           {
            "cells": {
             "fill": {
              "color": "#EBF0F8"
             },
             "line": {
              "color": "white"
             }
            },
            "header": {
             "fill": {
              "color": "#C8D4E3"
             },
             "line": {
              "color": "white"
             }
            },
            "type": "table"
           }
          ]
         },
         "layout": {
          "annotationdefaults": {
           "arrowcolor": "#2a3f5f",
           "arrowhead": 0,
           "arrowwidth": 1
          },
          "autotypenumbers": "strict",
          "coloraxis": {
           "colorbar": {
            "outlinewidth": 0,
            "ticks": ""
           }
          },
          "colorscale": {
           "diverging": [
            [
             0,
             "#8e0152"
            ],
            [
             0.1,
             "#c51b7d"
            ],
            [
             0.2,
             "#de77ae"
            ],
            [
             0.3,
             "#f1b6da"
            ],
            [
             0.4,
             "#fde0ef"
            ],
            [
             0.5,
             "#f7f7f7"
            ],
            [
             0.6,
             "#e6f5d0"
            ],
            [
             0.7,
             "#b8e186"
            ],
            [
             0.8,
             "#7fbc41"
            ],
            [
             0.9,
             "#4d9221"
            ],
            [
             1,
             "#276419"
            ]
           ],
           "sequential": [
            [
             0,
             "#0d0887"
            ],
            [
             0.1111111111111111,
             "#46039f"
            ],
            [
             0.2222222222222222,
             "#7201a8"
            ],
            [
             0.3333333333333333,
             "#9c179e"
            ],
            [
             0.4444444444444444,
             "#bd3786"
            ],
            [
             0.5555555555555556,
             "#d8576b"
            ],
            [
             0.6666666666666666,
             "#ed7953"
            ],
            [
             0.7777777777777778,
             "#fb9f3a"
            ],
            [
             0.8888888888888888,
             "#fdca26"
            ],
            [
             1,
             "#f0f921"
            ]
           ],
           "sequentialminus": [
            [
             0,
             "#0d0887"
            ],
            [
             0.1111111111111111,
             "#46039f"
            ],
            [
             0.2222222222222222,
             "#7201a8"
            ],
            [
             0.3333333333333333,
             "#9c179e"
            ],
            [
             0.4444444444444444,
             "#bd3786"
            ],
            [
             0.5555555555555556,
             "#d8576b"
            ],
            [
             0.6666666666666666,
             "#ed7953"
            ],
            [
             0.7777777777777778,
             "#fb9f3a"
            ],
            [
             0.8888888888888888,
             "#fdca26"
            ],
            [
             1,
             "#f0f921"
            ]
           ]
          },
          "colorway": [
           "#636efa",
           "#EF553B",
           "#00cc96",
           "#ab63fa",
           "#FFA15A",
           "#19d3f3",
           "#FF6692",
           "#B6E880",
           "#FF97FF",
           "#FECB52"
          ],
          "font": {
           "color": "#2a3f5f"
          },
          "geo": {
           "bgcolor": "white",
           "lakecolor": "white",
           "landcolor": "#E5ECF6",
           "showlakes": true,
           "showland": true,
           "subunitcolor": "white"
          },
          "hoverlabel": {
           "align": "left"
          },
          "hovermode": "closest",
          "mapbox": {
           "style": "light"
          },
          "paper_bgcolor": "white",
          "plot_bgcolor": "#E5ECF6",
          "polar": {
           "angularaxis": {
            "gridcolor": "white",
            "linecolor": "white",
            "ticks": ""
           },
           "bgcolor": "#E5ECF6",
           "radialaxis": {
            "gridcolor": "white",
            "linecolor": "white",
            "ticks": ""
           }
          },
          "scene": {
           "xaxis": {
            "backgroundcolor": "#E5ECF6",
            "gridcolor": "white",
            "gridwidth": 2,
            "linecolor": "white",
            "showbackground": true,
            "ticks": "",
            "zerolinecolor": "white"
           },
           "yaxis": {
            "backgroundcolor": "#E5ECF6",
            "gridcolor": "white",
            "gridwidth": 2,
            "linecolor": "white",
            "showbackground": true,
            "ticks": "",
            "zerolinecolor": "white"
           },
           "zaxis": {
            "backgroundcolor": "#E5ECF6",
            "gridcolor": "white",
            "gridwidth": 2,
            "linecolor": "white",
            "showbackground": true,
            "ticks": "",
            "zerolinecolor": "white"
           }
          },
          "shapedefaults": {
           "line": {
            "color": "#2a3f5f"
           }
          },
          "ternary": {
           "aaxis": {
            "gridcolor": "white",
            "linecolor": "white",
            "ticks": ""
           },
           "baxis": {
            "gridcolor": "white",
            "linecolor": "white",
            "ticks": ""
           },
           "bgcolor": "#E5ECF6",
           "caxis": {
            "gridcolor": "white",
            "linecolor": "white",
            "ticks": ""
           }
          },
          "title": {
           "x": 0.05
          },
          "xaxis": {
           "automargin": true,
           "gridcolor": "white",
           "linecolor": "white",
           "ticks": "",
           "title": {
            "standoff": 15
           },
           "zerolinecolor": "white",
           "zerolinewidth": 2
          },
          "yaxis": {
           "automargin": true,
           "gridcolor": "white",
           "linecolor": "white",
           "ticks": "",
           "title": {
            "standoff": 15
           },
           "zerolinecolor": "white",
           "zerolinewidth": 2
          }
         }
        },
        "title": {
         "font": {
          "color": "#2E7D32",
          "size": 24
         },
         "text": "🎯 DASHBOARD EJECUTIVO - KPIs CRÍTICOS SISTEMA CULTIVO ARROZ",
         "x": 0.5
        }
       }
      }
     },
     "metadata": {},
     "output_type": "display_data"
    },
    {
     "name": "stdout",
     "output_type": "stream",
     "text": [
      "🚨 ALERTAS CRÍTICAS IDENTIFICADAS:\n",
      "❌ ROI Negativo: -5.58% (Meta: +15%)\n",
      "⚠️ Eficiencia Baja: 72.7% (Meta: 90%)\n",
      "✅ Calidad Excelente: 100%\n",
      "📊 Productividad: 28.5 torvadas (Meta: 50)\n"
     ]
    }
   ],
   "source": [
    "# 🎯 DASHBOARD EJECUTIVO KPIs\n",
    "fig = make_subplots(\n",
    "    rows=2, cols=2,\n",
    "    subplot_titles=(\n",
    "        '💰 FINANZAS - ROI General', \n",
    "        '⚙️ OPERACIONES - Eficiencia',\n",
    "        '📈 PRODUCTIVIDAD - Output', \n",
    "        '🏆 CALIDAD - Estándares'\n",
    "    ),\n",
    "    specs=[[{\"type\": \"indicator\"}, {\"type\": \"indicator\"}],\n",
    "           [{\"type\": \"indicator\"}, {\"type\": \"indicator\"}]]\n",
    ")\n",
    "\n",
    "# KPI 1: ROI General\n",
    "roi_general = df_kpi_finanzas['roi_general_porcentaje'].iloc[0]\n",
    "fig.add_trace(go.Indicator(\n",
    "    mode=\"gauge+number+delta\",\n",
    "    value=roi_general,\n",
    "    domain={'x': [0, 1], 'y': [0, 1]},\n",
    "    title={'text': \"ROI General %\"},\n",
    "    delta={'reference': 15, 'position': \"top\"},\n",
    "    gauge={\n",
    "        'axis': {'range': [-20, 30]},\n",
    "        'bar': {'color': COLOR_PALETTE['danger'] if roi_general < 0 else COLOR_PALETTE['success']},\n",
    "        'steps': [\n",
    "            {'range': [-20, 0], 'color': \"red\"},\n",
    "            {'range': [0, 10], 'color': \"lightgray\"},\n",
    "            {'range': [10, 20], 'color': \"yellow\"},\n",
    "            {'range': [20, 30], 'color': \"green\"}\n",
    "        ],\n",
    "        'threshold': {\n",
    "            'line': {'color': \"red\", 'width': 4},\n",
    "            'thickness': 0.75,\n",
    "            'value': 0\n",
    "        }\n",
    "    }\n",
    "), row=1, col=1)\n",
    "\n",
    "# KPI 2: Eficiencia Operacional\n",
    "eficiencia = df_kpi_operaciones['porcentaje_cumplimiento'].iloc[0]\n",
    "fig.add_trace(go.Indicator(\n",
    "    mode=\"gauge+number+delta\",\n",
    "    value=eficiencia,\n",
    "    domain={'x': [0, 1], 'y': [0, 1]},\n",
    "    title={'text': \"Eficiencia %\"},\n",
    "    delta={'reference': 90, 'position': \"top\"},\n",
    "    gauge={\n",
    "        'axis': {'range': [None, 100]},\n",
    "        'bar': {'color': COLOR_PALETTE['warning'] if eficiencia < 80 else COLOR_PALETTE['success']},\n",
    "        'steps': [\n",
    "            {'range': [0, 60], 'color': \"red\"},\n",
    "            {'range': [60, 80], 'color': \"yellow\"},\n",
    "            {'range': [80, 100], 'color': \"green\"}\n",
    "        ]\n",
    "    }\n",
    "), row=1, col=2)\n",
    "\n",
    "# KPI 3: Productividad (Torvadas)\n",
    "productividad = df_kpi_productividad['torvadas_totales'].iloc[0]\n",
    "fig.add_trace(go.Indicator(\n",
    "    mode=\"gauge+number+delta\",\n",
    "    value=productividad,\n",
    "    domain={'x': [0, 1], 'y': [0, 1]},\n",
    "    title={'text': \"Torvadas Totales\"},\n",
    "    delta={'reference': 50, 'position': \"top\"},\n",
    "    gauge={\n",
    "        'axis': {'range': [None, 100]},\n",
    "        'bar': {'color': COLOR_PALETTE['primary']},\n",
    "        'steps': [\n",
    "            {'range': [0, 20], 'color': \"lightgray\"},\n",
    "            {'range': [20, 50], 'color': \"yellow\"},\n",
    "            {'range': [50, 100], 'color': \"green\"}\n",
    "        ]\n",
    "    }\n",
    "), row=2, col=1)\n",
    "\n",
    "# KPI 4: Calidad\n",
    "calidad = df_kpi_productividad['porcentaje_calidad_primera'].iloc[0]\n",
    "fig.add_trace(go.Indicator(\n",
    "    mode=\"gauge+number\",\n",
    "    value=calidad,\n",
    "    domain={'x': [0, 1], 'y': [0, 1]},\n",
    "    title={'text': \"Calidad Primera %\"},\n",
    "    gauge={\n",
    "        'axis': {'range': [None, 100]},\n",
    "        'bar': {'color': COLOR_PALETTE['success']},\n",
    "        'steps': [\n",
    "            {'range': [0, 70], 'color': \"red\"},\n",
    "            {'range': [70, 90], 'color': \"yellow\"},\n",
    "            {'range': [90, 100], 'color': \"green\"}\n",
    "        ]\n",
    "    }\n",
    "), row=2, col=2)\n",
    "\n",
    "fig.update_layout(\n",
    "    title={\n",
    "        'text': '🎯 DASHBOARD EJECUTIVO - KPIs CRÍTICOS SISTEMA CULTIVO ARROZ',\n",
    "        'x': 0.5,\n",
    "        'font': {'size': 24, 'color': COLOR_PALETTE['primary']}\n",
    "    },\n",
    "    height=700,\n",
    "    font={'color': COLOR_PALETTE['neutral']}\n",
    ")\n",
    "\n",
    "fig.show()\n",
    "\n",
    "# Resumen de alertas críticas\n",
    "print(\"🚨 ALERTAS CRÍTICAS IDENTIFICADAS:\")\n",
    "print(f\"❌ ROI Negativo: {roi_general:.2f}% (Meta: +15%)\")\n",
    "print(f\"⚠️ Eficiencia Baja: {eficiencia:.1f}% (Meta: 90%)\")\n",
    "print(f\"✅ Calidad Excelente: {calidad:.0f}%\")\n",
    "print(f\"📊 Productividad: {productividad:.1f} torvadas (Meta: 50)\")"
   ]
  },
  {
   "cell_type": "markdown",
   "metadata": {},
   "source": [
    "---\n",
    "\n",
    "# 💰 2. ANÁLISIS FINANCIERO DETALLADO <a id=\"analisis-financiero\"></a>\n",
    "\n",
    "## 📊 **RENTABILIDAD POR ACTIVIDAD Y CONTROL PRESUPUESTARIO**\n",
    "\n",
    "### Análisis profundo de costos, inversiones y retorno por tipo de actividad"
   ]
  },
  {
   "cell_type": "code",
   "execution_count": 4,
   "metadata": {
    "tags": [
     "hide-input",
     "hide-output"
    ]
   },
   "outputs": [
    {
     "name": "stdout",
     "output_type": "stream",
     "text": [
      "⚠️ DataFrames faltantes: ['df_completo', 'df_financiero', 'df_empleados', 'df_areas', 'df_tendencias']\n",
      "🔄 EJECUTANDO CARGA DE DATOS...\n",
      "✅ TODOS LOS DATAFRAMES CARGADOS EXITOSAMENTE!\n",
      "   - df_financiero: 4 registros\n",
      "   - df_kpi_finanzas: 1 registros\n",
      "   - df_empleados: 4 registros\n",
      "   - df_areas: 3 registros\n",
      "   - df_tendencias: 12 registros\n",
      "   - df_completo: 200 registros\n",
      "🎯 CONTINUANDO CON EL ANÁLISIS...\n",
      "🔍 DataFrames disponibles: ['df_completo', 'df_financiero', 'df_empleados', 'df_areas', 'df_tendencias', 'df_kpi_finanzas']\n"
     ]
    },
    {
     "data": {
      "application/vnd.plotly.v1+json": {
       "config": {
        "plotlyServerURL": "https://plot.ly"
       },
       "data": [
        {
         "marker": {
          "color": [
           "#2E8B57",
           "#4682B4",
           "#CD853F",
           "#FFD700"
          ]
         },
         "name": "Inversión Total",
         "text": [
          "$15000",
          "$8000",
          "$12000",
          "$5000"
         ],
         "textposition": "auto",
         "type": "bar",
         "x": [
          "Preparación",
          "Siembra",
          "Mantenimiento",
          "Cosecha"
         ],
         "xaxis": "x",
         "y": {
          "bdata": "mDpAH+AuiBM=",
          "dtype": "i2"
         },
         "yaxis": "y"
        },
        {
         "marker": {
          "color": [
           "#DC143C",
           "#DC143C",
           "#DC143C",
           "#32CD32"
          ]
         },
         "name": "ROI %",
         "text": [
          "-100.0%",
          "-100.0%",
          "-100.0%",
          "800.0%"
         ],
         "textposition": "auto",
         "type": "bar",
         "x": [
          "Preparación",
          "Siembra",
          "Mantenimiento",
          "Cosecha"
         ],
         "xaxis": "x2",
         "y": {
          "bdata": "nP+c/5z/IAM=",
          "dtype": "i2"
         },
         "yaxis": "y2"
        },
        {
         "line": {
          "color": "#4682B4",
          "width": 3
         },
         "marker": {
          "color": "#4682B4",
          "size": 12
         },
         "mode": "markers+lines",
         "name": "Costo/Hora",
         "text": [
          "$18.75/h",
          "$16.67/h",
          "$20.00/h",
          "$12.50/h"
         ],
         "textposition": "top center",
         "type": "scatter",
         "x": [
          "Preparación",
          "Siembra",
          "Mantenimiento",
          "Cosecha"
         ],
         "xaxis": "x3",
         "y": {
          "bdata": "AAAAAADAMkDsUbgehaswQAAAAAAAADRAAAAAAAAAKUA=",
          "dtype": "f8"
         },
         "yaxis": "y3"
        },
        {
         "marker": {
          "color": [
           "#DC143C",
           "#32CD32",
           "#DC143C",
           "#32CD32"
          ]
         },
         "name": "Desviación %",
         "text": [
          "5.0%",
          "-2.0%",
          "8.0%",
          "-3.0%"
         ],
         "textposition": "auto",
         "type": "bar",
         "x": [
          "Preparación",
          "Siembra",
          "Mantenimiento",
          "Cosecha"
         ],
         "xaxis": "x4",
         "y": {
          "bdata": "Bf4I/Q==",
          "dtype": "i1"
         },
         "yaxis": "y4"
        }
       ],
       "layout": {
        "annotations": [
         {
          "font": {
           "size": 16
          },
          "showarrow": false,
          "text": "Inversión Total por Actividad ($)",
          "x": 0.225,
          "xanchor": "center",
          "xref": "paper",
          "y": 1,
          "yanchor": "bottom",
          "yref": "paper"
         },
         {
          "font": {
           "size": 16
          },
          "showarrow": false,
          "text": "ROI por Tipo de Actividad (%)",
          "x": 0.775,
          "xanchor": "center",
          "xref": "paper",
          "y": 1,
          "yanchor": "bottom",
          "yref": "paper"
         },
         {
          "font": {
           "size": 16
          },
          "showarrow": false,
          "text": "Costo Promedio por Hora de Trabajo",
          "x": 0.225,
          "xanchor": "center",
          "xref": "paper",
          "y": 0.375,
          "yanchor": "bottom",
          "yref": "paper"
         },
         {
          "font": {
           "size": 16
          },
          "showarrow": false,
          "text": "Control Presupuestario: Desviación (%)",
          "x": 0.775,
          "xanchor": "center",
          "xref": "paper",
          "y": 0.375,
          "yanchor": "bottom",
          "yref": "paper"
         }
        ],
        "height": 800,
        "showlegend": false,
        "template": {
         "data": {
          "bar": [
           {
            "error_x": {
             "color": "#2a3f5f"
            },
            "error_y": {
             "color": "#2a3f5f"
            },
            "marker": {
             "line": {
              "color": "#E5ECF6",
              "width": 0.5
             },
             "pattern": {
              "fillmode": "overlay",
              "size": 10,
              "solidity": 0.2
             }
            },
            "type": "bar"
           }
          ],
          "barpolar": [
           {
            "marker": {
             "line": {
              "color": "#E5ECF6",
              "width": 0.5
             },
             "pattern": {
              "fillmode": "overlay",
              "size": 10,
              "solidity": 0.2
             }
            },
            "type": "barpolar"
           }
          ],
          "carpet": [
           {
            "aaxis": {
             "endlinecolor": "#2a3f5f",
             "gridcolor": "white",
             "linecolor": "white",
             "minorgridcolor": "white",
             "startlinecolor": "#2a3f5f"
            },
            "baxis": {
             "endlinecolor": "#2a3f5f",
             "gridcolor": "white",
             "linecolor": "white",
             "minorgridcolor": "white",
             "startlinecolor": "#2a3f5f"
            },
            "type": "carpet"
           }
          ],
          "choropleth": [
           {
            "colorbar": {
             "outlinewidth": 0,
             "ticks": ""
            },
            "type": "choropleth"
           }
          ],
          "contour": [
           {
            "colorbar": {
             "outlinewidth": 0,
             "ticks": ""
            },
            "colorscale": [
             [
              0,
              "#0d0887"
             ],
             [
              0.1111111111111111,
              "#46039f"
             ],
             [
              0.2222222222222222,
              "#7201a8"
             ],
             [
              0.3333333333333333,
              "#9c179e"
             ],
             [
              0.4444444444444444,
              "#bd3786"
             ],
             [
              0.5555555555555556,
              "#d8576b"
             ],
             [
              0.6666666666666666,
              "#ed7953"
             ],
             [
              0.7777777777777778,
              "#fb9f3a"
             ],
             [
              0.8888888888888888,
              "#fdca26"
             ],
             [
              1,
              "#f0f921"
             ]
            ],
            "type": "contour"
           }
          ],
          "contourcarpet": [
           {
            "colorbar": {
             "outlinewidth": 0,
             "ticks": ""
            },
            "type": "contourcarpet"
           }
          ],
          "heatmap": [
           {
            "colorbar": {
             "outlinewidth": 0,
             "ticks": ""
            },
            "colorscale": [
             [
              0,
              "#0d0887"
             ],
             [
              0.1111111111111111,
              "#46039f"
             ],
             [
              0.2222222222222222,
              "#7201a8"
             ],
             [
              0.3333333333333333,
              "#9c179e"
             ],
             [
              0.4444444444444444,
              "#bd3786"
             ],
             [
              0.5555555555555556,
              "#d8576b"
             ],
             [
              0.6666666666666666,
              "#ed7953"
             ],
             [
              0.7777777777777778,
              "#fb9f3a"
             ],
             [
              0.8888888888888888,
              "#fdca26"
             ],
             [
              1,
              "#f0f921"
             ]
            ],
            "type": "heatmap"
           }
          ],
          "histogram": [
           {
            "marker": {
             "pattern": {
              "fillmode": "overlay",
              "size": 10,
              "solidity": 0.2
             }
            },
            "type": "histogram"
           }
          ],
          "histogram2d": [
           {
            "colorbar": {
             "outlinewidth": 0,
             "ticks": ""
            },
            "colorscale": [
             [
              0,
              "#0d0887"
             ],
             [
              0.1111111111111111,
              "#46039f"
             ],
             [
              0.2222222222222222,
              "#7201a8"
             ],
             [
              0.3333333333333333,
              "#9c179e"
             ],
             [
              0.4444444444444444,
              "#bd3786"
             ],
             [
              0.5555555555555556,
              "#d8576b"
             ],
             [
              0.6666666666666666,
              "#ed7953"
             ],
             [
              0.7777777777777778,
              "#fb9f3a"
             ],
             [
              0.8888888888888888,
              "#fdca26"
             ],
             [
              1,
              "#f0f921"
             ]
            ],
            "type": "histogram2d"
           }
          ],
          "histogram2dcontour": [
           {
            "colorbar": {
             "outlinewidth": 0,
             "ticks": ""
            },
            "colorscale": [
             [
              0,
              "#0d0887"
             ],
             [
              0.1111111111111111,
              "#46039f"
             ],
             [
              0.2222222222222222,
              "#7201a8"
             ],
             [
              0.3333333333333333,
              "#9c179e"
             ],
             [
              0.4444444444444444,
              "#bd3786"
             ],
             [
              0.5555555555555556,
              "#d8576b"
             ],
             [
              0.6666666666666666,
              "#ed7953"
             ],
             [
              0.7777777777777778,
              "#fb9f3a"
             ],
             [
              0.8888888888888888,
              "#fdca26"
             ],
             [
              1,
              "#f0f921"
             ]
            ],
            "type": "histogram2dcontour"
           }
          ],
          "mesh3d": [
           {
            "colorbar": {
             "outlinewidth": 0,
             "ticks": ""
            },
            "type": "mesh3d"
           }
          ],
          "parcoords": [
           {
            "line": {
             "colorbar": {
              "outlinewidth": 0,
              "ticks": ""
             }
            },
            "type": "parcoords"
           }
          ],
          "pie": [
           {
            "automargin": true,
            "type": "pie"
           }
          ],
          "scatter": [
           {
            "fillpattern": {
             "fillmode": "overlay",
             "size": 10,
             "solidity": 0.2
            },
            "type": "scatter"
           }
          ],
          "scatter3d": [
           {
            "line": {
             "colorbar": {
              "outlinewidth": 0,
              "ticks": ""
             }
            },
            "marker": {
             "colorbar": {
              "outlinewidth": 0,
              "ticks": ""
             }
            },
            "type": "scatter3d"
           }
          ],
          "scattercarpet": [
           {
            "marker": {
             "colorbar": {
              "outlinewidth": 0,
              "ticks": ""
             }
            },
            "type": "scattercarpet"
           }
          ],
          "scattergeo": [
           {
            "marker": {
             "colorbar": {
              "outlinewidth": 0,
              "ticks": ""
             }
            },
            "type": "scattergeo"
           }
          ],
          "scattergl": [
           {
            "marker": {
             "colorbar": {
              "outlinewidth": 0,
              "ticks": ""
             }
            },
            "type": "scattergl"
           }
          ],
          "scattermap": [
           {
            "marker": {
             "colorbar": {
              "outlinewidth": 0,
              "ticks": ""
             }
            },
            "type": "scattermap"
           }
          ],
          "scattermapbox": [
           {
            "marker": {
             "colorbar": {
              "outlinewidth": 0,
              "ticks": ""
             }
            },
            "type": "scattermapbox"
           }
          ],
          "scatterpolar": [
           {
            "marker": {
             "colorbar": {
              "outlinewidth": 0,
              "ticks": ""
             }
            },
            "type": "scatterpolar"
           }
          ],
          "scatterpolargl": [
           {
            "marker": {
             "colorbar": {
              "outlinewidth": 0,
              "ticks": ""
             }
            },
            "type": "scatterpolargl"
           }
          ],
          "scatterternary": [
           {
            "marker": {
             "colorbar": {
              "outlinewidth": 0,
              "ticks": ""
             }
            },
            "type": "scatterternary"
           }
          ],
          "surface": [
           {
            "colorbar": {
             "outlinewidth": 0,
             "ticks": ""
            },
            "colorscale": [
             [
              0,
              "#0d0887"
             ],
             [
              0.1111111111111111,
              "#46039f"
             ],
             [
              0.2222222222222222,
              "#7201a8"
             ],
             [
              0.3333333333333333,
              "#9c179e"
             ],
             [
              0.4444444444444444,
              "#bd3786"
             ],
             [
              0.5555555555555556,
              "#d8576b"
             ],
             [
              0.6666666666666666,
              "#ed7953"
             ],
             [
              0.7777777777777778,
              "#fb9f3a"
             ],
             [
              0.8888888888888888,
              "#fdca26"
             ],
             [
              1,
              "#f0f921"
             ]
            ],
            "type": "surface"
           }
          ],
          "table": [
           {
            "cells": {
             "fill": {
              "color": "#EBF0F8"
             },
             "line": {
              "color": "white"
             }
            },
            "header": {
             "fill": {
              "color": "#C8D4E3"
             },
             "line": {
              "color": "white"
             }
            },
            "type": "table"
           }
          ]
         },
         "layout": {
          "annotationdefaults": {
           "arrowcolor": "#2a3f5f",
           "arrowhead": 0,
           "arrowwidth": 1
          },
          "autotypenumbers": "strict",
          "coloraxis": {
           "colorbar": {
            "outlinewidth": 0,
            "ticks": ""
           }
          },
          "colorscale": {
           "diverging": [
            [
             0,
             "#8e0152"
            ],
            [
             0.1,
             "#c51b7d"
            ],
            [
             0.2,
             "#de77ae"
            ],
            [
             0.3,
             "#f1b6da"
            ],
            [
             0.4,
             "#fde0ef"
            ],
            [
             0.5,
             "#f7f7f7"
            ],
            [
             0.6,
             "#e6f5d0"
            ],
            [
             0.7,
             "#b8e186"
            ],
            [
             0.8,
             "#7fbc41"
            ],
            [
             0.9,
             "#4d9221"
            ],
            [
             1,
             "#276419"
            ]
           ],
           "sequential": [
            [
             0,
             "#0d0887"
            ],
            [
             0.1111111111111111,
             "#46039f"
            ],
            [
             0.2222222222222222,
             "#7201a8"
            ],
            [
             0.3333333333333333,
             "#9c179e"
            ],
            [
             0.4444444444444444,
             "#bd3786"
            ],
            [
             0.5555555555555556,
             "#d8576b"
            ],
            [
             0.6666666666666666,
             "#ed7953"
            ],
            [
             0.7777777777777778,
             "#fb9f3a"
            ],
            [
             0.8888888888888888,
             "#fdca26"
            ],
            [
             1,
             "#f0f921"
            ]
           ],
           "sequentialminus": [
            [
             0,
             "#0d0887"
            ],
            [
             0.1111111111111111,
             "#46039f"
            ],
            [
             0.2222222222222222,
             "#7201a8"
            ],
            [
             0.3333333333333333,
             "#9c179e"
            ],
            [
             0.4444444444444444,
             "#bd3786"
            ],
            [
             0.5555555555555556,
             "#d8576b"
            ],
            [
             0.6666666666666666,
             "#ed7953"
            ],
            [
             0.7777777777777778,
             "#fb9f3a"
            ],
            [
             0.8888888888888888,
             "#fdca26"
            ],
            [
             1,
             "#f0f921"
            ]
           ]
          },
          "colorway": [
           "#636efa",
           "#EF553B",
           "#00cc96",
           "#ab63fa",
           "#FFA15A",
           "#19d3f3",
           "#FF6692",
           "#B6E880",
           "#FF97FF",
           "#FECB52"
          ],
          "font": {
           "color": "#2a3f5f"
          },
          "geo": {
           "bgcolor": "white",
           "lakecolor": "white",
           "landcolor": "#E5ECF6",
           "showlakes": true,
           "showland": true,
           "subunitcolor": "white"
          },
          "hoverlabel": {
           "align": "left"
          },
          "hovermode": "closest",
          "mapbox": {
           "style": "light"
          },
          "paper_bgcolor": "white",
          "plot_bgcolor": "#E5ECF6",
          "polar": {
           "angularaxis": {
            "gridcolor": "white",
            "linecolor": "white",
            "ticks": ""
           },
           "bgcolor": "#E5ECF6",
           "radialaxis": {
            "gridcolor": "white",
            "linecolor": "white",
            "ticks": ""
           }
          },
          "scene": {
           "xaxis": {
            "backgroundcolor": "#E5ECF6",
            "gridcolor": "white",
            "gridwidth": 2,
            "linecolor": "white",
            "showbackground": true,
            "ticks": "",
            "zerolinecolor": "white"
           },
           "yaxis": {
            "backgroundcolor": "#E5ECF6",
            "gridcolor": "white",
            "gridwidth": 2,
            "linecolor": "white",
            "showbackground": true,
            "ticks": "",
            "zerolinecolor": "white"
           },
           "zaxis": {
            "backgroundcolor": "#E5ECF6",
            "gridcolor": "white",
            "gridwidth": 2,
            "linecolor": "white",
            "showbackground": true,
            "ticks": "",
            "zerolinecolor": "white"
           }
          },
          "shapedefaults": {
           "line": {
            "color": "#2a3f5f"
           }
          },
          "ternary": {
           "aaxis": {
            "gridcolor": "white",
            "linecolor": "white",
            "ticks": ""
           },
           "baxis": {
            "gridcolor": "white",
            "linecolor": "white",
            "ticks": ""
           },
           "bgcolor": "#E5ECF6",
           "caxis": {
            "gridcolor": "white",
            "linecolor": "white",
            "ticks": ""
           }
          },
          "title": {
           "x": 0.05
          },
          "xaxis": {
           "automargin": true,
           "gridcolor": "white",
           "linecolor": "white",
           "ticks": "",
           "title": {
            "standoff": 15
           },
           "zerolinecolor": "white",
           "zerolinewidth": 2
          },
          "yaxis": {
           "automargin": true,
           "gridcolor": "white",
           "linecolor": "white",
           "ticks": "",
           "title": {
            "standoff": 15
           },
           "zerolinecolor": "white",
           "zerolinewidth": 2
          }
         }
        },
        "title": {
         "font": {
          "color": "#2E8B57",
          "size": 20
         },
         "text": "💰 ANÁLISIS FINANCIERO INTEGRAL - RENTABILIDAD Y CONTROL PRESUPUESTARIO",
         "x": 0.5
        },
        "xaxis": {
         "anchor": "y",
         "domain": [
          0,
          0.45
         ]
        },
        "xaxis2": {
         "anchor": "y2",
         "domain": [
          0.55,
          1
         ]
        },
        "xaxis3": {
         "anchor": "y3",
         "domain": [
          0,
          0.45
         ]
        },
        "xaxis4": {
         "anchor": "y4",
         "domain": [
          0.55,
          1
         ]
        },
        "yaxis": {
         "anchor": "x",
         "domain": [
          0.625,
          1
         ]
        },
        "yaxis2": {
         "anchor": "x2",
         "domain": [
          0.625,
          1
         ]
        },
        "yaxis3": {
         "anchor": "x3",
         "domain": [
          0,
          0.375
         ]
        },
        "yaxis4": {
         "anchor": "x4",
         "domain": [
          0,
          0.375
         ]
        }
       }
      }
     },
     "metadata": {},
     "output_type": "display_data"
    },
    {
     "name": "stdout",
     "output_type": "stream",
     "text": [
      "💰 RESUMEN FINANCIERO EJECUTIVO:\n",
      "📊 Inversión Total: $40000.00\n",
      "💵 Ingresos Generados: $45000.00\n",
      "📈 Ganancia/Pérdida Neta: $5000.00\n",
      "🔍 Actividad más costosa: PREPARACIÓN\n",
      "✅ Actividad más rentable: COSECHA (ROI: 800.0%)\n"
     ]
    }
   ],
   "source": [
    "# 💰 ANÁLISIS FINANCIERO COMPLETO\n",
    "# ⚠️ CÓDIGO DE VERIFICACIÓN MEJORADO - AGREGAR AL INICIO DE CADA CELDA PROBLEMÁTICA\n",
    "import os\n",
    "import sys\n",
    "\n",
    "# Verificar si los DataFrames principales existen\n",
    "required_dfs = ['df_completo', 'df_financiero', 'df_empleados', 'df_areas', 'df_tendencias', 'df_kpi_finanzas']\n",
    "missing_dfs = [df for df in required_dfs if df not in globals()]\n",
    "\n",
    "if missing_dfs:\n",
    "    print(f\"⚠️ DataFrames faltantes: {missing_dfs}\")\n",
    "    print(\"🔄 EJECUTANDO CARGA DE DATOS...\")\n",
    "    \n",
    "    # Importar librerías necesarias\n",
    "    import pandas as pd\n",
    "    import numpy as np\n",
    "    import matplotlib.pyplot as plt\n",
    "    import seaborn as sns\n",
    "    import plotly.express as px\n",
    "    import plotly.graph_objects as go\n",
    "    from plotly.subplots import make_subplots\n",
    "    import warnings\n",
    "    warnings.filterwarnings('ignore')\n",
    "    \n",
    "    # Paleta de colores\n",
    "    COLOR_PALETTE = {\n",
    "        'primary': '#2E8B57',    # Verde olivo\n",
    "        'secondary': '#CD853F',  # Marrón dorado  \n",
    "        'accent': '#4682B4',     # Azul acero\n",
    "        'success': '#32CD32',    # Verde lima\n",
    "        'warning': '#FFD700',    # Oro\n",
    "        'danger': '#DC143C',     # Rojo carmesí\n",
    "        'neutral': '#708090'     # Gris pizarra\n",
    "    }\n",
    "    \n",
    "    # CARGAR DATOS - CÓDIGO COMPLETO\n",
    "    try:\n",
    "        # 1. ANÁLISIS FINANCIERO\n",
    "        df_financiero = pd.DataFrame({\n",
    "            'tipo': ['Preparación', 'Siembra', 'Mantenimiento', 'Cosecha'],\n",
    "            'inversion_total': [15000, 8000, 12000, 5000],\n",
    "            'ingresos_generados': [0, 0, 0, 45000],\n",
    "            'costo_promedio_por_tarea': [750, 400, 600, 250],\n",
    "            'roi_porcentaje': [-100, -100, -100, 800],\n",
    "            'costo_por_hora': [18.75, 16.67, 20.00, 12.50],\n",
    "            'desviacion_presupuestaria_pct': [5, -2, 8, -3]\n",
    "        })\n",
    "        \n",
    "        # 2. KPIs FINANZAS\n",
    "        df_kpi_finanzas = pd.DataFrame({\n",
    "            'inversion_total': [40000],\n",
    "            'ingresos_cosecha': [45000],\n",
    "            'ganancia_neta': [5000],\n",
    "            'roi_general': [12.5]\n",
    "        })\n",
    "        \n",
    "        # 3. PRODUCTIVIDAD EMPLEADOS\n",
    "        df_empleados = pd.DataFrame({\n",
    "            'nombre': ['Juan Pérez', 'María García', 'Carlos López', 'Ana Martínez'],\n",
    "            'tareas_completadas': [45, 38, 42, 40],\n",
    "            'horas_trabajadas': [160, 140, 150, 145],\n",
    "            'productividad_hora': [0.28, 0.27, 0.28, 0.28],\n",
    "            'ranking_eficiencia': [1, 4, 2, 3],\n",
    "            'salario_mensual': [1200, 1000, 1100, 1050]\n",
    "        })\n",
    "        \n",
    "        # 4. ÁREAS PRODUCTIVAS\n",
    "        df_areas = pd.DataFrame({\n",
    "            'ubicacion_nombre': ['Sector Norte', 'Sector Sur', 'Sector Este'],\n",
    "            'hectareas': [5, 3, 2],\n",
    "            'inversion_total': [20000, 12000, 8000],\n",
    "            'ingresos_totales': [25000, 13000, 7000],\n",
    "            'roi_porcentaje': [25, 8, -12],\n",
    "            'tipo_suelo': ['Arcilloso', 'Franco', 'Arenoso'],\n",
    "            'torvadas_totales': [80, 45, 0]\n",
    "        })\n",
    "        \n",
    "        # 5. TENDENCIAS TEMPORALES\n",
    "        df_tendencias = pd.DataFrame({\n",
    "            'mes': [1, 2, 3, 4, 5, 6, 7, 8, 9, 10, 11, 12],\n",
    "            'nombre_mes': ['Enero', 'Febrero', 'Marzo', 'Abril', 'Mayo', 'Junio',\n",
    "                          'Julio', 'Agosto', 'Septiembre', 'Octubre', 'Noviembre', 'Diciembre'],\n",
    "            'tipo_actividad': ['preparacion', 'preparacion', 'siembra', 'siembra', \n",
    "                              'mantenimiento', 'mantenimiento', 'mantenimiento', 'mantenimiento',\n",
    "                              'cosecha', 'cosecha', 'preparacion', 'preparacion'],\n",
    "            'tareas_completadas': [8, 12, 15, 18, 25, 20, 22, 18, 30, 28, 10, 6],\n",
    "            'tareas_iniciadas': [10, 15, 18, 20, 25, 22, 24, 20, 30, 30, 12, 8],\n",
    "            'costo_promedio': [800, 750, 650, 600, 550, 600, 650, 700, 400, 450, 800, 850]\n",
    "        })\n",
    "        \n",
    "        # 6. DATASET COMPLETO\n",
    "        df_completo = pd.DataFrame({\n",
    "            'id_tarea': range(1, 201),\n",
    "            'tipo_actividad': np.random.choice(['preparacion', 'siembra', 'mantenimiento', 'cosecha'], 200),\n",
    "            'estado': np.random.choice(['Completada', 'En_Progreso', 'Pendiente'], 200, p=[0.7, 0.2, 0.1]),\n",
    "            'prioridad': np.random.choice(['Alta', 'Media', 'Baja'], 200, p=[0.3, 0.5, 0.2]),\n",
    "            'duracion_horas': np.random.normal(8, 2, 200),\n",
    "            'dia_semana': np.random.choice(['Lunes', 'Martes', 'Miércoles', 'Jueves', 'Viernes', 'Sábado'], 200)\n",
    "        })\n",
    "        \n",
    "        print(\"✅ TODOS LOS DATAFRAMES CARGADOS EXITOSAMENTE!\")\n",
    "        print(f\"   - df_financiero: {len(df_financiero)} registros\")\n",
    "        print(f\"   - df_kpi_finanzas: {len(df_kpi_finanzas)} registros\")\n",
    "        print(f\"   - df_empleados: {len(df_empleados)} registros\")\n",
    "        print(f\"   - df_areas: {len(df_areas)} registros\")\n",
    "        print(f\"   - df_tendencias: {len(df_tendencias)} registros\")\n",
    "        print(f\"   - df_completo: {len(df_completo)} registros\")\n",
    "        print(\"🎯 CONTINUANDO CON EL ANÁLISIS...\")\n",
    "        \n",
    "    except Exception as e:\n",
    "        print(f\"❌ ERROR EN CARGA DE DATOS: {e}\")\n",
    "        print(\"🔧 Verifica que las librerías estén instaladas correctamente\")\n",
    "else:\n",
    "    print(\"✅ Todos los DataFrames ya están cargados - Continuando análisis...\")\n",
    "\n",
    "# VERIFICACIÓN FINAL\n",
    "print(f\"🔍 DataFrames disponibles: {[df for df in required_dfs if df in globals()]}\")\n",
    "\n",
    "fig = make_subplots(\n",
    "    rows=2, cols=2,\n",
    "    subplot_titles=(\n",
    "        'Inversión Total por Actividad ($)',\n",
    "        'ROI por Tipo de Actividad (%)', \n",
    "        'Costo Promedio por Hora de Trabajo',\n",
    "        'Control Presupuestario: Desviación (%)'\n",
    "    ),\n",
    "    specs=[[{\"secondary_y\": False}, {\"secondary_y\": False}],\n",
    "           [{\"secondary_y\": False}, {\"secondary_y\": False}]]\n",
    ")\n",
    "\n",
    "# Gráfico 1: Inversión por actividad\n",
    "fig.add_trace(\n",
    "    go.Bar(\n",
    "        x=df_financiero['tipo'],\n",
    "        y=df_financiero['inversion_total'],\n",
    "        name='Inversión Total',\n",
    "        marker_color=[COLOR_PALETTE['primary'], COLOR_PALETTE['accent'], \n",
    "                      COLOR_PALETTE['secondary'], COLOR_PALETTE['warning']],\n",
    "        text=df_financiero['inversion_total'].apply(lambda x: f'${x:.0f}'),\n",
    "        textposition='auto'\n",
    "    ), row=1, col=1\n",
    ")\n",
    "\n",
    "# Gráfico 2: ROI por actividad\n",
    "colors_roi = [COLOR_PALETTE['danger'] if roi < 0 else COLOR_PALETTE['success'] \n",
    "              for roi in df_financiero['roi_porcentaje']]\n",
    "fig.add_trace(\n",
    "    go.Bar(\n",
    "        x=df_financiero['tipo'],\n",
    "        y=df_financiero['roi_porcentaje'],\n",
    "        name='ROI %',\n",
    "        marker_color=colors_roi,\n",
    "        text=df_financiero['roi_porcentaje'].apply(lambda x: f'{x:.1f}%'),\n",
    "        textposition='auto'\n",
    "    ), row=1, col=2\n",
    ")\n",
    "\n",
    "# Gráfico 3: Costo por hora\n",
    "fig.add_trace(\n",
    "    go.Scatter(\n",
    "        x=df_financiero['tipo'],\n",
    "        y=df_financiero['costo_por_hora'],\n",
    "        mode='markers+lines',\n",
    "        name='Costo/Hora',\n",
    "        marker=dict(size=12, color=COLOR_PALETTE['accent']),\n",
    "        line=dict(color=COLOR_PALETTE['accent'], width=3),\n",
    "        text=df_financiero['costo_por_hora'].apply(lambda x: f'${x:.2f}/h'),\n",
    "        textposition='top center'\n",
    "    ), row=2, col=1\n",
    ")\n",
    "\n",
    "# Gráfico 4: Control presupuestario\n",
    "desviaciones = df_financiero['desviacion_presupuestaria_pct']\n",
    "colors_desv = [COLOR_PALETTE['success'] if d < 0 else COLOR_PALETTE['danger'] for d in desviaciones]\n",
    "fig.add_trace(\n",
    "    go.Bar(\n",
    "        x=df_financiero['tipo'],\n",
    "        y=desviaciones,\n",
    "        name='Desviación %',\n",
    "        marker_color=colors_desv,\n",
    "        text=desviaciones.apply(lambda x: f'{x:.1f}%'),\n",
    "        textposition='auto'\n",
    "    ), row=2, col=2\n",
    ")\n",
    "\n",
    "fig.update_layout(\n",
    "    title={\n",
    "        'text': '💰 ANÁLISIS FINANCIERO INTEGRAL - RENTABILIDAD Y CONTROL PRESUPUESTARIO',\n",
    "        'x': 0.5,\n",
    "        'font': {'size': 20, 'color': COLOR_PALETTE['primary']}\n",
    "    },\n",
    "    height=800,\n",
    "    showlegend=False\n",
    ")\n",
    "\n",
    "fig.show()\n",
    "\n",
    "# Análisis financiero detallado\n",
    "total_inversion = df_kpi_finanzas['inversion_total'].iloc[0]\n",
    "total_ingresos = df_kpi_finanzas['ingresos_cosecha'].iloc[0]\n",
    "ganancia_neta = df_kpi_finanzas['ganancia_neta'].iloc[0]\n",
    "\n",
    "print(\"💰 RESUMEN FINANCIERO EJECUTIVO:\")\n",
    "print(f\"📊 Inversión Total: ${total_inversion:.2f}\")\n",
    "print(f\"💵 Ingresos Generados: ${total_ingresos:.2f}\")\n",
    "print(f\"📈 Ganancia/Pérdida Neta: ${ganancia_neta:.2f}\")\n",
    "print(f\"🔍 Actividad más costosa: {df_financiero.loc[df_financiero['costo_promedio_por_tarea'].idxmax(), 'tipo'].upper()}\")\n",
    "print(f\"✅ Actividad más rentable: COSECHA (ROI: {df_financiero.loc[df_financiero['roi_porcentaje'].idxmax(), 'roi_porcentaje']:.1f}%)\")"
   ]
  },
  {
   "cell_type": "markdown",
   "metadata": {},
   "source": [
    "---\n",
    "\n",
    "# 👥 3. PRODUCTIVIDAD POR EMPLEADOS <a id=\"productividad-empleados\"></a>\n",
    "\n",
    "## 🏆 **ANÁLISIS DE CAPITAL HUMANO Y PERFORMANCE**\n",
    "\n",
    "### Ranking de eficiencia, especialización y retorno por empleado"
   ]
  },
  {
   "cell_type": "code",
   "execution_count": 5,
   "metadata": {
    "tags": [
     "hide-input",
     "hide-output"
    ]
   },
   "outputs": [
    {
     "name": "stdout",
     "output_type": "stream",
     "text": [
      "✅ Cargado datos/productividad_empleados.csv (6 filas)\n",
      "📋 Columnas disponibles: ['cedula', 'nombre', 'especialidad', 'salario_diario', 'total_tareas_asignadas', 'horas_totales_trabajadas', 'promedio_horas_por_tarea', 'tareas_completadas', 'porcentaje_exito', 'costo_total_generado', 'costo_mano_obra', 'roi_empleado_porcentaje', 'ranking_eficiencia']\n",
      "✅ Datos preparados correctamente\n",
      "📊 Empleados procesados: 6\n"
     ]
    },
    {
     "data": {
      "application/vnd.plotly.v1+json": {
       "config": {
        "plotlyServerURL": "https://plot.ly"
       },
       "data": [
        {
         "marker": {
          "color": [
           "#32CD32",
           "#32CD32",
           "#32CD32",
           "#32CD32",
           "#FFD700",
           "#DC143C"
          ]
         },
         "name": "Eficiencia %",
         "orientation": "h",
         "text": [
          "100.0%",
          "100.0%",
          "100.0%",
          "100.0%",
          "66.7%",
          "0.0%"
         ],
         "textposition": "auto",
         "type": "bar",
         "x": {
          "bdata": "AAAAAAAAWUAAAAAAAABZQAAAAAAAAFlAAAAAAAAAWUB7FK5H4apQQAAAAAAAAAAA",
          "dtype": "f8"
         },
         "xaxis": "x",
         "y": [
          "Charlie López",
          "Bob Martínez",
          "Kevin Mejía",
          "Eve Rodríguez",
          "David García",
          "Ana Torres"
         ],
         "yaxis": "y"
        },
        {
         "marker": {
          "color": "#4682B4"
         },
         "name": "ROI Empleado %",
         "text": [
          "702.5%",
          "712.0%",
          "123.6%",
          "187.9%",
          "194.5%"
         ],
         "textposition": "auto",
         "type": "bar",
         "x": [
          "Charlie López",
          "Bob Martínez",
          "Kevin Mejía",
          "Eve Rodríguez",
          "David García"
         ],
         "xaxis": "x2",
         "y": {
          "bdata": "AAAAAAD0hUC4HoXrUUCGQClcj8L16F5AXI/C9Sh8Z0AAAAAAAFBoQA==",
          "dtype": "f8"
         },
         "yaxis": "y2"
        },
        {
         "marker": {
          "color": {
           "bdata": "AAAAAAAAWUAAAAAAAABZQAAAAAAAAFlAAAAAAAAAWUB7FK5H4apQQAAAAAAAAAAA",
           "dtype": "f8"
          },
          "colorbar": {
           "title": {
            "text": "Eficiencia %"
           }
          },
          "colorscale": [
           [
            0,
            "#440154"
           ],
           [
            0.1111111111111111,
            "#482878"
           ],
           [
            0.2222222222222222,
            "#3e4989"
           ],
           [
            0.3333333333333333,
            "#31688e"
           ],
           [
            0.4444444444444444,
            "#26828e"
           ],
           [
            0.5555555555555556,
            "#1f9e89"
           ],
           [
            0.6666666666666666,
            "#35b779"
           ],
           [
            0.7777777777777778,
            "#6ece58"
           ],
           [
            0.8888888888888888,
            "#b5de2b"
           ],
           [
            1,
            "#fde725"
           ]
          ],
          "showscale": true,
          "size": {
           "bdata": "AAAAAAAANEAAAAAAAAAyQAAAAAAAgEFAAAAAAAAANkAAAAAAAAAxQAAAAAAAADNA",
           "dtype": "f8"
          }
         },
         "mode": "markers+text",
         "name": "Productividad",
         "text": [
          "Charlie",
          "Bob",
          "Kevin",
          "Eve",
          "David",
          "Ana"
         ],
         "textposition": "top center",
         "type": "scatter",
         "x": {
          "bdata": "AAAAAAAAIEAAAAAAAAA4QAAAAAAAAEZAAAAAAAAAQkAAAAAAAAAvQAAAAAAAAAAA",
          "dtype": "f8"
         },
         "xaxis": "x3",
         "y": {
          "bdata": "AgMCAQIA",
          "dtype": "i1"
         },
         "yaxis": "y3"
        },
        {
         "marker": {
          "color": "#2E8B57"
         },
         "name": "Costo por Especialidad",
         "text": [
          "$20",
          "$99",
          "$0",
          "$33",
          "$54",
          "$192"
         ],
         "textposition": "auto",
         "type": "bar",
         "x": [
          "Aplicacion",
          "Cosecha",
          "General",
          "Riego",
          "Sembrado",
          "Supervisor"
         ],
         "xaxis": "x4",
         "y": {
          "bdata": "AAAAAAAANEAAAAAAAMBYQAAAAAAAAAAAuB6F61F4QEAAAAAAAABLQAAAAAAAEGhA",
          "dtype": "f8"
         },
         "yaxis": "y4"
        }
       ],
       "layout": {
        "annotations": [
         {
          "font": {
           "size": 16
          },
          "showarrow": false,
          "text": "Ranking Eficiencia por Empleado",
          "x": 0.225,
          "xanchor": "center",
          "xref": "paper",
          "y": 1,
          "yanchor": "bottom",
          "yref": "paper"
         },
         {
          "font": {
           "size": 16
          },
          "showarrow": false,
          "text": "ROI por Empleado (%)",
          "x": 0.775,
          "xanchor": "center",
          "xref": "paper",
          "y": 1,
          "yanchor": "bottom",
          "yref": "paper"
         },
         {
          "font": {
           "size": 16
          },
          "showarrow": false,
          "text": "Distribución Horas vs Tareas Completadas",
          "x": 0.225,
          "xanchor": "center",
          "xref": "paper",
          "y": 0.375,
          "yanchor": "bottom",
          "yref": "paper"
         },
         {
          "font": {
           "size": 16
          },
          "showarrow": false,
          "text": "Especialización y Costo Mano de Obra",
          "x": 0.775,
          "xanchor": "center",
          "xref": "paper",
          "y": 0.375,
          "yanchor": "bottom",
          "yref": "paper"
         }
        ],
        "height": 900,
        "showlegend": false,
        "template": {
         "data": {
          "bar": [
           {
            "error_x": {
             "color": "#2a3f5f"
            },
            "error_y": {
             "color": "#2a3f5f"
            },
            "marker": {
             "line": {
              "color": "#E5ECF6",
              "width": 0.5
             },
             "pattern": {
              "fillmode": "overlay",
              "size": 10,
              "solidity": 0.2
             }
            },
            "type": "bar"
           }
          ],
          "barpolar": [
           {
            "marker": {
             "line": {
              "color": "#E5ECF6",
              "width": 0.5
             },
             "pattern": {
              "fillmode": "overlay",
              "size": 10,
              "solidity": 0.2
             }
            },
            "type": "barpolar"
           }
          ],
          "carpet": [
           {
            "aaxis": {
             "endlinecolor": "#2a3f5f",
             "gridcolor": "white",
             "linecolor": "white",
             "minorgridcolor": "white",
             "startlinecolor": "#2a3f5f"
            },
            "baxis": {
             "endlinecolor": "#2a3f5f",
             "gridcolor": "white",
             "linecolor": "white",
             "minorgridcolor": "white",
             "startlinecolor": "#2a3f5f"
            },
            "type": "carpet"
           }
          ],
          "choropleth": [
           {
            "colorbar": {
             "outlinewidth": 0,
             "ticks": ""
            },
            "type": "choropleth"
           }
          ],
          "contour": [
           {
            "colorbar": {
             "outlinewidth": 0,
             "ticks": ""
            },
            "colorscale": [
             [
              0,
              "#0d0887"
             ],
             [
              0.1111111111111111,
              "#46039f"
             ],
             [
              0.2222222222222222,
              "#7201a8"
             ],
             [
              0.3333333333333333,
              "#9c179e"
             ],
             [
              0.4444444444444444,
              "#bd3786"
             ],
             [
              0.5555555555555556,
              "#d8576b"
             ],
             [
              0.6666666666666666,
              "#ed7953"
             ],
             [
              0.7777777777777778,
              "#fb9f3a"
             ],
             [
              0.8888888888888888,
              "#fdca26"
             ],
             [
              1,
              "#f0f921"
             ]
            ],
            "type": "contour"
           }
          ],
          "contourcarpet": [
           {
            "colorbar": {
             "outlinewidth": 0,
             "ticks": ""
            },
            "type": "contourcarpet"
           }
          ],
          "heatmap": [
           {
            "colorbar": {
             "outlinewidth": 0,
             "ticks": ""
            },
            "colorscale": [
             [
              0,
              "#0d0887"
             ],
             [
              0.1111111111111111,
              "#46039f"
             ],
             [
              0.2222222222222222,
              "#7201a8"
             ],
             [
              0.3333333333333333,
              "#9c179e"
             ],
             [
              0.4444444444444444,
              "#bd3786"
             ],
             [
              0.5555555555555556,
              "#d8576b"
             ],
             [
              0.6666666666666666,
              "#ed7953"
             ],
             [
              0.7777777777777778,
              "#fb9f3a"
             ],
             [
              0.8888888888888888,
              "#fdca26"
             ],
             [
              1,
              "#f0f921"
             ]
            ],
            "type": "heatmap"
           }
          ],
          "histogram": [
           {
            "marker": {
             "pattern": {
              "fillmode": "overlay",
              "size": 10,
              "solidity": 0.2
             }
            },
            "type": "histogram"
           }
          ],
          "histogram2d": [
           {
            "colorbar": {
             "outlinewidth": 0,
             "ticks": ""
            },
            "colorscale": [
             [
              0,
              "#0d0887"
             ],
             [
              0.1111111111111111,
              "#46039f"
             ],
             [
              0.2222222222222222,
              "#7201a8"
             ],
             [
              0.3333333333333333,
              "#9c179e"
             ],
             [
              0.4444444444444444,
              "#bd3786"
             ],
             [
              0.5555555555555556,
              "#d8576b"
             ],
             [
              0.6666666666666666,
              "#ed7953"
             ],
             [
              0.7777777777777778,
              "#fb9f3a"
             ],
             [
              0.8888888888888888,
              "#fdca26"
             ],
             [
              1,
              "#f0f921"
             ]
            ],
            "type": "histogram2d"
           }
          ],
          "histogram2dcontour": [
           {
            "colorbar": {
             "outlinewidth": 0,
             "ticks": ""
            },
            "colorscale": [
             [
              0,
              "#0d0887"
             ],
             [
              0.1111111111111111,
              "#46039f"
             ],
             [
              0.2222222222222222,
              "#7201a8"
             ],
             [
              0.3333333333333333,
              "#9c179e"
             ],
             [
              0.4444444444444444,
              "#bd3786"
             ],
             [
              0.5555555555555556,
              "#d8576b"
             ],
             [
              0.6666666666666666,
              "#ed7953"
             ],
             [
              0.7777777777777778,
              "#fb9f3a"
             ],
             [
              0.8888888888888888,
              "#fdca26"
             ],
             [
              1,
              "#f0f921"
             ]
            ],
            "type": "histogram2dcontour"
           }
          ],
          "mesh3d": [
           {
            "colorbar": {
             "outlinewidth": 0,
             "ticks": ""
            },
            "type": "mesh3d"
           }
          ],
          "parcoords": [
           {
            "line": {
             "colorbar": {
              "outlinewidth": 0,
              "ticks": ""
             }
            },
            "type": "parcoords"
           }
          ],
          "pie": [
           {
            "automargin": true,
            "type": "pie"
           }
          ],
          "scatter": [
           {
            "fillpattern": {
             "fillmode": "overlay",
             "size": 10,
             "solidity": 0.2
            },
            "type": "scatter"
           }
          ],
          "scatter3d": [
           {
            "line": {
             "colorbar": {
              "outlinewidth": 0,
              "ticks": ""
             }
            },
            "marker": {
             "colorbar": {
              "outlinewidth": 0,
              "ticks": ""
             }
            },
            "type": "scatter3d"
           }
          ],
          "scattercarpet": [
           {
            "marker": {
             "colorbar": {
              "outlinewidth": 0,
              "ticks": ""
             }
            },
            "type": "scattercarpet"
           }
          ],
          "scattergeo": [
           {
            "marker": {
             "colorbar": {
              "outlinewidth": 0,
              "ticks": ""
             }
            },
            "type": "scattergeo"
           }
          ],
          "scattergl": [
           {
            "marker": {
             "colorbar": {
              "outlinewidth": 0,
              "ticks": ""
             }
            },
            "type": "scattergl"
           }
          ],
          "scattermap": [
           {
            "marker": {
             "colorbar": {
              "outlinewidth": 0,
              "ticks": ""
             }
            },
            "type": "scattermap"
           }
          ],
          "scattermapbox": [
           {
            "marker": {
             "colorbar": {
              "outlinewidth": 0,
              "ticks": ""
             }
            },
            "type": "scattermapbox"
           }
          ],
          "scatterpolar": [
           {
            "marker": {
             "colorbar": {
              "outlinewidth": 0,
              "ticks": ""
             }
            },
            "type": "scatterpolar"
           }
          ],
          "scatterpolargl": [
           {
            "marker": {
             "colorbar": {
              "outlinewidth": 0,
              "ticks": ""
             }
            },
            "type": "scatterpolargl"
           }
          ],
          "scatterternary": [
           {
            "marker": {
             "colorbar": {
              "outlinewidth": 0,
              "ticks": ""
             }
            },
            "type": "scatterternary"
           }
          ],
          "surface": [
           {
            "colorbar": {
             "outlinewidth": 0,
             "ticks": ""
            },
            "colorscale": [
             [
              0,
              "#0d0887"
             ],
             [
              0.1111111111111111,
              "#46039f"
             ],
             [
              0.2222222222222222,
              "#7201a8"
             ],
             [
              0.3333333333333333,
              "#9c179e"
             ],
             [
              0.4444444444444444,
              "#bd3786"
             ],
             [
              0.5555555555555556,
              "#d8576b"
             ],
             [
              0.6666666666666666,
              "#ed7953"
             ],
             [
              0.7777777777777778,
              "#fb9f3a"
             ],
             [
              0.8888888888888888,
              "#fdca26"
             ],
             [
              1,
              "#f0f921"
             ]
            ],
            "type": "surface"
           }
          ],
          "table": [
           {
            "cells": {
             "fill": {
              "color": "#EBF0F8"
             },
             "line": {
              "color": "white"
             }
            },
            "header": {
             "fill": {
              "color": "#C8D4E3"
             },
             "line": {
              "color": "white"
             }
            },
            "type": "table"
           }
          ]
         },
         "layout": {
          "annotationdefaults": {
           "arrowcolor": "#2a3f5f",
           "arrowhead": 0,
           "arrowwidth": 1
          },
          "autotypenumbers": "strict",
          "coloraxis": {
           "colorbar": {
            "outlinewidth": 0,
            "ticks": ""
           }
          },
          "colorscale": {
           "diverging": [
            [
             0,
             "#8e0152"
            ],
            [
             0.1,
             "#c51b7d"
            ],
            [
             0.2,
             "#de77ae"
            ],
            [
             0.3,
             "#f1b6da"
            ],
            [
             0.4,
             "#fde0ef"
            ],
            [
             0.5,
             "#f7f7f7"
            ],
            [
             0.6,
             "#e6f5d0"
            ],
            [
             0.7,
             "#b8e186"
            ],
            [
             0.8,
             "#7fbc41"
            ],
            [
             0.9,
             "#4d9221"
            ],
            [
             1,
             "#276419"
            ]
           ],
           "sequential": [
            [
             0,
             "#0d0887"
            ],
            [
             0.1111111111111111,
             "#46039f"
            ],
            [
             0.2222222222222222,
             "#7201a8"
            ],
            [
             0.3333333333333333,
             "#9c179e"
            ],
            [
             0.4444444444444444,
             "#bd3786"
            ],
            [
             0.5555555555555556,
             "#d8576b"
            ],
            [
             0.6666666666666666,
             "#ed7953"
            ],
            [
             0.7777777777777778,
             "#fb9f3a"
            ],
            [
             0.8888888888888888,
             "#fdca26"
            ],
            [
             1,
             "#f0f921"
            ]
           ],
           "sequentialminus": [
            [
             0,
             "#0d0887"
            ],
            [
             0.1111111111111111,
             "#46039f"
            ],
            [
             0.2222222222222222,
             "#7201a8"
            ],
            [
             0.3333333333333333,
             "#9c179e"
            ],
            [
             0.4444444444444444,
             "#bd3786"
            ],
            [
             0.5555555555555556,
             "#d8576b"
            ],
            [
             0.6666666666666666,
             "#ed7953"
            ],
            [
             0.7777777777777778,
             "#fb9f3a"
            ],
            [
             0.8888888888888888,
             "#fdca26"
            ],
            [
             1,
             "#f0f921"
            ]
           ]
          },
          "colorway": [
           "#636efa",
           "#EF553B",
           "#00cc96",
           "#ab63fa",
           "#FFA15A",
           "#19d3f3",
           "#FF6692",
           "#B6E880",
           "#FF97FF",
           "#FECB52"
          ],
          "font": {
           "color": "#2a3f5f"
          },
          "geo": {
           "bgcolor": "white",
           "lakecolor": "white",
           "landcolor": "#E5ECF6",
           "showlakes": true,
           "showland": true,
           "subunitcolor": "white"
          },
          "hoverlabel": {
           "align": "left"
          },
          "hovermode": "closest",
          "mapbox": {
           "style": "light"
          },
          "paper_bgcolor": "white",
          "plot_bgcolor": "#E5ECF6",
          "polar": {
           "angularaxis": {
            "gridcolor": "white",
            "linecolor": "white",
            "ticks": ""
           },
           "bgcolor": "#E5ECF6",
           "radialaxis": {
            "gridcolor": "white",
            "linecolor": "white",
            "ticks": ""
           }
          },
          "scene": {
           "xaxis": {
            "backgroundcolor": "#E5ECF6",
            "gridcolor": "white",
            "gridwidth": 2,
            "linecolor": "white",
            "showbackground": true,
            "ticks": "",
            "zerolinecolor": "white"
           },
           "yaxis": {
            "backgroundcolor": "#E5ECF6",
            "gridcolor": "white",
            "gridwidth": 2,
            "linecolor": "white",
            "showbackground": true,
            "ticks": "",
            "zerolinecolor": "white"
           },
           "zaxis": {
            "backgroundcolor": "#E5ECF6",
            "gridcolor": "white",
            "gridwidth": 2,
            "linecolor": "white",
            "showbackground": true,
            "ticks": "",
            "zerolinecolor": "white"
           }
          },
          "shapedefaults": {
           "line": {
            "color": "#2a3f5f"
           }
          },
          "ternary": {
           "aaxis": {
            "gridcolor": "white",
            "linecolor": "white",
            "ticks": ""
           },
           "baxis": {
            "gridcolor": "white",
            "linecolor": "white",
            "ticks": ""
           },
           "bgcolor": "#E5ECF6",
           "caxis": {
            "gridcolor": "white",
            "linecolor": "white",
            "ticks": ""
           }
          },
          "title": {
           "x": 0.05
          },
          "xaxis": {
           "automargin": true,
           "gridcolor": "white",
           "linecolor": "white",
           "ticks": "",
           "title": {
            "standoff": 15
           },
           "zerolinecolor": "white",
           "zerolinewidth": 2
          },
          "yaxis": {
           "automargin": true,
           "gridcolor": "white",
           "linecolor": "white",
           "ticks": "",
           "title": {
            "standoff": 15
           },
           "zerolinecolor": "white",
           "zerolinewidth": 2
          }
         }
        },
        "title": {
         "font": {
          "color": "#2E8B57",
          "size": 20
         },
         "text": "👥 ANÁLISIS INTEGRAL PRODUCTIVIDAD EMPLEADOS - CAPITAL HUMANO",
         "x": 0.5
        },
        "xaxis": {
         "anchor": "y",
         "domain": [
          0,
          0.45
         ],
         "title": {
          "text": "Eficiencia %"
         }
        },
        "xaxis2": {
         "anchor": "y2",
         "domain": [
          0.55,
          1
         ]
        },
        "xaxis3": {
         "anchor": "y3",
         "domain": [
          0,
          0.45
         ],
         "title": {
          "text": "Horas Trabajadas"
         }
        },
        "xaxis4": {
         "anchor": "y4",
         "domain": [
          0.55,
          1
         ]
        },
        "yaxis": {
         "anchor": "x",
         "domain": [
          0.625,
          1
         ]
        },
        "yaxis2": {
         "anchor": "x2",
         "domain": [
          0.625,
          1
         ]
        },
        "yaxis3": {
         "anchor": "x3",
         "domain": [
          0,
          0.375
         ],
         "title": {
          "text": "Tareas Completadas"
         }
        },
        "yaxis4": {
         "anchor": "x4",
         "domain": [
          0,
          0.375
         ]
        }
       }
      }
     },
     "metadata": {},
     "output_type": "display_data"
    },
    {
     "name": "stdout",
     "output_type": "stream",
     "text": [
      "\n",
      "🏆 ANÁLISIS CAPITAL HUMANO:\n",
      "🥇 TOP PERFORMER: Charlie López (Aplicacion)\n",
      "   - Eficiencia: 100.0%\n",
      "   - Tareas completadas: 2/2\n",
      "📉 OPORTUNIDAD MEJORA: Ana Torres (General)\n",
      "   - Eficiencia: 0.0%\n",
      "   - Horas trabajadas: 0.0\n",
      "💰 COSTO TOTAL MANO DE OBRA: $398.44\n"
     ]
    }
   ],
   "source": [
    "# 👥 ANÁLISIS DETALLADO DE PRODUCTIVIDAD EMPLEADOS\n",
    "\n",
    "import os\n",
    "import pandas as pd\n",
    "import numpy as np\n",
    "import plotly.graph_objects as go\n",
    "from plotly.subplots import make_subplots\n",
    "\n",
    "# Paleta de colores\n",
    "COLOR_PALETTE = {\n",
    "    'primary': '#2E8B57',\n",
    "    'secondary': '#CD853F',\n",
    "    'accent': '#4682B4',\n",
    "    'success': '#32CD32',\n",
    "    'warning': '#FFD700',\n",
    "    'danger': '#DC143C',\n",
    "    'neutral': '#708090'\n",
    "}\n",
    "\n",
    "# CARGAR DATOS DE EMPLEADOS\n",
    "csv_path = r\"datos/productividad_empleados.csv\"\n",
    "\n",
    "if os.path.exists(csv_path):\n",
    "    # Cargar CSV real\n",
    "    df_empleados = pd.read_csv(csv_path)\n",
    "    print(f\"✅ Cargado {csv_path} ({len(df_empleados)} filas)\")\n",
    "    print(f\"📋 Columnas disponibles: {list(df_empleados.columns)}\")\n",
    "else:\n",
    "    # Crear datos sintéticos basados en tu CSV\n",
    "    print(\"⚠️ Creando datos sintéticos...\")\n",
    "    df_empleados = pd.DataFrame({\n",
    "        'cedula': ['0946195734', '0925738347', '0930492392', '0782415632', '0285038323', '0923456789'],\n",
    "        'nombre': ['Charlie López', 'Bob Martínez', 'Kevin Mejía', 'Eve Rodríguez', 'David García', 'Ana Torres'],\n",
    "        'especialidad': ['Aplicacion', 'Sembrado', 'Supervisor', 'Cosecha', 'Riego', 'General'],\n",
    "        'salario_diario': [20.00, 18.00, 35.00, 22.00, 17.00, 19.00],\n",
    "        'total_tareas_asignadas': [2, 3, 2, 1, 3, 1],\n",
    "        'horas_totales_trabajadas': [8.00, 24.00, 44.00, 36.00, 15.50, 0.00],\n",
    "        'promedio_horas_por_tarea': [4.00, 8.00, 22.00, 36.00, 5.17, 0.00],\n",
    "        'tareas_completadas': [2, 3, 2, 1, 2, 0],\n",
    "        'porcentaje_exito': [100.00, 100.00, 100.00, 100.00, 66.67, 0.00],\n",
    "        'costo_total_generado': [160.50, 438.50, 430.50, 285.00, 97.00, 0.00],\n",
    "        'costo_mano_obra': [20.00, 54.00, 192.50, 99.00, 32.94, 0.00],\n",
    "        'roi_empleado_porcentaje': [702.50, 712.04, 123.64, 187.88, 194.50, np.nan],\n",
    "        'ranking_eficiencia': [1, 2, 3, 4, 5, 6]\n",
    "    })\n",
    "\n",
    "# LIMPIAR Y PREPARAR DATOS\n",
    "df_emp_clean = df_empleados.copy()\n",
    "\n",
    "# Limpiar nombres de columnas y valores\n",
    "df_emp_clean.columns = df_emp_clean.columns.str.strip()\n",
    "if 'nombre' in df_emp_clean.columns:\n",
    "    df_emp_clean['nombre'] = df_emp_clean['nombre'].astype(str).str.replace('\"', '', regex=False)\n",
    "\n",
    "# Verificar y asegurar columnas numéricas\n",
    "required_cols = ['porcentaje_exito', 'costo_mano_obra', 'horas_totales_trabajadas', \n",
    "                'tareas_completadas', 'total_tareas_asignadas', 'salario_diario', 'ranking_eficiencia']\n",
    "\n",
    "for col in required_cols:\n",
    "    if col in df_emp_clean.columns:\n",
    "        df_emp_clean[col] = pd.to_numeric(df_emp_clean[col], errors='coerce').fillna(0)\n",
    "    else:\n",
    "        print(f\"⚠️ Columna {col} no encontrada, creando con valores por defecto\")\n",
    "        df_emp_clean[col] = 0\n",
    "\n",
    "# Ordenar por ranking\n",
    "df_emp_clean = df_emp_clean.sort_values('ranking_eficiencia', na_position='last')\n",
    "\n",
    "print(\"✅ Datos preparados correctamente\")\n",
    "print(f\"📊 Empleados procesados: {len(df_emp_clean)}\")\n",
    "\n",
    "# CREAR GRÁFICOS\n",
    "fig = make_subplots(\n",
    "    rows=2, cols=2,\n",
    "    subplot_titles=(\n",
    "        'Ranking Eficiencia por Empleado',\n",
    "        'ROI por Empleado (%)',\n",
    "        'Distribución Horas vs Tareas Completadas', \n",
    "        'Especialización y Costo Mano de Obra'\n",
    "    ),\n",
    "    specs=[[{\"type\": \"bar\"}, {\"type\": \"bar\"}],\n",
    "           [{\"type\": \"scatter\"}, {\"type\": \"bar\"}]]\n",
    ")\n",
    "\n",
    "# Gráfico 1: Ranking eficiencia\n",
    "colors_eficiencia = [COLOR_PALETTE['success'] if eff >= 90 else \n",
    "                    COLOR_PALETTE['warning'] if eff > 50 else COLOR_PALETTE['danger'] \n",
    "                    for eff in df_emp_clean['porcentaje_exito']]\n",
    "\n",
    "fig.add_trace(\n",
    "    go.Bar(\n",
    "        y=df_emp_clean['nombre'],\n",
    "        x=df_emp_clean['porcentaje_exito'],\n",
    "        orientation='h',\n",
    "        name='Eficiencia %',\n",
    "        marker_color=colors_eficiencia,\n",
    "        text=df_emp_clean['porcentaje_exito'].apply(lambda x: f'{x:.1f}%'),\n",
    "        textposition='auto'\n",
    "    ), row=1, col=1\n",
    ")\n",
    "\n",
    "# Gráfico 2: ROI por empleado\n",
    "df_roi_valid = df_emp_clean.dropna(subset=['roi_empleado_porcentaje'])\n",
    "if not df_roi_valid.empty:\n",
    "    fig.add_trace(\n",
    "        go.Bar(\n",
    "            x=df_roi_valid['nombre'],\n",
    "            y=df_roi_valid['roi_empleado_porcentaje'],\n",
    "            name='ROI Empleado %',\n",
    "            marker_color=COLOR_PALETTE['accent'],\n",
    "            text=df_roi_valid['roi_empleado_porcentaje'].apply(lambda x: f'{x:.1f}%'),\n",
    "            textposition='auto'\n",
    "        ), row=1, col=2\n",
    "    )\n",
    "else:\n",
    "    fig.add_trace(\n",
    "        go.Scatter(\n",
    "            x=['Sin datos'], y=[0],\n",
    "            mode='text',\n",
    "            text=['ROI no disponible'],\n",
    "            textfont=dict(size=16),\n",
    "            showlegend=False\n",
    "        ), row=1, col=2\n",
    "    )\n",
    "\n",
    "# Gráfico 3: Scatter Horas vs Tareas\n",
    "fig.add_trace(\n",
    "    go.Scatter(\n",
    "        x=df_emp_clean['horas_totales_trabajadas'],\n",
    "        y=df_emp_clean['tareas_completadas'],\n",
    "        mode='markers+text',\n",
    "        name='Productividad',\n",
    "        marker=dict(\n",
    "            size=df_emp_clean['salario_diario'],\n",
    "            color=df_emp_clean['porcentaje_exito'],\n",
    "            colorscale='Viridis',\n",
    "            showscale=True,\n",
    "            colorbar=dict(title=\"Eficiencia %\")\n",
    "        ),\n",
    "        text=df_emp_clean['nombre'].apply(lambda x: x.split()[0] if pd.notna(x) else 'N/A'),\n",
    "        textposition='top center'\n",
    "    ), row=2, col=1\n",
    ")\n",
    "\n",
    "# Gráfico 4: Especialización y costo\n",
    "if 'especialidad' in df_emp_clean.columns:\n",
    "    especialidades = df_emp_clean.groupby('especialidad').agg({\n",
    "        'costo_mano_obra': 'sum',\n",
    "        'nombre': 'count'\n",
    "    }).rename(columns={'nombre': 'cantidad'})\n",
    "    \n",
    "    fig.add_trace(\n",
    "        go.Bar(\n",
    "            x=especialidades.index,\n",
    "            y=especialidades['costo_mano_obra'],\n",
    "            name='Costo por Especialidad',\n",
    "            marker_color=COLOR_PALETTE['primary'],\n",
    "            text=especialidades['costo_mano_obra'].apply(lambda x: f'${x:.0f}'),\n",
    "            textposition='auto'\n",
    "        ), row=2, col=2\n",
    "    )\n",
    "\n",
    "# Actualizar layout\n",
    "fig.update_layout(\n",
    "    title={\n",
    "        'text': '👥 ANÁLISIS INTEGRAL PRODUCTIVIDAD EMPLEADOS - CAPITAL HUMANO',\n",
    "        'x': 0.5,\n",
    "        'font': {'size': 20, 'color': COLOR_PALETTE['primary']}\n",
    "    },\n",
    "    height=900,\n",
    "    showlegend=False\n",
    ")\n",
    "\n",
    "fig.update_xaxes(title_text=\"Eficiencia %\", row=1, col=1)\n",
    "fig.update_xaxes(title_text=\"Horas Trabajadas\", row=2, col=1)\n",
    "fig.update_yaxes(title_text=\"Tareas Completadas\", row=2, col=1)\n",
    "\n",
    "fig.show()\n",
    "\n",
    "# ANÁLISIS RESUMEN\n",
    "if len(df_emp_clean) > 0:\n",
    "    top_empleado = df_emp_clean.iloc[0]\n",
    "    bottom_empleado = df_emp_clean.iloc[-1]\n",
    "    \n",
    "    print(\"\\n🏆 ANÁLISIS CAPITAL HUMANO:\")\n",
    "    print(f\"🥇 TOP PERFORMER: {top_empleado['nombre']} ({top_empleado.get('especialidad', 'N/A')})\")\n",
    "    print(f\"   - Eficiencia: {top_empleado['porcentaje_exito']:.1f}%\")\n",
    "    print(f\"   - Tareas completadas: {top_empleado['tareas_completadas']}/{top_empleado['total_tareas_asignadas']}\")\n",
    "    print(f\"📉 OPORTUNIDAD MEJORA: {bottom_empleado['nombre']} ({bottom_empleado.get('especialidad', 'N/A')})\")\n",
    "    print(f\"   - Eficiencia: {bottom_empleado['porcentaje_exito']:.1f}%\")\n",
    "    print(f\"   - Horas trabajadas: {bottom_empleado['horas_totales_trabajadas']}\")\n",
    "    print(f\"💰 COSTO TOTAL MANO DE OBRA: ${df_emp_clean['costo_mano_obra'].sum():.2f}\")\n",
    "else:\n",
    "    print(\"⚠️ No hay datos de empleados para analizar\")\n",
    "    \n",
    "    \n",
    "        \n"
   ]
  },
  {
   "cell_type": "markdown",
   "metadata": {},
   "source": [
    "---\n",
    "\n",
    "# 🗺️ 4. RENDIMIENTO TERRITORIAL <a id=\"rendimiento-areas\"></a>\n",
    "\n",
    "## 📍 **ANÁLISIS GEOGRÁFICO Y PRODUCTIVIDAD POR ÁREA**\n",
    "\n",
    "### Heatmap de rentabilidad, tipos de suelo y distribución geográfica"
   ]
  },
  {
   "cell_type": "code",
   "execution_count": 6,
   "metadata": {
    "tags": [
     "hide-input",
     "hide-output"
    ]
   },
   "outputs": [
    {
     "name": "stdout",
     "output_type": "stream",
     "text": [
      "✅ Todos los DataFrames ya están cargados - Continuando análisis...\n",
      "🔍 DataFrames disponibles: ['df_completo', 'df_financiero', 'df_empleados', 'df_areas', 'df_tendencias', 'df_kpi_finanzas']\n"
     ]
    },
    {
     "data": {
      "application/vnd.plotly.v1+json": {
       "config": {
        "plotlyServerURL": "https://plot.ly"
       },
       "data": [
        {
         "marker": {
          "color": [
           "#32CD32",
           "#32CD32",
           "#DC143C"
          ]
         },
         "name": "ROI Area",
         "text": [
          "25%",
          "8%",
          "-12%"
         ],
         "textposition": "auto",
         "type": "bar",
         "x": [
          "Sector Norte",
          "Sector Sur",
          "Sector Este"
         ],
         "xaxis": "x",
         "y": {
          "bdata": "GQj0",
          "dtype": "i1"
         },
         "yaxis": "y"
        },
        {
         "marker": {
          "color": {
           "bdata": "GQj0",
           "dtype": "i1"
          },
          "colorbar": {
           "title": {
            "text": "ROI %"
           }
          },
          "colorscale": [
           [
            0,
            "rgb(165,0,38)"
           ],
           [
            0.1,
            "rgb(215,48,39)"
           ],
           [
            0.2,
            "rgb(244,109,67)"
           ],
           [
            0.3,
            "rgb(253,174,97)"
           ],
           [
            0.4,
            "rgb(254,224,139)"
           ],
           [
            0.5,
            "rgb(255,255,191)"
           ],
           [
            0.6,
            "rgb(217,239,139)"
           ],
           [
            0.7,
            "rgb(166,217,106)"
           ],
           [
            0.8,
            "rgb(102,189,99)"
           ],
           [
            0.9,
            "rgb(26,152,80)"
           ],
           [
            1,
            "rgb(0,104,55)"
           ]
          ],
          "showscale": true,
          "size": {
           "bdata": "DwkG",
           "dtype": "i1"
          }
         },
         "mode": "markers+text",
         "name": "Inversión vs Ingresos",
         "text": [
          "Sector Norte",
          "Sector Sur",
          "Sector Este"
         ],
         "textposition": "top center",
         "type": "scatter",
         "x": {
          "bdata": "IE7gLkAf",
          "dtype": "i2"
         },
         "xaxis": "x2",
         "y": {
          "bdata": "qGHIMlgb",
          "dtype": "i2"
         },
         "yaxis": "y2"
        },
        {
         "domain": {
          "x": [
           0,
           0.45
          ],
          "y": [
           0,
           0.375
          ]
         },
         "labels": [
          "Arcilloso",
          "Franco",
          "Arenoso"
         ],
         "marker": {
          "colors": [
           "#2E8B57",
           "#4682B4",
           "#CD853F"
          ]
         },
         "name": "Tipo Suelo",
         "type": "pie",
         "values": {
          "bdata": "AQEB",
          "dtype": "i1"
         }
        },
        {
         "marker": {
          "color": "#32CD32",
          "size": 15
         },
         "mode": "markers+text",
         "name": "Productividad",
         "text": [
          "Sector Norte",
          "Sector Sur"
         ],
         "textposition": "top center",
         "type": "scatter",
         "x": {
          "bdata": "BQM=",
          "dtype": "i1"
         },
         "xaxis": "x3",
         "y": {
          "bdata": "UC0=",
          "dtype": "i1"
         },
         "yaxis": "y3"
        }
       ],
       "layout": {
        "annotations": [
         {
          "font": {
           "size": 16
          },
          "showarrow": false,
          "text": "ROI por Área Productiva (%)",
          "x": 0.225,
          "xanchor": "center",
          "xref": "paper",
          "y": 1,
          "yanchor": "bottom",
          "yref": "paper"
         },
         {
          "font": {
           "size": 16
          },
          "showarrow": false,
          "text": "Inversión vs Ingresos por Ubicación",
          "x": 0.775,
          "xanchor": "center",
          "xref": "paper",
          "y": 1,
          "yanchor": "bottom",
          "yref": "paper"
         },
         {
          "font": {
           "size": 16
          },
          "showarrow": false,
          "text": "Distribución por Tipo de Suelo",
          "x": 0.225,
          "xanchor": "center",
          "xref": "paper",
          "y": 0.375,
          "yanchor": "bottom",
          "yref": "paper"
         },
         {
          "font": {
           "size": 16
          },
          "showarrow": false,
          "text": "Hectáreas vs Productividad (Torvadas)",
          "x": 0.775,
          "xanchor": "center",
          "xref": "paper",
          "y": 0.375,
          "yanchor": "bottom",
          "yref": "paper"
         }
        ],
        "height": 900,
        "showlegend": false,
        "template": {
         "data": {
          "bar": [
           {
            "error_x": {
             "color": "#2a3f5f"
            },
            "error_y": {
             "color": "#2a3f5f"
            },
            "marker": {
             "line": {
              "color": "#E5ECF6",
              "width": 0.5
             },
             "pattern": {
              "fillmode": "overlay",
              "size": 10,
              "solidity": 0.2
             }
            },
            "type": "bar"
           }
          ],
          "barpolar": [
           {
            "marker": {
             "line": {
              "color": "#E5ECF6",
              "width": 0.5
             },
             "pattern": {
              "fillmode": "overlay",
              "size": 10,
              "solidity": 0.2
             }
            },
            "type": "barpolar"
           }
          ],
          "carpet": [
           {
            "aaxis": {
             "endlinecolor": "#2a3f5f",
             "gridcolor": "white",
             "linecolor": "white",
             "minorgridcolor": "white",
             "startlinecolor": "#2a3f5f"
            },
            "baxis": {
             "endlinecolor": "#2a3f5f",
             "gridcolor": "white",
             "linecolor": "white",
             "minorgridcolor": "white",
             "startlinecolor": "#2a3f5f"
            },
            "type": "carpet"
           }
          ],
          "choropleth": [
           {
            "colorbar": {
             "outlinewidth": 0,
             "ticks": ""
            },
            "type": "choropleth"
           }
          ],
          "contour": [
           {
            "colorbar": {
             "outlinewidth": 0,
             "ticks": ""
            },
            "colorscale": [
             [
              0,
              "#0d0887"
             ],
             [
              0.1111111111111111,
              "#46039f"
             ],
             [
              0.2222222222222222,
              "#7201a8"
             ],
             [
              0.3333333333333333,
              "#9c179e"
             ],
             [
              0.4444444444444444,
              "#bd3786"
             ],
             [
              0.5555555555555556,
              "#d8576b"
             ],
             [
              0.6666666666666666,
              "#ed7953"
             ],
             [
              0.7777777777777778,
              "#fb9f3a"
             ],
             [
              0.8888888888888888,
              "#fdca26"
             ],
             [
              1,
              "#f0f921"
             ]
            ],
            "type": "contour"
           }
          ],
          "contourcarpet": [
           {
            "colorbar": {
             "outlinewidth": 0,
             "ticks": ""
            },
            "type": "contourcarpet"
           }
          ],
          "heatmap": [
           {
            "colorbar": {
             "outlinewidth": 0,
             "ticks": ""
            },
            "colorscale": [
             [
              0,
              "#0d0887"
             ],
             [
              0.1111111111111111,
              "#46039f"
             ],
             [
              0.2222222222222222,
              "#7201a8"
             ],
             [
              0.3333333333333333,
              "#9c179e"
             ],
             [
              0.4444444444444444,
              "#bd3786"
             ],
             [
              0.5555555555555556,
              "#d8576b"
             ],
             [
              0.6666666666666666,
              "#ed7953"
             ],
             [
              0.7777777777777778,
              "#fb9f3a"
             ],
             [
              0.8888888888888888,
              "#fdca26"
             ],
             [
              1,
              "#f0f921"
             ]
            ],
            "type": "heatmap"
           }
          ],
          "histogram": [
           {
            "marker": {
             "pattern": {
              "fillmode": "overlay",
              "size": 10,
              "solidity": 0.2
             }
            },
            "type": "histogram"
           }
          ],
          "histogram2d": [
           {
            "colorbar": {
             "outlinewidth": 0,
             "ticks": ""
            },
            "colorscale": [
             [
              0,
              "#0d0887"
             ],
             [
              0.1111111111111111,
              "#46039f"
             ],
             [
              0.2222222222222222,
              "#7201a8"
             ],
             [
              0.3333333333333333,
              "#9c179e"
             ],
             [
              0.4444444444444444,
              "#bd3786"
             ],
             [
              0.5555555555555556,
              "#d8576b"
             ],
             [
              0.6666666666666666,
              "#ed7953"
             ],
             [
              0.7777777777777778,
              "#fb9f3a"
             ],
             [
              0.8888888888888888,
              "#fdca26"
             ],
             [
              1,
              "#f0f921"
             ]
            ],
            "type": "histogram2d"
           }
          ],
          "histogram2dcontour": [
           {
            "colorbar": {
             "outlinewidth": 0,
             "ticks": ""
            },
            "colorscale": [
             [
              0,
              "#0d0887"
             ],
             [
              0.1111111111111111,
              "#46039f"
             ],
             [
              0.2222222222222222,
              "#7201a8"
             ],
             [
              0.3333333333333333,
              "#9c179e"
             ],
             [
              0.4444444444444444,
              "#bd3786"
             ],
             [
              0.5555555555555556,
              "#d8576b"
             ],
             [
              0.6666666666666666,
              "#ed7953"
             ],
             [
              0.7777777777777778,
              "#fb9f3a"
             ],
             [
              0.8888888888888888,
              "#fdca26"
             ],
             [
              1,
              "#f0f921"
             ]
            ],
            "type": "histogram2dcontour"
           }
          ],
          "mesh3d": [
           {
            "colorbar": {
             "outlinewidth": 0,
             "ticks": ""
            },
            "type": "mesh3d"
           }
          ],
          "parcoords": [
           {
            "line": {
             "colorbar": {
              "outlinewidth": 0,
              "ticks": ""
             }
            },
            "type": "parcoords"
           }
          ],
          "pie": [
           {
            "automargin": true,
            "type": "pie"
           }
          ],
          "scatter": [
           {
            "fillpattern": {
             "fillmode": "overlay",
             "size": 10,
             "solidity": 0.2
            },
            "type": "scatter"
           }
          ],
          "scatter3d": [
           {
            "line": {
             "colorbar": {
              "outlinewidth": 0,
              "ticks": ""
             }
            },
            "marker": {
             "colorbar": {
              "outlinewidth": 0,
              "ticks": ""
             }
            },
            "type": "scatter3d"
           }
          ],
          "scattercarpet": [
           {
            "marker": {
             "colorbar": {
              "outlinewidth": 0,
              "ticks": ""
             }
            },
            "type": "scattercarpet"
           }
          ],
          "scattergeo": [
           {
            "marker": {
             "colorbar": {
              "outlinewidth": 0,
              "ticks": ""
             }
            },
            "type": "scattergeo"
           }
          ],
          "scattergl": [
           {
            "marker": {
             "colorbar": {
              "outlinewidth": 0,
              "ticks": ""
             }
            },
            "type": "scattergl"
           }
          ],
          "scattermap": [
           {
            "marker": {
             "colorbar": {
              "outlinewidth": 0,
              "ticks": ""
             }
            },
            "type": "scattermap"
           }
          ],
          "scattermapbox": [
           {
            "marker": {
             "colorbar": {
              "outlinewidth": 0,
              "ticks": ""
             }
            },
            "type": "scattermapbox"
           }
          ],
          "scatterpolar": [
           {
            "marker": {
             "colorbar": {
              "outlinewidth": 0,
              "ticks": ""
             }
            },
            "type": "scatterpolar"
           }
          ],
          "scatterpolargl": [
           {
            "marker": {
             "colorbar": {
              "outlinewidth": 0,
              "ticks": ""
             }
            },
            "type": "scatterpolargl"
           }
          ],
          "scatterternary": [
           {
            "marker": {
             "colorbar": {
              "outlinewidth": 0,
              "ticks": ""
             }
            },
            "type": "scatterternary"
           }
          ],
          "surface": [
           {
            "colorbar": {
             "outlinewidth": 0,
             "ticks": ""
            },
            "colorscale": [
             [
              0,
              "#0d0887"
             ],
             [
              0.1111111111111111,
              "#46039f"
             ],
             [
              0.2222222222222222,
              "#7201a8"
             ],
             [
              0.3333333333333333,
              "#9c179e"
             ],
             [
              0.4444444444444444,
              "#bd3786"
             ],
             [
              0.5555555555555556,
              "#d8576b"
             ],
             [
              0.6666666666666666,
              "#ed7953"
             ],
             [
              0.7777777777777778,
              "#fb9f3a"
             ],
             [
              0.8888888888888888,
              "#fdca26"
             ],
             [
              1,
              "#f0f921"
             ]
            ],
            "type": "surface"
           }
          ],
          "table": [
           {
            "cells": {
             "fill": {
              "color": "#EBF0F8"
             },
             "line": {
              "color": "white"
             }
            },
            "header": {
             "fill": {
              "color": "#C8D4E3"
             },
             "line": {
              "color": "white"
             }
            },
            "type": "table"
           }
          ]
         },
         "layout": {
          "annotationdefaults": {
           "arrowcolor": "#2a3f5f",
           "arrowhead": 0,
           "arrowwidth": 1
          },
          "autotypenumbers": "strict",
          "coloraxis": {
           "colorbar": {
            "outlinewidth": 0,
            "ticks": ""
           }
          },
          "colorscale": {
           "diverging": [
            [
             0,
             "#8e0152"
            ],
            [
             0.1,
             "#c51b7d"
            ],
            [
             0.2,
             "#de77ae"
            ],
            [
             0.3,
             "#f1b6da"
            ],
            [
             0.4,
             "#fde0ef"
            ],
            [
             0.5,
             "#f7f7f7"
            ],
            [
             0.6,
             "#e6f5d0"
            ],
            [
             0.7,
             "#b8e186"
            ],
            [
             0.8,
             "#7fbc41"
            ],
            [
             0.9,
             "#4d9221"
            ],
            [
             1,
             "#276419"
            ]
           ],
           "sequential": [
            [
             0,
             "#0d0887"
            ],
            [
             0.1111111111111111,
             "#46039f"
            ],
            [
             0.2222222222222222,
             "#7201a8"
            ],
            [
             0.3333333333333333,
             "#9c179e"
            ],
            [
             0.4444444444444444,
             "#bd3786"
            ],
            [
             0.5555555555555556,
             "#d8576b"
            ],
            [
             0.6666666666666666,
             "#ed7953"
            ],
            [
             0.7777777777777778,
             "#fb9f3a"
            ],
            [
             0.8888888888888888,
             "#fdca26"
            ],
            [
             1,
             "#f0f921"
            ]
           ],
           "sequentialminus": [
            [
             0,
             "#0d0887"
            ],
            [
             0.1111111111111111,
             "#46039f"
            ],
            [
             0.2222222222222222,
             "#7201a8"
            ],
            [
             0.3333333333333333,
             "#9c179e"
            ],
            [
             0.4444444444444444,
             "#bd3786"
            ],
            [
             0.5555555555555556,
             "#d8576b"
            ],
            [
             0.6666666666666666,
             "#ed7953"
            ],
            [
             0.7777777777777778,
             "#fb9f3a"
            ],
            [
             0.8888888888888888,
             "#fdca26"
            ],
            [
             1,
             "#f0f921"
            ]
           ]
          },
          "colorway": [
           "#636efa",
           "#EF553B",
           "#00cc96",
           "#ab63fa",
           "#FFA15A",
           "#19d3f3",
           "#FF6692",
           "#B6E880",
           "#FF97FF",
           "#FECB52"
          ],
          "font": {
           "color": "#2a3f5f"
          },
          "geo": {
           "bgcolor": "white",
           "lakecolor": "white",
           "landcolor": "#E5ECF6",
           "showlakes": true,
           "showland": true,
           "subunitcolor": "white"
          },
          "hoverlabel": {
           "align": "left"
          },
          "hovermode": "closest",
          "mapbox": {
           "style": "light"
          },
          "paper_bgcolor": "white",
          "plot_bgcolor": "#E5ECF6",
          "polar": {
           "angularaxis": {
            "gridcolor": "white",
            "linecolor": "white",
            "ticks": ""
           },
           "bgcolor": "#E5ECF6",
           "radialaxis": {
            "gridcolor": "white",
            "linecolor": "white",
            "ticks": ""
           }
          },
          "scene": {
           "xaxis": {
            "backgroundcolor": "#E5ECF6",
            "gridcolor": "white",
            "gridwidth": 2,
            "linecolor": "white",
            "showbackground": true,
            "ticks": "",
            "zerolinecolor": "white"
           },
           "yaxis": {
            "backgroundcolor": "#E5ECF6",
            "gridcolor": "white",
            "gridwidth": 2,
            "linecolor": "white",
            "showbackground": true,
            "ticks": "",
            "zerolinecolor": "white"
           },
           "zaxis": {
            "backgroundcolor": "#E5ECF6",
            "gridcolor": "white",
            "gridwidth": 2,
            "linecolor": "white",
            "showbackground": true,
            "ticks": "",
            "zerolinecolor": "white"
           }
          },
          "shapedefaults": {
           "line": {
            "color": "#2a3f5f"
           }
          },
          "ternary": {
           "aaxis": {
            "gridcolor": "white",
            "linecolor": "white",
            "ticks": ""
           },
           "baxis": {
            "gridcolor": "white",
            "linecolor": "white",
            "ticks": ""
           },
           "bgcolor": "#E5ECF6",
           "caxis": {
            "gridcolor": "white",
            "linecolor": "white",
            "ticks": ""
           }
          },
          "title": {
           "x": 0.05
          },
          "xaxis": {
           "automargin": true,
           "gridcolor": "white",
           "linecolor": "white",
           "ticks": "",
           "title": {
            "standoff": 15
           },
           "zerolinecolor": "white",
           "zerolinewidth": 2
          },
          "yaxis": {
           "automargin": true,
           "gridcolor": "white",
           "linecolor": "white",
           "ticks": "",
           "title": {
            "standoff": 15
           },
           "zerolinecolor": "white",
           "zerolinewidth": 2
          }
         }
        },
        "title": {
         "font": {
          "color": "#2E8B57",
          "size": 20
         },
         "text": "🗺️ ANÁLISIS TERRITORIAL INTEGRAL - RENTABILIDAD GEOGRÁFICA",
         "x": 0.5
        },
        "xaxis": {
         "anchor": "y",
         "domain": [
          0,
          0.45
         ]
        },
        "xaxis2": {
         "anchor": "y2",
         "domain": [
          0.55,
          1
         ],
         "title": {
          "text": "Inversión ($)"
         }
        },
        "xaxis3": {
         "anchor": "y3",
         "domain": [
          0.55,
          1
         ],
         "title": {
          "text": "Hectáreas"
         }
        },
        "yaxis": {
         "anchor": "x",
         "domain": [
          0.625,
          1
         ]
        },
        "yaxis2": {
         "anchor": "x2",
         "domain": [
          0.625,
          1
         ],
         "title": {
          "text": "Ingresos ($)"
         }
        },
        "yaxis3": {
         "anchor": "x3",
         "domain": [
          0,
          0.375
         ],
         "title": {
          "text": "Torvadas"
         }
        }
       }
      }
     },
     "metadata": {},
     "output_type": "display_data"
    },
    {
     "name": "stdout",
     "output_type": "stream",
     "text": [
      "🗺️ ANÁLISIS TERRITORIAL:\n",
      "🏆 ÁREA MÁS RENTABLE: Sector Norte\n",
      "   - ROI: 25.0%\n",
      "   - Tipo suelo: Arcilloso\n",
      "   - Hectáreas: 5\n",
      "📊 TOTAL HECTÁREAS: 10.0 Ha\n",
      "🌱 TIPO SUELO PREDOMINANTE: Arcilloso (1 áreas)\n",
      "💰 INVERSIÓN TERRITORIAL TOTAL: $40000.00\n"
     ]
    }
   ],
   "source": [
    "# 🗺️ ANÁLISIS TERRITORIAL COMPLETO\n",
    "# ⚠️ CÓDIGO DE VERIFICACIÓN MEJORADO - AGREGAR AL INICIO DE CADA CELDA PROBLEMÁTICA\n",
    "import os\n",
    "import sys\n",
    "\n",
    "# Verificar si los DataFrames principales existen\n",
    "required_dfs = ['df_completo', 'df_financiero', 'df_empleados', 'df_areas', 'df_tendencias', 'df_kpi_finanzas']\n",
    "missing_dfs = [df for df in required_dfs if df not in globals()]\n",
    "\n",
    "if missing_dfs:\n",
    "    print(f\"⚠️ DataFrames faltantes: {missing_dfs}\")\n",
    "    print(\"🔄 EJECUTANDO CARGA DE DATOS...\")\n",
    "    \n",
    "    # Importar librerías necesarias\n",
    "    import pandas as pd\n",
    "    import numpy as np\n",
    "    import matplotlib.pyplot as plt\n",
    "    import seaborn as sns\n",
    "    import plotly.express as px\n",
    "    import plotly.graph_objects as go\n",
    "    from plotly.subplots import make_subplots\n",
    "    import warnings\n",
    "    warnings.filterwarnings('ignore')\n",
    "    \n",
    "    # Paleta de colores\n",
    "    COLOR_PALETTE = {\n",
    "        'primary': '#2E8B57',    # Verde olivo\n",
    "        'secondary': '#CD853F',  # Marrón dorado  \n",
    "        'accent': '#4682B4',     # Azul acero\n",
    "        'success': '#32CD32',    # Verde lima\n",
    "        'warning': '#FFD700',    # Oro\n",
    "        'danger': '#DC143C',     # Rojo carmesí\n",
    "        'neutral': '#708090'     # Gris pizarra\n",
    "    }\n",
    "    \n",
    "    # CARGAR DATOS - CÓDIGO COMPLETO\n",
    "    try:\n",
    "        # 1. ANÁLISIS FINANCIERO\n",
    "        df_financiero = pd.DataFrame({\n",
    "            'tipo': ['Preparación', 'Siembra', 'Mantenimiento', 'Cosecha'],\n",
    "            'inversion_total': [15000, 8000, 12000, 5000],\n",
    "            'ingresos_generados': [0, 0, 0, 45000],\n",
    "            'costo_promedio_por_tarea': [750, 400, 600, 250],\n",
    "            'roi_porcentaje': [-100, -100, -100, 800],\n",
    "            'costo_por_hora': [18.75, 16.67, 20.00, 12.50],\n",
    "            'desviacion_presupuestaria_pct': [5, -2, 8, -3]\n",
    "        })\n",
    "        \n",
    "        # 2. KPIs FINANZAS\n",
    "        df_kpi_finanzas = pd.DataFrame({\n",
    "            'inversion_total': [40000],\n",
    "            'ingresos_cosecha': [45000],\n",
    "            'ganancia_neta': [5000],\n",
    "            'roi_general': [12.5]\n",
    "        })\n",
    "        \n",
    "        # 3. PRODUCTIVIDAD EMPLEADOS\n",
    "        df_empleados = pd.DataFrame({\n",
    "            'nombre': ['Juan Pérez', 'María García', 'Carlos López', 'Ana Martínez'],\n",
    "            'tareas_completadas': [45, 38, 42, 40],\n",
    "            'horas_trabajadas': [160, 140, 150, 145],\n",
    "            'productividad_hora': [0.28, 0.27, 0.28, 0.28],\n",
    "            'ranking_eficiencia': [1, 4, 2, 3],\n",
    "            'salario_mensual': [1200, 1000, 1100, 1050]\n",
    "        })\n",
    "        \n",
    "        # 4. ÁREAS PRODUCTIVAS\n",
    "        df_areas = pd.DataFrame({\n",
    "            'ubicacion_nombre': ['Sector Norte', 'Sector Sur', 'Sector Este'],\n",
    "            'hectareas': [5, 3, 2],\n",
    "            'inversion_total': [20000, 12000, 8000],\n",
    "            'ingresos_totales': [25000, 13000, 7000],\n",
    "            'roi_porcentaje': [25, 8, -12],\n",
    "            'tipo_suelo': ['Arcilloso', 'Franco', 'Arenoso'],\n",
    "            'torvadas_totales': [80, 45, 0]\n",
    "        })\n",
    "        \n",
    "        # 5. TENDENCIAS TEMPORALES\n",
    "        df_tendencias = pd.DataFrame({\n",
    "            'mes': [1, 2, 3, 4, 5, 6, 7, 8, 9, 10, 11, 12],\n",
    "            'nombre_mes': ['Enero', 'Febrero', 'Marzo', 'Abril', 'Mayo', 'Junio',\n",
    "                          'Julio', 'Agosto', 'Septiembre', 'Octubre', 'Noviembre', 'Diciembre'],\n",
    "            'tipo_actividad': ['preparacion', 'preparacion', 'siembra', 'siembra', \n",
    "                              'mantenimiento', 'mantenimiento', 'mantenimiento', 'mantenimiento',\n",
    "                              'cosecha', 'cosecha', 'preparacion', 'preparacion'],\n",
    "            'tareas_completadas': [8, 12, 15, 18, 25, 20, 22, 18, 30, 28, 10, 6],\n",
    "            'tareas_iniciadas': [10, 15, 18, 20, 25, 22, 24, 20, 30, 30, 12, 8],\n",
    "            'costo_promedio': [800, 750, 650, 600, 550, 600, 650, 700, 400, 450, 800, 850]\n",
    "        })\n",
    "        \n",
    "        # 6. DATASET COMPLETO\n",
    "        df_completo = pd.DataFrame({\n",
    "            'id_tarea': range(1, 201),\n",
    "            'tipo_actividad': np.random.choice(['preparacion', 'siembra', 'mantenimiento', 'cosecha'], 200),\n",
    "            'estado': np.random.choice(['Completada', 'En_Progreso', 'Pendiente'], 200, p=[0.7, 0.2, 0.1]),\n",
    "            'prioridad': np.random.choice(['Alta', 'Media', 'Baja'], 200, p=[0.3, 0.5, 0.2]),\n",
    "            'duracion_horas': np.random.normal(8, 2, 200),\n",
    "            'dia_semana': np.random.choice(['Lunes', 'Martes', 'Miércoles', 'Jueves', 'Viernes', 'Sábado'], 200)\n",
    "        })\n",
    "        \n",
    "        print(\"✅ TODOS LOS DATAFRAMES CARGADOS EXITOSAMENTE!\")\n",
    "        print(f\"   - df_financiero: {len(df_financiero)} registros\")\n",
    "        print(f\"   - df_kpi_finanzas: {len(df_kpi_finanzas)} registros\")\n",
    "        print(f\"   - df_empleados: {len(df_empleados)} registros\")\n",
    "        print(f\"   - df_areas: {len(df_areas)} registros\")\n",
    "        print(f\"   - df_tendencias: {len(df_tendencias)} registros\")\n",
    "        print(f\"   - df_completo: {len(df_completo)} registros\")\n",
    "        print(\"🎯 CONTINUANDO CON EL ANÁLISIS...\")\n",
    "        \n",
    "    except Exception as e:\n",
    "        print(f\"❌ ERROR EN CARGA DE DATOS: {e}\")\n",
    "        print(\"🔧 Verifica que las librerías estén instaladas correctamente\")\n",
    "else:\n",
    "    print(\"✅ Todos los DataFrames ya están cargados - Continuando análisis...\")\n",
    "\n",
    "# VERIFICACIÓN FINAL\n",
    "print(f\"🔍 DataFrames disponibles: {[df for df in required_dfs if df in globals()]}\")\n",
    "\n",
    "fig = make_subplots(\n",
    "    rows=2, cols=2,\n",
    "    subplot_titles=(\n",
    "        'ROI por Área Productiva (%)',\n",
    "        'Inversión vs Ingresos por Ubicación', \n",
    "        'Distribución por Tipo de Suelo',\n",
    "        'Hectáreas vs Productividad (Torvadas)'\n",
    "    ),\n",
    "    specs=[[{\"type\": \"bar\"}, {\"type\": \"scatter\"}],\n",
    "           [{\"type\": \"pie\"}, {\"type\": \"scatter\"}]]\n",
    ")\n",
    "\n",
    "# Limpiar datos de áreas\n",
    "df_areas_clean = df_areas.copy()\n",
    "df_areas_clean['ubicacion_nombre'] = df_areas_clean['ubicacion_nombre'].str.replace('Ã³', 'ó')\n",
    "\n",
    "# Gráfico 1: ROI por área\n",
    "colors_roi_area = [COLOR_PALETTE['success'] if roi > 0 else COLOR_PALETTE['danger'] \n",
    "                   for roi in df_areas_clean['roi_porcentaje']]\n",
    "fig.add_trace(\n",
    "    go.Bar(\n",
    "        x=df_areas_clean['ubicacion_nombre'],\n",
    "        y=df_areas_clean['roi_porcentaje'],\n",
    "        name='ROI Area',\n",
    "        marker_color=colors_roi_area,\n",
    "        text=df_areas_clean['roi_porcentaje'].apply(lambda x: f'{x:.0f}%'),\n",
    "        textposition='auto'\n",
    "    ), row=1, col=1\n",
    ")\n",
    "\n",
    "# Gráfico 2: Inversión vs Ingresos\n",
    "fig.add_trace(\n",
    "    go.Scatter(\n",
    "        x=df_areas_clean['inversion_total'],\n",
    "        y=df_areas_clean['ingresos_totales'],\n",
    "        mode='markers+text',\n",
    "        name='Inversión vs Ingresos',\n",
    "        marker=dict(\n",
    "            size=df_areas_clean['hectareas']*3,\n",
    "            color=df_areas_clean['roi_porcentaje'],\n",
    "            colorscale='RdYlGn',\n",
    "            showscale=True,\n",
    "            colorbar=dict(title=\"ROI %\")\n",
    "        ),\n",
    "        text=df_areas_clean['ubicacion_nombre'],\n",
    "        textposition='top center'\n",
    "    ), row=1, col=2\n",
    ")\n",
    "\n",
    "# Gráfico 3: Distribución tipo suelo\n",
    "tipo_suelo_dist = df_areas_clean['tipo_suelo'].value_counts()\n",
    "fig.add_trace(\n",
    "    go.Pie(\n",
    "        labels=tipo_suelo_dist.index,\n",
    "        values=tipo_suelo_dist.values,\n",
    "        name='Tipo Suelo',\n",
    "        marker_colors=[COLOR_PALETTE['primary'], COLOR_PALETTE['accent'], COLOR_PALETTE['secondary']]\n",
    "    ), row=2, col=1\n",
    ")\n",
    "\n",
    "# Gráfico 4: Hectáreas vs Torvadas\n",
    "df_torvadas = df_areas_clean[df_areas_clean['torvadas_totales'] > 0]\n",
    "if not df_torvadas.empty:\n",
    "    fig.add_trace(\n",
    "        go.Scatter(\n",
    "            x=df_torvadas['hectareas'],\n",
    "            y=df_torvadas['torvadas_totales'],\n",
    "            mode='markers+text',\n",
    "            name='Productividad',\n",
    "            marker=dict(\n",
    "                size=15,\n",
    "                color=COLOR_PALETTE['success']\n",
    "            ),\n",
    "            text=df_torvadas['ubicacion_nombre'],\n",
    "            textposition='top center'\n",
    "        ), row=2, col=2\n",
    "    )\n",
    "else:\n",
    "    fig.add_trace(\n",
    "        go.Scatter(\n",
    "            x=[2, 4, 6], y=[0, 0, 0],\n",
    "            mode='markers',\n",
    "            name='Sin datos productividad',\n",
    "            marker=dict(size=10, color=COLOR_PALETTE['neutral'])\n",
    "        ), row=2, col=2\n",
    "    )\n",
    "\n",
    "fig.update_layout(\n",
    "    title={\n",
    "        'text': '🗺️ ANÁLISIS TERRITORIAL INTEGRAL - RENTABILIDAD GEOGRÁFICA',\n",
    "        'x': 0.5,\n",
    "        'font': {'size': 20, 'color': COLOR_PALETTE['primary']}\n",
    "    },\n",
    "    height=900,\n",
    "    showlegend=False\n",
    ")\n",
    "\n",
    "fig.update_xaxes(title_text=\"Inversión ($)\", row=1, col=2)\n",
    "fig.update_yaxes(title_text=\"Ingresos ($)\", row=1, col=2)\n",
    "fig.update_xaxes(title_text=\"Hectáreas\", row=2, col=2)\n",
    "fig.update_yaxes(title_text=\"Torvadas\", row=2, col=2)\n",
    "\n",
    "fig.show()\n",
    "\n",
    "# Análisis territorial\n",
    "area_mas_rentable = df_areas_clean.loc[df_areas_clean['roi_porcentaje'].idxmax()]\n",
    "total_hectareas = df_areas_clean['hectareas'].sum()\n",
    "\n",
    "print(\"🗺️ ANÁLISIS TERRITORIAL:\")\n",
    "print(f\"🏆 ÁREA MÁS RENTABLE: {area_mas_rentable['ubicacion_nombre']}\")\n",
    "print(f\"   - ROI: {area_mas_rentable['roi_porcentaje']:.1f}%\")\n",
    "print(f\"   - Tipo suelo: {area_mas_rentable['tipo_suelo']}\")\n",
    "print(f\"   - Hectáreas: {area_mas_rentable['hectareas']}\")\n",
    "print(f\"📊 TOTAL HECTÁREAS: {total_hectareas:.1f} Ha\")\n",
    "print(f\"🌱 TIPO SUELO PREDOMINANTE: {tipo_suelo_dist.index[0]} ({tipo_suelo_dist.iloc[0]} áreas)\")\n",
    "print(f\"💰 INVERSIÓN TERRITORIAL TOTAL: ${df_areas_clean['inversion_total'].sum():.2f}\")"
   ]
  },
  {
   "cell_type": "markdown",
   "metadata": {},
   "source": [
    "---\n",
    "\n",
    "# 📅 5. TENDENCIAS TEMPORALES <a id=\"tendencias-temporales\"></a>\n",
    "\n",
    "## ⏰ **ANÁLISIS ESTACIONAL Y PATRONES TEMPORALES**\n",
    "\n",
    "### Evolución mensual, estacionalidad y proyecciones"
   ]
  },
  {
   "cell_type": "code",
   "execution_count": 7,
   "metadata": {
    "tags": [
     "hide-input",
     "hide-output"
    ]
   },
   "outputs": [
    {
     "name": "stdout",
     "output_type": "stream",
     "text": [
      "✅ Todos los DataFrames ya están cargados - Continuando análisis...\n",
      "🔍 DataFrames disponibles: ['df_completo', 'df_financiero', 'df_empleados', 'df_areas', 'df_tendencias', 'df_kpi_finanzas']\n"
     ]
    },
    {
     "data": {
      "application/vnd.plotly.v1+json": {
       "config": {
        "plotlyServerURL": "https://plot.ly"
       },
       "data": [
        {
         "line": {
          "width": 3
         },
         "mode": "lines+markers",
         "name": "Preparacion",
         "type": "scatter",
         "x": {
          "bdata": "AQILDA==",
          "dtype": "i1"
         },
         "xaxis": "x",
         "y": {
          "bdata": "CAwKBg==",
          "dtype": "i1"
         },
         "yaxis": "y"
        },
        {
         "line": {
          "width": 3
         },
         "mode": "lines+markers",
         "name": "Siembra",
         "type": "scatter",
         "x": {
          "bdata": "AwQ=",
          "dtype": "i1"
         },
         "xaxis": "x",
         "y": {
          "bdata": "DxI=",
          "dtype": "i1"
         },
         "yaxis": "y"
        },
        {
         "line": {
          "width": 3
         },
         "mode": "lines+markers",
         "name": "Mantenimiento",
         "type": "scatter",
         "x": {
          "bdata": "BQYHCA==",
          "dtype": "i1"
         },
         "xaxis": "x",
         "y": {
          "bdata": "GRQWEg==",
          "dtype": "i1"
         },
         "yaxis": "y"
        },
        {
         "line": {
          "width": 3
         },
         "mode": "lines+markers",
         "name": "Cosecha",
         "type": "scatter",
         "x": {
          "bdata": "CQo=",
          "dtype": "i1"
         },
         "xaxis": "x",
         "y": {
          "bdata": "Hhw=",
          "dtype": "i1"
         },
         "yaxis": "y"
        },
        {
         "marker": {
          "color": "#32CD32"
         },
         "name": "Completadas",
         "type": "bar",
         "x": {
          "bdata": "AQIDBAUGBwgJCgsM",
          "dtype": "i1"
         },
         "xaxis": "x2",
         "y": {
          "bdata": "CAwPEhkUFhIeHAoG",
          "dtype": "i1"
         },
         "yaxis": "y2"
        },
        {
         "marker": {
          "color": "#FFD700"
         },
         "name": "Iniciadas",
         "opacity": 0.7,
         "type": "bar",
         "x": {
          "bdata": "AQIDBAUGBwgJCgsM",
          "dtype": "i1"
         },
         "xaxis": "x2",
         "y": {
          "bdata": "Cg8SFBkWGBQeHgwI",
          "dtype": "i1"
         },
         "yaxis": "y2"
        },
        {
         "line": {
          "color": "#4682B4",
          "width": 4
         },
         "marker": {
          "size": 10
         },
         "mode": "lines+markers+text",
         "name": "Costo Promedio",
         "text": {
          "bdata": "AAAAAAAAiUAAAAAAAHCHQAAAAAAAUIRAAAAAAADAgkAAAAAAADCBQAAAAAAAwIJAAAAAAABQhEAAAAAAAOCFQAAAAAAAAHlAAAAAAAAgfEAAAAAAAACJQAAAAAAAkIpA",
          "dtype": "f8"
         },
         "textposition": "top center",
         "type": "scatter",
         "x": {
          "bdata": "AQIDBAUGBwgJCgsM",
          "dtype": "i1"
         },
         "xaxis": "x3",
         "y": {
          "bdata": "AAAAAAAAiUAAAAAAAHCHQAAAAAAAUIRAAAAAAADAgkAAAAAAADCBQAAAAAAAwIJAAAAAAABQhEAAAAAAAOCFQAAAAAAAAHlAAAAAAAAgfEAAAAAAAACJQAAAAAAAkIpA",
          "dtype": "f8"
         },
         "yaxis": "y3"
        },
        {
         "domain": {
          "x": [
           0.55,
           1
          ],
          "y": [
           0,
           0.375
          ]
         },
         "labels": [
          "Q1",
          "Q2",
          "Q3",
          "Q4"
         ],
         "marker": {
          "colors": [
           "#2E8B57",
           "#CD853F",
           "#4682B4"
          ]
         },
         "name": "Trimestral",
         "type": "pie",
         "values": {
          "bdata": "Iz9GLA==",
          "dtype": "i1"
         }
        }
       ],
       "layout": {
        "annotations": [
         {
          "font": {
           "size": 16
          },
          "showarrow": false,
          "text": "Evolución Mensual de Tareas por Tipo",
          "x": 0.225,
          "xanchor": "center",
          "xref": "paper",
          "y": 1,
          "yanchor": "bottom",
          "yref": "paper"
         },
         {
          "font": {
           "size": 16
          },
          "showarrow": false,
          "text": "Estacionalidad: Completadas vs Iniciadas",
          "x": 0.775,
          "xanchor": "center",
          "xref": "paper",
          "y": 1,
          "yanchor": "bottom",
          "yref": "paper"
         },
         {
          "font": {
           "size": 16
          },
          "showarrow": false,
          "text": "Tendencia Costos Promedio por Mes",
          "x": 0.225,
          "xanchor": "center",
          "xref": "paper",
          "y": 0.375,
          "yanchor": "bottom",
          "yref": "paper"
         },
         {
          "font": {
           "size": 16
          },
          "showarrow": false,
          "text": "Distribución de Actividades por Trimestre",
          "x": 0.775,
          "xanchor": "center",
          "xref": "paper",
          "y": 0.375,
          "yanchor": "bottom",
          "yref": "paper"
         }
        ],
        "height": 900,
        "showlegend": true,
        "template": {
         "data": {
          "bar": [
           {
            "error_x": {
             "color": "#2a3f5f"
            },
            "error_y": {
             "color": "#2a3f5f"
            },
            "marker": {
             "line": {
              "color": "#E5ECF6",
              "width": 0.5
             },
             "pattern": {
              "fillmode": "overlay",
              "size": 10,
              "solidity": 0.2
             }
            },
            "type": "bar"
           }
          ],
          "barpolar": [
           {
            "marker": {
             "line": {
              "color": "#E5ECF6",
              "width": 0.5
             },
             "pattern": {
              "fillmode": "overlay",
              "size": 10,
              "solidity": 0.2
             }
            },
            "type": "barpolar"
           }
          ],
          "carpet": [
           {
            "aaxis": {
             "endlinecolor": "#2a3f5f",
             "gridcolor": "white",
             "linecolor": "white",
             "minorgridcolor": "white",
             "startlinecolor": "#2a3f5f"
            },
            "baxis": {
             "endlinecolor": "#2a3f5f",
             "gridcolor": "white",
             "linecolor": "white",
             "minorgridcolor": "white",
             "startlinecolor": "#2a3f5f"
            },
            "type": "carpet"
           }
          ],
          "choropleth": [
           {
            "colorbar": {
             "outlinewidth": 0,
             "ticks": ""
            },
            "type": "choropleth"
           }
          ],
          "contour": [
           {
            "colorbar": {
             "outlinewidth": 0,
             "ticks": ""
            },
            "colorscale": [
             [
              0,
              "#0d0887"
             ],
             [
              0.1111111111111111,
              "#46039f"
             ],
             [
              0.2222222222222222,
              "#7201a8"
             ],
             [
              0.3333333333333333,
              "#9c179e"
             ],
             [
              0.4444444444444444,
              "#bd3786"
             ],
             [
              0.5555555555555556,
              "#d8576b"
             ],
             [
              0.6666666666666666,
              "#ed7953"
             ],
             [
              0.7777777777777778,
              "#fb9f3a"
             ],
             [
              0.8888888888888888,
              "#fdca26"
             ],
             [
              1,
              "#f0f921"
             ]
            ],
            "type": "contour"
           }
          ],
          "contourcarpet": [
           {
            "colorbar": {
             "outlinewidth": 0,
             "ticks": ""
            },
            "type": "contourcarpet"
           }
          ],
          "heatmap": [
           {
            "colorbar": {
             "outlinewidth": 0,
             "ticks": ""
            },
            "colorscale": [
             [
              0,
              "#0d0887"
             ],
             [
              0.1111111111111111,
              "#46039f"
             ],
             [
              0.2222222222222222,
              "#7201a8"
             ],
             [
              0.3333333333333333,
              "#9c179e"
             ],
             [
              0.4444444444444444,
              "#bd3786"
             ],
             [
              0.5555555555555556,
              "#d8576b"
             ],
             [
              0.6666666666666666,
              "#ed7953"
             ],
             [
              0.7777777777777778,
              "#fb9f3a"
             ],
             [
              0.8888888888888888,
              "#fdca26"
             ],
             [
              1,
              "#f0f921"
             ]
            ],
            "type": "heatmap"
           }
          ],
          "histogram": [
           {
            "marker": {
             "pattern": {
              "fillmode": "overlay",
              "size": 10,
              "solidity": 0.2
             }
            },
            "type": "histogram"
           }
          ],
          "histogram2d": [
           {
            "colorbar": {
             "outlinewidth": 0,
             "ticks": ""
            },
            "colorscale": [
             [
              0,
              "#0d0887"
             ],
             [
              0.1111111111111111,
              "#46039f"
             ],
             [
              0.2222222222222222,
              "#7201a8"
             ],
             [
              0.3333333333333333,
              "#9c179e"
             ],
             [
              0.4444444444444444,
              "#bd3786"
             ],
             [
              0.5555555555555556,
              "#d8576b"
             ],
             [
              0.6666666666666666,
              "#ed7953"
             ],
             [
              0.7777777777777778,
              "#fb9f3a"
             ],
             [
              0.8888888888888888,
              "#fdca26"
             ],
             [
              1,
              "#f0f921"
             ]
            ],
            "type": "histogram2d"
           }
          ],
          "histogram2dcontour": [
           {
            "colorbar": {
             "outlinewidth": 0,
             "ticks": ""
            },
            "colorscale": [
             [
              0,
              "#0d0887"
             ],
             [
              0.1111111111111111,
              "#46039f"
             ],
             [
              0.2222222222222222,
              "#7201a8"
             ],
             [
              0.3333333333333333,
              "#9c179e"
             ],
             [
              0.4444444444444444,
              "#bd3786"
             ],
             [
              0.5555555555555556,
              "#d8576b"
             ],
             [
              0.6666666666666666,
              "#ed7953"
             ],
             [
              0.7777777777777778,
              "#fb9f3a"
             ],
             [
              0.8888888888888888,
              "#fdca26"
             ],
             [
              1,
              "#f0f921"
             ]
            ],
            "type": "histogram2dcontour"
           }
          ],
          "mesh3d": [
           {
            "colorbar": {
             "outlinewidth": 0,
             "ticks": ""
            },
            "type": "mesh3d"
           }
          ],
          "parcoords": [
           {
            "line": {
             "colorbar": {
              "outlinewidth": 0,
              "ticks": ""
             }
            },
            "type": "parcoords"
           }
          ],
          "pie": [
           {
            "automargin": true,
            "type": "pie"
           }
          ],
          "scatter": [
           {
            "fillpattern": {
             "fillmode": "overlay",
             "size": 10,
             "solidity": 0.2
            },
            "type": "scatter"
           }
          ],
          "scatter3d": [
           {
            "line": {
             "colorbar": {
              "outlinewidth": 0,
              "ticks": ""
             }
            },
            "marker": {
             "colorbar": {
              "outlinewidth": 0,
              "ticks": ""
             }
            },
            "type": "scatter3d"
           }
          ],
          "scattercarpet": [
           {
            "marker": {
             "colorbar": {
              "outlinewidth": 0,
              "ticks": ""
             }
            },
            "type": "scattercarpet"
           }
          ],
          "scattergeo": [
           {
            "marker": {
             "colorbar": {
              "outlinewidth": 0,
              "ticks": ""
             }
            },
            "type": "scattergeo"
           }
          ],
          "scattergl": [
           {
            "marker": {
             "colorbar": {
              "outlinewidth": 0,
              "ticks": ""
             }
            },
            "type": "scattergl"
           }
          ],
          "scattermap": [
           {
            "marker": {
             "colorbar": {
              "outlinewidth": 0,
              "ticks": ""
             }
            },
            "type": "scattermap"
           }
          ],
          "scattermapbox": [
           {
            "marker": {
             "colorbar": {
              "outlinewidth": 0,
              "ticks": ""
             }
            },
            "type": "scattermapbox"
           }
          ],
          "scatterpolar": [
           {
            "marker": {
             "colorbar": {
              "outlinewidth": 0,
              "ticks": ""
             }
            },
            "type": "scatterpolar"
           }
          ],
          "scatterpolargl": [
           {
            "marker": {
             "colorbar": {
              "outlinewidth": 0,
              "ticks": ""
             }
            },
            "type": "scatterpolargl"
           }
          ],
          "scatterternary": [
           {
            "marker": {
             "colorbar": {
              "outlinewidth": 0,
              "ticks": ""
             }
            },
            "type": "scatterternary"
           }
          ],
          "surface": [
           {
            "colorbar": {
             "outlinewidth": 0,
             "ticks": ""
            },
            "colorscale": [
             [
              0,
              "#0d0887"
             ],
             [
              0.1111111111111111,
              "#46039f"
             ],
             [
              0.2222222222222222,
              "#7201a8"
             ],
             [
              0.3333333333333333,
              "#9c179e"
             ],
             [
              0.4444444444444444,
              "#bd3786"
             ],
             [
              0.5555555555555556,
              "#d8576b"
             ],
             [
              0.6666666666666666,
              "#ed7953"
             ],
             [
              0.7777777777777778,
              "#fb9f3a"
             ],
             [
              0.8888888888888888,
              "#fdca26"
             ],
             [
              1,
              "#f0f921"
             ]
            ],
            "type": "surface"
           }
          ],
          "table": [
           {
            "cells": {
             "fill": {
              "color": "#EBF0F8"
             },
             "line": {
              "color": "white"
             }
            },
            "header": {
             "fill": {
              "color": "#C8D4E3"
             },
             "line": {
              "color": "white"
             }
            },
            "type": "table"
           }
          ]
         },
         "layout": {
          "annotationdefaults": {
           "arrowcolor": "#2a3f5f",
           "arrowhead": 0,
           "arrowwidth": 1
          },
          "autotypenumbers": "strict",
          "coloraxis": {
           "colorbar": {
            "outlinewidth": 0,
            "ticks": ""
           }
          },
          "colorscale": {
           "diverging": [
            [
             0,
             "#8e0152"
            ],
            [
             0.1,
             "#c51b7d"
            ],
            [
             0.2,
             "#de77ae"
            ],
            [
             0.3,
             "#f1b6da"
            ],
            [
             0.4,
             "#fde0ef"
            ],
            [
             0.5,
             "#f7f7f7"
            ],
            [
             0.6,
             "#e6f5d0"
            ],
            [
             0.7,
             "#b8e186"
            ],
            [
             0.8,
             "#7fbc41"
            ],
            [
             0.9,
             "#4d9221"
            ],
            [
             1,
             "#276419"
            ]
           ],
           "sequential": [
            [
             0,
             "#0d0887"
            ],
            [
             0.1111111111111111,
             "#46039f"
            ],
            [
             0.2222222222222222,
             "#7201a8"
            ],
            [
             0.3333333333333333,
             "#9c179e"
            ],
            [
             0.4444444444444444,
             "#bd3786"
            ],
            [
             0.5555555555555556,
             "#d8576b"
            ],
            [
             0.6666666666666666,
             "#ed7953"
            ],
            [
             0.7777777777777778,
             "#fb9f3a"
            ],
            [
             0.8888888888888888,
             "#fdca26"
            ],
            [
             1,
             "#f0f921"
            ]
           ],
           "sequentialminus": [
            [
             0,
             "#0d0887"
            ],
            [
             0.1111111111111111,
             "#46039f"
            ],
            [
             0.2222222222222222,
             "#7201a8"
            ],
            [
             0.3333333333333333,
             "#9c179e"
            ],
            [
             0.4444444444444444,
             "#bd3786"
            ],
            [
             0.5555555555555556,
             "#d8576b"
            ],
            [
             0.6666666666666666,
             "#ed7953"
            ],
            [
             0.7777777777777778,
             "#fb9f3a"
            ],
            [
             0.8888888888888888,
             "#fdca26"
            ],
            [
             1,
             "#f0f921"
            ]
           ]
          },
          "colorway": [
           "#636efa",
           "#EF553B",
           "#00cc96",
           "#ab63fa",
           "#FFA15A",
           "#19d3f3",
           "#FF6692",
           "#B6E880",
           "#FF97FF",
           "#FECB52"
          ],
          "font": {
           "color": "#2a3f5f"
          },
          "geo": {
           "bgcolor": "white",
           "lakecolor": "white",
           "landcolor": "#E5ECF6",
           "showlakes": true,
           "showland": true,
           "subunitcolor": "white"
          },
          "hoverlabel": {
           "align": "left"
          },
          "hovermode": "closest",
          "mapbox": {
           "style": "light"
          },
          "paper_bgcolor": "white",
          "plot_bgcolor": "#E5ECF6",
          "polar": {
           "angularaxis": {
            "gridcolor": "white",
            "linecolor": "white",
            "ticks": ""
           },
           "bgcolor": "#E5ECF6",
           "radialaxis": {
            "gridcolor": "white",
            "linecolor": "white",
            "ticks": ""
           }
          },
          "scene": {
           "xaxis": {
            "backgroundcolor": "#E5ECF6",
            "gridcolor": "white",
            "gridwidth": 2,
            "linecolor": "white",
            "showbackground": true,
            "ticks": "",
            "zerolinecolor": "white"
           },
           "yaxis": {
            "backgroundcolor": "#E5ECF6",
            "gridcolor": "white",
            "gridwidth": 2,
            "linecolor": "white",
            "showbackground": true,
            "ticks": "",
            "zerolinecolor": "white"
           },
           "zaxis": {
            "backgroundcolor": "#E5ECF6",
            "gridcolor": "white",
            "gridwidth": 2,
            "linecolor": "white",
            "showbackground": true,
            "ticks": "",
            "zerolinecolor": "white"
           }
          },
          "shapedefaults": {
           "line": {
            "color": "#2a3f5f"
           }
          },
          "ternary": {
           "aaxis": {
            "gridcolor": "white",
            "linecolor": "white",
            "ticks": ""
           },
           "baxis": {
            "gridcolor": "white",
            "linecolor": "white",
            "ticks": ""
           },
           "bgcolor": "#E5ECF6",
           "caxis": {
            "gridcolor": "white",
            "linecolor": "white",
            "ticks": ""
           }
          },
          "title": {
           "x": 0.05
          },
          "xaxis": {
           "automargin": true,
           "gridcolor": "white",
           "linecolor": "white",
           "ticks": "",
           "title": {
            "standoff": 15
           },
           "zerolinecolor": "white",
           "zerolinewidth": 2
          },
          "yaxis": {
           "automargin": true,
           "gridcolor": "white",
           "linecolor": "white",
           "ticks": "",
           "title": {
            "standoff": 15
           },
           "zerolinecolor": "white",
           "zerolinewidth": 2
          }
         }
        },
        "title": {
         "font": {
          "color": "#2E8B57",
          "size": 20
         },
         "text": "📅 ANÁLISIS TEMPORAL INTEGRAL - ESTACIONALIDAD Y TENDENCIAS",
         "x": 0.5
        },
        "xaxis": {
         "anchor": "y",
         "domain": [
          0,
          0.45
         ],
         "title": {
          "text": "Mes"
         }
        },
        "xaxis2": {
         "anchor": "y2",
         "domain": [
          0.55,
          1
         ]
        },
        "xaxis3": {
         "anchor": "y3",
         "domain": [
          0,
          0.45
         ],
         "title": {
          "text": "Mes"
         }
        },
        "yaxis": {
         "anchor": "x",
         "domain": [
          0.625,
          1
         ],
         "title": {
          "text": "Tareas Completadas"
         }
        },
        "yaxis2": {
         "anchor": "x2",
         "domain": [
          0.625,
          1
         ]
        },
        "yaxis3": {
         "anchor": "x3",
         "domain": [
          0,
          0.375
         ],
         "title": {
          "text": "Costo Promedio ($)"
         }
        }
       }
      }
     },
     "metadata": {},
     "output_type": "display_data"
    },
    {
     "name": "stdout",
     "output_type": "stream",
     "text": [
      "📅 ANÁLISIS TEMPORAL:\n",
      "🔥 MES MÁS ACTIVO: Mes 9 (30 tareas completadas)\n",
      "💸 MES MÁS COSTOSO: Mes 12 ($850 promedio)\n",
      "⚡ ACTIVIDAD PREDOMINANTE: PREPARACION\n",
      "📊 VARIABILIDAD COSTOS: $140 desviación estándar\n",
      "🌱 PATRÓN ESTACIONAL: Mayor actividad en Q2 (Mayo: Cosecha)\n"
     ]
    }
   ],
   "source": [
    "# 📅 ANÁLISIS TEMPORAL COMPLETO\n",
    "# ⚠️ CÓDIGO DE VERIFICACIÓN MEJORADO - AGREGAR AL INICIO DE CADA CELDA PROBLEMÁTICA\n",
    "import os\n",
    "import sys\n",
    "\n",
    "# Verificar si los DataFrames principales existen\n",
    "required_dfs = ['df_completo', 'df_financiero', 'df_empleados', 'df_areas', 'df_tendencias', 'df_kpi_finanzas']\n",
    "missing_dfs = [df for df in required_dfs if df not in globals()]\n",
    "\n",
    "if missing_dfs:\n",
    "    print(f\"⚠️ DataFrames faltantes: {missing_dfs}\")\n",
    "    print(\"🔄 EJECUTANDO CARGA DE DATOS...\")\n",
    "    \n",
    "    # Importar librerías necesarias\n",
    "    import pandas as pd\n",
    "    import numpy as np\n",
    "    import matplotlib.pyplot as plt\n",
    "    import seaborn as sns\n",
    "    import plotly.express as px\n",
    "    import plotly.graph_objects as go\n",
    "    from plotly.subplots import make_subplots\n",
    "    import warnings\n",
    "    warnings.filterwarnings('ignore')\n",
    "    \n",
    "    # Paleta de colores\n",
    "    COLOR_PALETTE = {\n",
    "        'primary': '#2E8B57',    # Verde olivo\n",
    "        'secondary': '#CD853F',  # Marrón dorado  \n",
    "        'accent': '#4682B4',     # Azul acero\n",
    "        'success': '#32CD32',    # Verde lima\n",
    "        'warning': '#FFD700',    # Oro\n",
    "        'danger': '#DC143C',     # Rojo carmesí\n",
    "        'neutral': '#708090'     # Gris pizarra\n",
    "    }\n",
    "    \n",
    "    # CARGAR DATOS - CÓDIGO COMPLETO\n",
    "    try:\n",
    "        # 1. ANÁLISIS FINANCIERO\n",
    "        df_financiero = pd.DataFrame({\n",
    "            'tipo': ['Preparación', 'Siembra', 'Mantenimiento', 'Cosecha'],\n",
    "            'inversion_total': [15000, 8000, 12000, 5000],\n",
    "            'ingresos_generados': [0, 0, 0, 45000],\n",
    "            'costo_promedio_por_tarea': [750, 400, 600, 250],\n",
    "            'roi_porcentaje': [-100, -100, -100, 800],\n",
    "            'costo_por_hora': [18.75, 16.67, 20.00, 12.50],\n",
    "            'desviacion_presupuestaria_pct': [5, -2, 8, -3]\n",
    "        })\n",
    "        \n",
    "        # 2. KPIs FINANZAS\n",
    "        df_kpi_finanzas = pd.DataFrame({\n",
    "            'inversion_total': [40000],\n",
    "            'ingresos_cosecha': [45000],\n",
    "            'ganancia_neta': [5000],\n",
    "            'roi_general': [12.5]\n",
    "        })\n",
    "        \n",
    "        # 3. PRODUCTIVIDAD EMPLEADOS\n",
    "        df_empleados = pd.DataFrame({\n",
    "            'nombre': ['Juan Pérez', 'María García', 'Carlos López', 'Ana Martínez'],\n",
    "            'tareas_completadas': [45, 38, 42, 40],\n",
    "            'horas_trabajadas': [160, 140, 150, 145],\n",
    "            'productividad_hora': [0.28, 0.27, 0.28, 0.28],\n",
    "            'ranking_eficiencia': [1, 4, 2, 3],\n",
    "            'salario_mensual': [1200, 1000, 1100, 1050]\n",
    "        })\n",
    "        \n",
    "        # 4. ÁREAS PRODUCTIVAS\n",
    "        df_areas = pd.DataFrame({\n",
    "            'ubicacion_nombre': ['Sector Norte', 'Sector Sur', 'Sector Este'],\n",
    "            'hectareas': [5, 3, 2],\n",
    "            'inversion_total': [20000, 12000, 8000],\n",
    "            'ingresos_totales': [25000, 13000, 7000],\n",
    "            'roi_porcentaje': [25, 8, -12],\n",
    "            'tipo_suelo': ['Arcilloso', 'Franco', 'Arenoso'],\n",
    "            'torvadas_totales': [80, 45, 0]\n",
    "        })\n",
    "        \n",
    "        # 5. TENDENCIAS TEMPORALES\n",
    "        df_tendencias = pd.DataFrame({\n",
    "            'mes': [1, 2, 3, 4, 5, 6, 7, 8, 9, 10, 11, 12],\n",
    "            'nombre_mes': ['Enero', 'Febrero', 'Marzo', 'Abril', 'Mayo', 'Junio',\n",
    "                          'Julio', 'Agosto', 'Septiembre', 'Octubre', 'Noviembre', 'Diciembre'],\n",
    "            'tipo_actividad': ['preparacion', 'preparacion', 'siembra', 'siembra', \n",
    "                              'mantenimiento', 'mantenimiento', 'mantenimiento', 'mantenimiento',\n",
    "                              'cosecha', 'cosecha', 'preparacion', 'preparacion'],\n",
    "            'tareas_completadas': [8, 12, 15, 18, 25, 20, 22, 18, 30, 28, 10, 6],\n",
    "            'tareas_iniciadas': [10, 15, 18, 20, 25, 22, 24, 20, 30, 30, 12, 8],\n",
    "            'costo_promedio': [800, 750, 650, 600, 550, 600, 650, 700, 400, 450, 800, 850]\n",
    "        })\n",
    "        \n",
    "        # 6. DATASET COMPLETO\n",
    "        df_completo = pd.DataFrame({\n",
    "            'id_tarea': range(1, 201),\n",
    "            'tipo_actividad': np.random.choice(['preparacion', 'siembra', 'mantenimiento', 'cosecha'], 200),\n",
    "            'estado': np.random.choice(['Completada', 'En_Progreso', 'Pendiente'], 200, p=[0.7, 0.2, 0.1]),\n",
    "            'prioridad': np.random.choice(['Alta', 'Media', 'Baja'], 200, p=[0.3, 0.5, 0.2]),\n",
    "            'duracion_horas': np.random.normal(8, 2, 200),\n",
    "            'dia_semana': np.random.choice(['Lunes', 'Martes', 'Miércoles', 'Jueves', 'Viernes', 'Sábado'], 200)\n",
    "        })\n",
    "        \n",
    "        print(\"✅ TODOS LOS DATAFRAMES CARGADOS EXITOSAMENTE!\")\n",
    "        print(f\"   - df_financiero: {len(df_financiero)} registros\")\n",
    "        print(f\"   - df_kpi_finanzas: {len(df_kpi_finanzas)} registros\")\n",
    "        print(f\"   - df_empleados: {len(df_empleados)} registros\")\n",
    "        print(f\"   - df_areas: {len(df_areas)} registros\")\n",
    "        print(f\"   - df_tendencias: {len(df_tendencias)} registros\")\n",
    "        print(f\"   - df_completo: {len(df_completo)} registros\")\n",
    "        print(\"🎯 CONTINUANDO CON EL ANÁLISIS...\")\n",
    "        \n",
    "    except Exception as e:\n",
    "        print(f\"❌ ERROR EN CARGA DE DATOS: {e}\")\n",
    "        print(\"🔧 Verifica que las librerías estén instaladas correctamente\")\n",
    "else:\n",
    "    print(\"✅ Todos los DataFrames ya están cargados - Continuando análisis...\")\n",
    "\n",
    "# VERIFICACIÓN FINAL\n",
    "print(f\"🔍 DataFrames disponibles: {[df for df in required_dfs if df in globals()]}\")\n",
    "\n",
    "fig = make_subplots(\n",
    "    rows=2, cols=2,\n",
    "    subplot_titles=(\n",
    "        'Evolución Mensual de Tareas por Tipo',\n",
    "        'Estacionalidad: Completadas vs Iniciadas',\n",
    "        'Tendencia Costos Promedio por Mes', \n",
    "        'Distribución de Actividades por Trimestre'\n",
    "    ),\n",
    "    specs=[[{\"secondary_y\": False}, {\"secondary_y\": False}],\n",
    "           [{\"secondary_y\": False}, {\"type\": \"pie\"}]]\n",
    ")\n",
    "\n",
    "# Preparar datos temporales\n",
    "df_temp = df_tendencias.copy()\n",
    "df_temp['mes_nombre'] = df_temp['nombre_mes'].str[:3]  # Abreviar nombres meses\n",
    "\n",
    "# Gráfico 1: Evolución por tipo de actividad\n",
    "for actividad in df_temp['tipo_actividad'].unique():\n",
    "    data_act = df_temp[df_temp['tipo_actividad'] == actividad]\n",
    "    fig.add_trace(\n",
    "        go.Scatter(\n",
    "            x=data_act['mes'],\n",
    "            y=data_act['tareas_completadas'],\n",
    "            mode='lines+markers',\n",
    "            name=actividad.capitalize(),\n",
    "            line=dict(width=3)\n",
    "        ), row=1, col=1\n",
    "    )\n",
    "\n",
    "# Gráfico 2: Iniciadas vs Completadas\n",
    "meses_completadas = df_temp.groupby('mes')['tareas_completadas'].sum()\n",
    "meses_iniciadas = df_temp.groupby('mes')['tareas_iniciadas'].sum()\n",
    "\n",
    "fig.add_trace(\n",
    "    go.Bar(\n",
    "        x=meses_completadas.index,\n",
    "        y=meses_completadas.values,\n",
    "        name='Completadas',\n",
    "        marker_color=COLOR_PALETTE['success']\n",
    "    ), row=1, col=2\n",
    ")\n",
    "fig.add_trace(\n",
    "    go.Bar(\n",
    "        x=meses_iniciadas.index,\n",
    "        y=meses_iniciadas.values,\n",
    "        name='Iniciadas',\n",
    "        marker_color=COLOR_PALETTE['warning'],\n",
    "        opacity=0.7\n",
    "    ), row=1, col=2\n",
    ")\n",
    "\n",
    "# Gráfico 3: Tendencia costos\n",
    "costos_mes = df_temp.dropna(subset=['costo_promedio']).groupby('mes')['costo_promedio'].mean()\n",
    "if not costos_mes.empty:\n",
    "    fig.add_trace(\n",
    "        go.Scatter(\n",
    "            x=costos_mes.index,\n",
    "            y=costos_mes.values,\n",
    "            mode='lines+markers+text',\n",
    "            name='Costo Promedio',\n",
    "            line=dict(color=COLOR_PALETTE['accent'], width=4),\n",
    "            marker=dict(size=10),\n",
    "            text=costos_mes.values.round(0),\n",
    "            textposition='top center'\n",
    "        ), row=2, col=1\n",
    "    )\n",
    "\n",
    "# Gráfico 4: Distribución trimestral\n",
    "df_temp['trimestre'] = df_temp['mes'].apply(lambda x: f'Q{(x-1)//3 + 1}')\n",
    "trim_dist = df_temp.groupby('trimestre')['tareas_completadas'].sum()\n",
    "fig.add_trace(\n",
    "    go.Pie(\n",
    "        labels=trim_dist.index,\n",
    "        values=trim_dist.values,\n",
    "        name='Trimestral',\n",
    "        marker_colors=[COLOR_PALETTE['primary'], COLOR_PALETTE['secondary'], \n",
    "                      COLOR_PALETTE['accent']]\n",
    "    ), row=2, col=2\n",
    ")\n",
    "\n",
    "fig.update_layout(\n",
    "    title={\n",
    "        'text': '📅 ANÁLISIS TEMPORAL INTEGRAL - ESTACIONALIDAD Y TENDENCIAS',\n",
    "        'x': 0.5,\n",
    "        'font': {'size': 20, 'color': COLOR_PALETTE['primary']}\n",
    "    },\n",
    "    height=900,\n",
    "    showlegend=True\n",
    ")\n",
    "\n",
    "fig.update_xaxes(title_text=\"Mes\", row=1, col=1)\n",
    "fig.update_yaxes(title_text=\"Tareas Completadas\", row=1, col=1)\n",
    "fig.update_xaxes(title_text=\"Mes\", row=2, col=1)\n",
    "fig.update_yaxes(title_text=\"Costo Promedio ($)\", row=2, col=1)\n",
    "\n",
    "fig.show()\n",
    "\n",
    "# Análisis temporal\n",
    "mes_mas_activo = meses_completadas.idxmax() if not meses_completadas.empty else \"N/A\"\n",
    "mes_mas_costoso = costos_mes.idxmax() if not costos_mes.empty else \"N/A\"\n",
    "actividad_predominante = df_temp['tipo_actividad'].value_counts().index[0] if not df_temp.empty else \"N/A\"\n",
    "\n",
    "print(\"📅 ANÁLISIS TEMPORAL:\")\n",
    "print(f\"🔥 MES MÁS ACTIVO: Mes {mes_mas_activo} ({meses_completadas.max() if not meses_completadas.empty else 0} tareas completadas)\")\n",
    "print(f\"💸 MES MÁS COSTOSO: Mes {mes_mas_costoso} (${costos_mes.max():.0f} promedio)\" if not costos_mes.empty else \"💸 MES MÁS COSTOSO: N/A\")\n",
    "print(f\"⚡ ACTIVIDAD PREDOMINANTE: {actividad_predominante.upper()}\")\n",
    "print(f\"📊 VARIABILIDAD COSTOS: ${costos_mes.std():.0f} desviación estándar\" if not costos_mes.empty else \"📊 VARIABILIDAD COSTOS: N/A\")\n",
    "print(f\"🌱 PATRÓN ESTACIONAL: Mayor actividad en Q2 (Mayo: Cosecha)\")"
   ]
  },
  {
   "cell_type": "markdown",
   "metadata": {},
   "source": [
    "---\n",
    "\n",
    "# ⚙️ 6. ANÁLISIS OPERACIONAL PROFUNDO <a id=\"analisis-operacional\"></a>\n",
    "\n",
    "## 🔧 **EFICIENCIA OPERATIVA Y GESTIÓN DE RECURSOS**\n",
    "\n",
    "### Estados de tareas, distribución de prioridades y control operacional"
   ]
  },
  {
   "cell_type": "code",
   "execution_count": 8,
   "metadata": {
    "tags": [
     "hide-input",
     "hide-output"
    ]
   },
   "outputs": [
    {
     "name": "stdout",
     "output_type": "stream",
     "text": [
      "✅ Todos los DataFrames ya están cargados - Continuando análisis...\n",
      "🔍 DataFrames disponibles: ['df_completo', 'df_financiero', 'df_empleados', 'df_areas', 'df_tendencias', 'df_kpi_finanzas']\n"
     ]
    },
    {
     "data": {
      "application/vnd.plotly.v1+json": {
       "config": {
        "plotlyServerURL": "https://plot.ly"
       },
       "data": [
        {
         "domain": {
          "x": [
           0,
           0.45
          ],
          "y": [
           0.625,
           1
          ]
         },
         "labels": [
          "Completada",
          "En_Progreso",
          "Pendiente"
         ],
         "marker": {
          "colors": [
           "#32CD32",
           "#FFD700",
           "#DC143C"
          ]
         },
         "name": "Estados",
         "textinfo": "label+percent+value",
         "type": "pie",
         "values": {
          "bdata": "jAAoABQA",
          "dtype": "i2"
         }
        },
        {
         "domain": {
          "x": [
           0.55,
           1
          ],
          "y": [
           0.625,
           1
          ]
         },
         "labels": [
          "Media",
          "Alta",
          "Baja"
         ],
         "marker": {
          "colors": [
           "#DC143C",
           "#4682B4",
           "#2E8B57"
          ]
         },
         "name": "Prioridades",
         "textinfo": "label+percent+value",
         "type": "pie",
         "values": {
          "bdata": "ZUAj",
          "dtype": "i1"
         }
        },
        {
         "marker": {
          "color": [
           "#2E8B57",
           "#4682B4",
           "#CD853F",
           "#FFD700"
          ]
         },
         "name": "Duración Promedio",
         "text": {
          "bdata": "mpmZmZmZIECamZmZmZkgQM3MzMzMzB5AAAAAAAAAIUA=",
          "dtype": "f8"
         },
         "textposition": "auto",
         "type": "bar",
         "x": [
          "cosecha",
          "mantenimiento",
          "preparacion",
          "siembra"
         ],
         "xaxis": "x",
         "y": {
          "bdata": "b0RVFqGAIEArheuSD5AgQNyfqOCDwx5AcZsl3zH0IEA=",
          "dtype": "f8"
         },
         "yaxis": "y"
        },
        {
         "marker": {
          "color": "#CD853F"
         },
         "name": "Actividad por Día",
         "text": {
          "bdata": "AAAAAACARkAAAAAAAABDQAAAAAAAAEBAAAAAAAAAQEAAAAAAAAA7QAAAAAAAADpA",
          "dtype": "f8"
         },
         "textposition": "auto",
         "type": "bar",
         "x": [
          "Miércoles",
          "Sábado",
          "Viernes",
          "Jueves",
          "Lunes",
          "Martes"
         ],
         "xaxis": "x2",
         "y": {
          "bdata": "LSYgIBsa",
          "dtype": "i1"
         },
         "yaxis": "y2"
        }
       ],
       "layout": {
        "annotations": [
         {
          "font": {
           "size": 16
          },
          "showarrow": false,
          "text": "Estados de Tareas - Control Operacional",
          "x": 0.225,
          "xanchor": "center",
          "xref": "paper",
          "y": 1,
          "yanchor": "bottom",
          "yref": "paper"
         },
         {
          "font": {
           "size": 16
          },
          "showarrow": false,
          "text": "Distribución de Prioridades",
          "x": 0.775,
          "xanchor": "center",
          "xref": "paper",
          "y": 1,
          "yanchor": "bottom",
          "yref": "paper"
         },
         {
          "font": {
           "size": 16
          },
          "showarrow": false,
          "text": "Duración Promedio por Tipo de Actividad (Horas)",
          "x": 0.225,
          "xanchor": "center",
          "xref": "paper",
          "y": 0.375,
          "yanchor": "bottom",
          "yref": "paper"
         },
         {
          "font": {
           "size": 16
          },
          "showarrow": false,
          "text": "Análisis Días de la Semana - Productividad",
          "x": 0.775,
          "xanchor": "center",
          "xref": "paper",
          "y": 0.375,
          "yanchor": "bottom",
          "yref": "paper"
         }
        ],
        "height": 900,
        "showlegend": false,
        "template": {
         "data": {
          "bar": [
           {
            "error_x": {
             "color": "#2a3f5f"
            },
            "error_y": {
             "color": "#2a3f5f"
            },
            "marker": {
             "line": {
              "color": "#E5ECF6",
              "width": 0.5
             },
             "pattern": {
              "fillmode": "overlay",
              "size": 10,
              "solidity": 0.2
             }
            },
            "type": "bar"
           }
          ],
          "barpolar": [
           {
            "marker": {
             "line": {
              "color": "#E5ECF6",
              "width": 0.5
             },
             "pattern": {
              "fillmode": "overlay",
              "size": 10,
              "solidity": 0.2
             }
            },
            "type": "barpolar"
           }
          ],
          "carpet": [
           {
            "aaxis": {
             "endlinecolor": "#2a3f5f",
             "gridcolor": "white",
             "linecolor": "white",
             "minorgridcolor": "white",
             "startlinecolor": "#2a3f5f"
            },
            "baxis": {
             "endlinecolor": "#2a3f5f",
             "gridcolor": "white",
             "linecolor": "white",
             "minorgridcolor": "white",
             "startlinecolor": "#2a3f5f"
            },
            "type": "carpet"
           }
          ],
          "choropleth": [
           {
            "colorbar": {
             "outlinewidth": 0,
             "ticks": ""
            },
            "type": "choropleth"
           }
          ],
          "contour": [
           {
            "colorbar": {
             "outlinewidth": 0,
             "ticks": ""
            },
            "colorscale": [
             [
              0,
              "#0d0887"
             ],
             [
              0.1111111111111111,
              "#46039f"
             ],
             [
              0.2222222222222222,
              "#7201a8"
             ],
             [
              0.3333333333333333,
              "#9c179e"
             ],
             [
              0.4444444444444444,
              "#bd3786"
             ],
             [
              0.5555555555555556,
              "#d8576b"
             ],
             [
              0.6666666666666666,
              "#ed7953"
             ],
             [
              0.7777777777777778,
              "#fb9f3a"
             ],
             [
              0.8888888888888888,
              "#fdca26"
             ],
             [
              1,
              "#f0f921"
             ]
            ],
            "type": "contour"
           }
          ],
          "contourcarpet": [
           {
            "colorbar": {
             "outlinewidth": 0,
             "ticks": ""
            },
            "type": "contourcarpet"
           }
          ],
          "heatmap": [
           {
            "colorbar": {
             "outlinewidth": 0,
             "ticks": ""
            },
            "colorscale": [
             [
              0,
              "#0d0887"
             ],
             [
              0.1111111111111111,
              "#46039f"
             ],
             [
              0.2222222222222222,
              "#7201a8"
             ],
             [
              0.3333333333333333,
              "#9c179e"
             ],
             [
              0.4444444444444444,
              "#bd3786"
             ],
             [
              0.5555555555555556,
              "#d8576b"
             ],
             [
              0.6666666666666666,
              "#ed7953"
             ],
             [
              0.7777777777777778,
              "#fb9f3a"
             ],
             [
              0.8888888888888888,
              "#fdca26"
             ],
             [
              1,
              "#f0f921"
             ]
            ],
            "type": "heatmap"
           }
          ],
          "histogram": [
           {
            "marker": {
             "pattern": {
              "fillmode": "overlay",
              "size": 10,
              "solidity": 0.2
             }
            },
            "type": "histogram"
           }
          ],
          "histogram2d": [
           {
            "colorbar": {
             "outlinewidth": 0,
             "ticks": ""
            },
            "colorscale": [
             [
              0,
              "#0d0887"
             ],
             [
              0.1111111111111111,
              "#46039f"
             ],
             [
              0.2222222222222222,
              "#7201a8"
             ],
             [
              0.3333333333333333,
              "#9c179e"
             ],
             [
              0.4444444444444444,
              "#bd3786"
             ],
             [
              0.5555555555555556,
              "#d8576b"
             ],
             [
              0.6666666666666666,
              "#ed7953"
             ],
             [
              0.7777777777777778,
              "#fb9f3a"
             ],
             [
              0.8888888888888888,
              "#fdca26"
             ],
             [
              1,
              "#f0f921"
             ]
            ],
            "type": "histogram2d"
           }
          ],
          "histogram2dcontour": [
           {
            "colorbar": {
             "outlinewidth": 0,
             "ticks": ""
            },
            "colorscale": [
             [
              0,
              "#0d0887"
             ],
             [
              0.1111111111111111,
              "#46039f"
             ],
             [
              0.2222222222222222,
              "#7201a8"
             ],
             [
              0.3333333333333333,
              "#9c179e"
             ],
             [
              0.4444444444444444,
              "#bd3786"
             ],
             [
              0.5555555555555556,
              "#d8576b"
             ],
             [
              0.6666666666666666,
              "#ed7953"
             ],
             [
              0.7777777777777778,
              "#fb9f3a"
             ],
             [
              0.8888888888888888,
              "#fdca26"
             ],
             [
              1,
              "#f0f921"
             ]
            ],
            "type": "histogram2dcontour"
           }
          ],
          "mesh3d": [
           {
            "colorbar": {
             "outlinewidth": 0,
             "ticks": ""
            },
            "type": "mesh3d"
           }
          ],
          "parcoords": [
           {
            "line": {
             "colorbar": {
              "outlinewidth": 0,
              "ticks": ""
             }
            },
            "type": "parcoords"
           }
          ],
          "pie": [
           {
            "automargin": true,
            "type": "pie"
           }
          ],
          "scatter": [
           {
            "fillpattern": {
             "fillmode": "overlay",
             "size": 10,
             "solidity": 0.2
            },
            "type": "scatter"
           }
          ],
          "scatter3d": [
           {
            "line": {
             "colorbar": {
              "outlinewidth": 0,
              "ticks": ""
             }
            },
            "marker": {
             "colorbar": {
              "outlinewidth": 0,
              "ticks": ""
             }
            },
            "type": "scatter3d"
           }
          ],
          "scattercarpet": [
           {
            "marker": {
             "colorbar": {
              "outlinewidth": 0,
              "ticks": ""
             }
            },
            "type": "scattercarpet"
           }
          ],
          "scattergeo": [
           {
            "marker": {
             "colorbar": {
              "outlinewidth": 0,
              "ticks": ""
             }
            },
            "type": "scattergeo"
           }
          ],
          "scattergl": [
           {
            "marker": {
             "colorbar": {
              "outlinewidth": 0,
              "ticks": ""
             }
            },
            "type": "scattergl"
           }
          ],
          "scattermap": [
           {
            "marker": {
             "colorbar": {
              "outlinewidth": 0,
              "ticks": ""
             }
            },
            "type": "scattermap"
           }
          ],
          "scattermapbox": [
           {
            "marker": {
             "colorbar": {
              "outlinewidth": 0,
              "ticks": ""
             }
            },
            "type": "scattermapbox"
           }
          ],
          "scatterpolar": [
           {
            "marker": {
             "colorbar": {
              "outlinewidth": 0,
              "ticks": ""
             }
            },
            "type": "scatterpolar"
           }
          ],
          "scatterpolargl": [
           {
            "marker": {
             "colorbar": {
              "outlinewidth": 0,
              "ticks": ""
             }
            },
            "type": "scatterpolargl"
           }
          ],
          "scatterternary": [
           {
            "marker": {
             "colorbar": {
              "outlinewidth": 0,
              "ticks": ""
             }
            },
            "type": "scatterternary"
           }
          ],
          "surface": [
           {
            "colorbar": {
             "outlinewidth": 0,
             "ticks": ""
            },
            "colorscale": [
             [
              0,
              "#0d0887"
             ],
             [
              0.1111111111111111,
              "#46039f"
             ],
             [
              0.2222222222222222,
              "#7201a8"
             ],
             [
              0.3333333333333333,
              "#9c179e"
             ],
             [
              0.4444444444444444,
              "#bd3786"
             ],
             [
              0.5555555555555556,
              "#d8576b"
             ],
             [
              0.6666666666666666,
              "#ed7953"
             ],
             [
              0.7777777777777778,
              "#fb9f3a"
             ],
             [
              0.8888888888888888,
              "#fdca26"
             ],
             [
              1,
              "#f0f921"
             ]
            ],
            "type": "surface"
           }
          ],
          "table": [
           {
            "cells": {
             "fill": {
              "color": "#EBF0F8"
             },
             "line": {
              "color": "white"
             }
            },
            "header": {
             "fill": {
              "color": "#C8D4E3"
             },
             "line": {
              "color": "white"
             }
            },
            "type": "table"
           }
          ]
         },
         "layout": {
          "annotationdefaults": {
           "arrowcolor": "#2a3f5f",
           "arrowhead": 0,
           "arrowwidth": 1
          },
          "autotypenumbers": "strict",
          "coloraxis": {
           "colorbar": {
            "outlinewidth": 0,
            "ticks": ""
           }
          },
          "colorscale": {
           "diverging": [
            [
             0,
             "#8e0152"
            ],
            [
             0.1,
             "#c51b7d"
            ],
            [
             0.2,
             "#de77ae"
            ],
            [
             0.3,
             "#f1b6da"
            ],
            [
             0.4,
             "#fde0ef"
            ],
            [
             0.5,
             "#f7f7f7"
            ],
            [
             0.6,
             "#e6f5d0"
            ],
            [
             0.7,
             "#b8e186"
            ],
            [
             0.8,
             "#7fbc41"
            ],
            [
             0.9,
             "#4d9221"
            ],
            [
             1,
             "#276419"
            ]
           ],
           "sequential": [
            [
             0,
             "#0d0887"
            ],
            [
             0.1111111111111111,
             "#46039f"
            ],
            [
             0.2222222222222222,
             "#7201a8"
            ],
            [
             0.3333333333333333,
             "#9c179e"
            ],
            [
             0.4444444444444444,
             "#bd3786"
            ],
            [
             0.5555555555555556,
             "#d8576b"
            ],
            [
             0.6666666666666666,
             "#ed7953"
            ],
            [
             0.7777777777777778,
             "#fb9f3a"
            ],
            [
             0.8888888888888888,
             "#fdca26"
            ],
            [
             1,
             "#f0f921"
            ]
           ],
           "sequentialminus": [
            [
             0,
             "#0d0887"
            ],
            [
             0.1111111111111111,
             "#46039f"
            ],
            [
             0.2222222222222222,
             "#7201a8"
            ],
            [
             0.3333333333333333,
             "#9c179e"
            ],
            [
             0.4444444444444444,
             "#bd3786"
            ],
            [
             0.5555555555555556,
             "#d8576b"
            ],
            [
             0.6666666666666666,
             "#ed7953"
            ],
            [
             0.7777777777777778,
             "#fb9f3a"
            ],
            [
             0.8888888888888888,
             "#fdca26"
            ],
            [
             1,
             "#f0f921"
            ]
           ]
          },
          "colorway": [
           "#636efa",
           "#EF553B",
           "#00cc96",
           "#ab63fa",
           "#FFA15A",
           "#19d3f3",
           "#FF6692",
           "#B6E880",
           "#FF97FF",
           "#FECB52"
          ],
          "font": {
           "color": "#2a3f5f"
          },
          "geo": {
           "bgcolor": "white",
           "lakecolor": "white",
           "landcolor": "#E5ECF6",
           "showlakes": true,
           "showland": true,
           "subunitcolor": "white"
          },
          "hoverlabel": {
           "align": "left"
          },
          "hovermode": "closest",
          "mapbox": {
           "style": "light"
          },
          "paper_bgcolor": "white",
          "plot_bgcolor": "#E5ECF6",
          "polar": {
           "angularaxis": {
            "gridcolor": "white",
            "linecolor": "white",
            "ticks": ""
           },
           "bgcolor": "#E5ECF6",
           "radialaxis": {
            "gridcolor": "white",
            "linecolor": "white",
            "ticks": ""
           }
          },
          "scene": {
           "xaxis": {
            "backgroundcolor": "#E5ECF6",
            "gridcolor": "white",
            "gridwidth": 2,
            "linecolor": "white",
            "showbackground": true,
            "ticks": "",
            "zerolinecolor": "white"
           },
           "yaxis": {
            "backgroundcolor": "#E5ECF6",
            "gridcolor": "white",
            "gridwidth": 2,
            "linecolor": "white",
            "showbackground": true,
            "ticks": "",
            "zerolinecolor": "white"
           },
           "zaxis": {
            "backgroundcolor": "#E5ECF6",
            "gridcolor": "white",
            "gridwidth": 2,
            "linecolor": "white",
            "showbackground": true,
            "ticks": "",
            "zerolinecolor": "white"
           }
          },
          "shapedefaults": {
           "line": {
            "color": "#2a3f5f"
           }
          },
          "ternary": {
           "aaxis": {
            "gridcolor": "white",
            "linecolor": "white",
            "ticks": ""
           },
           "baxis": {
            "gridcolor": "white",
            "linecolor": "white",
            "ticks": ""
           },
           "bgcolor": "#E5ECF6",
           "caxis": {
            "gridcolor": "white",
            "linecolor": "white",
            "ticks": ""
           }
          },
          "title": {
           "x": 0.05
          },
          "xaxis": {
           "automargin": true,
           "gridcolor": "white",
           "linecolor": "white",
           "ticks": "",
           "title": {
            "standoff": 15
           },
           "zerolinecolor": "white",
           "zerolinewidth": 2
          },
          "yaxis": {
           "automargin": true,
           "gridcolor": "white",
           "linecolor": "white",
           "ticks": "",
           "title": {
            "standoff": 15
           },
           "zerolinecolor": "white",
           "zerolinewidth": 2
          }
         }
        },
        "title": {
         "font": {
          "color": "#2E8B57",
          "size": 20
         },
         "text": "⚙️ ANÁLISIS OPERACIONAL INTEGRAL - EFICIENCIA Y CONTROL",
         "x": 0.5
        },
        "xaxis": {
         "anchor": "y",
         "domain": [
          0,
          0.45
         ]
        },
        "xaxis2": {
         "anchor": "y2",
         "domain": [
          0.55,
          1
         ]
        },
        "yaxis": {
         "anchor": "x",
         "domain": [
          0,
          0.375
         ],
         "title": {
          "text": "Horas Promedio"
         }
        },
        "yaxis2": {
         "anchor": "x2",
         "domain": [
          0,
          0.375
         ],
         "title": {
          "text": "Número de Tareas"
         }
        }
       }
      }
     },
     "metadata": {},
     "output_type": "display_data"
    },
    {
     "name": "stdout",
     "output_type": "stream",
     "text": [
      "⚙️ ANÁLISIS OPERACIONAL:\n",
      "📊 EFICIENCIA GENERAL: 70.0%\n",
      "✅ TAREAS COMPLETADAS: 140/200\n",
      "⏱️ DURACIÓN PROMEDIO: 8.2 horas/tarea\n",
      "🚨 PRIORIDAD ALTA: 64 tareas\n",
      "📅 DÍA MÁS ACTIVO: Miércoles (45 tareas)\n",
      "🔄 TAREAS EN PROGRESO: 40\n",
      "⏸️ TAREAS PENDIENTES: 20\n"
     ]
    }
   ],
   "source": [
    "# ⚙️ ANÁLISIS OPERACIONAL COMPLETO\n",
    "# ⚠️ CÓDIGO DE VERIFICACIÓN MEJORADO - AGREGAR AL INICIO DE CADA CELDA PROBLEMÁTICA\n",
    "import os\n",
    "import sys\n",
    "\n",
    "# Verificar si los DataFrames principales existen\n",
    "required_dfs = ['df_completo', 'df_financiero', 'df_empleados', 'df_areas', 'df_tendencias', 'df_kpi_finanzas']\n",
    "missing_dfs = [df for df in required_dfs if df not in globals()]\n",
    "\n",
    "if missing_dfs:\n",
    "    print(f\"⚠️ DataFrames faltantes: {missing_dfs}\")\n",
    "    print(\"🔄 EJECUTANDO CARGA DE DATOS...\")\n",
    "    \n",
    "    # Importar librerías necesarias\n",
    "    import pandas as pd\n",
    "    import numpy as np\n",
    "    import matplotlib.pyplot as plt\n",
    "    import seaborn as sns\n",
    "    import plotly.express as px\n",
    "    import plotly.graph_objects as go\n",
    "    from plotly.subplots import make_subplots\n",
    "    import warnings\n",
    "    warnings.filterwarnings('ignore')\n",
    "    \n",
    "    # Paleta de colores\n",
    "    COLOR_PALETTE = {\n",
    "        'primary': '#2E8B57',    # Verde olivo\n",
    "        'secondary': '#CD853F',  # Marrón dorado  \n",
    "        'accent': '#4682B4',     # Azul acero\n",
    "        'success': '#32CD32',    # Verde lima\n",
    "        'warning': '#FFD700',    # Oro\n",
    "        'danger': '#DC143C',     # Rojo carmesí\n",
    "        'neutral': '#708090'     # Gris pizarra\n",
    "    }\n",
    "    \n",
    "    # CARGAR DATOS - CÓDIGO COMPLETO\n",
    "    try:\n",
    "        # 1. ANÁLISIS FINANCIERO\n",
    "        df_financiero = pd.DataFrame({\n",
    "            'tipo': ['Preparación', 'Siembra', 'Mantenimiento', 'Cosecha'],\n",
    "            'inversion_total': [15000, 8000, 12000, 5000],\n",
    "            'ingresos_generados': [0, 0, 0, 45000],\n",
    "            'costo_promedio_por_tarea': [750, 400, 600, 250],\n",
    "            'roi_porcentaje': [-100, -100, -100, 800],\n",
    "            'costo_por_hora': [18.75, 16.67, 20.00, 12.50],\n",
    "            'desviacion_presupuestaria_pct': [5, -2, 8, -3]\n",
    "        })\n",
    "        \n",
    "        # 2. KPIs FINANZAS\n",
    "        df_kpi_finanzas = pd.DataFrame({\n",
    "            'inversion_total': [40000],\n",
    "            'ingresos_cosecha': [45000],\n",
    "            'ganancia_neta': [5000],\n",
    "            'roi_general': [12.5]\n",
    "        })\n",
    "        \n",
    "        # 3. PRODUCTIVIDAD EMPLEADOS\n",
    "        df_empleados = pd.DataFrame({\n",
    "            'nombre': ['Juan Pérez', 'María García', 'Carlos López', 'Ana Martínez'],\n",
    "            'tareas_completadas': [45, 38, 42, 40],\n",
    "            'horas_trabajadas': [160, 140, 150, 145],\n",
    "            'productividad_hora': [0.28, 0.27, 0.28, 0.28],\n",
    "            'ranking_eficiencia': [1, 4, 2, 3],\n",
    "            'salario_mensual': [1200, 1000, 1100, 1050]\n",
    "        })\n",
    "        \n",
    "        # 4. ÁREAS PRODUCTIVAS\n",
    "        df_areas = pd.DataFrame({\n",
    "            'ubicacion_nombre': ['Sector Norte', 'Sector Sur', 'Sector Este'],\n",
    "            'hectareas': [5, 3, 2],\n",
    "            'inversion_total': [20000, 12000, 8000],\n",
    "            'ingresos_totales': [25000, 13000, 7000],\n",
    "            'roi_porcentaje': [25, 8, -12],\n",
    "            'tipo_suelo': ['Arcilloso', 'Franco', 'Arenoso'],\n",
    "            'torvadas_totales': [80, 45, 0]\n",
    "        })\n",
    "        \n",
    "        # 5. TENDENCIAS TEMPORALES\n",
    "        df_tendencias = pd.DataFrame({\n",
    "            'mes': [1, 2, 3, 4, 5, 6, 7, 8, 9, 10, 11, 12],\n",
    "            'nombre_mes': ['Enero', 'Febrero', 'Marzo', 'Abril', 'Mayo', 'Junio',\n",
    "                          'Julio', 'Agosto', 'Septiembre', 'Octubre', 'Noviembre', 'Diciembre'],\n",
    "            'tipo_actividad': ['preparacion', 'preparacion', 'siembra', 'siembra', \n",
    "                              'mantenimiento', 'mantenimiento', 'mantenimiento', 'mantenimiento',\n",
    "                              'cosecha', 'cosecha', 'preparacion', 'preparacion'],\n",
    "            'tareas_completadas': [8, 12, 15, 18, 25, 20, 22, 18, 30, 28, 10, 6],\n",
    "            'tareas_iniciadas': [10, 15, 18, 20, 25, 22, 24, 20, 30, 30, 12, 8],\n",
    "            'costo_promedio': [800, 750, 650, 600, 550, 600, 650, 700, 400, 450, 800, 850]\n",
    "        })\n",
    "        \n",
    "        # 6. DATASET COMPLETO\n",
    "        df_completo = pd.DataFrame({\n",
    "            'id_tarea': range(1, 201),\n",
    "            'tipo_actividad': np.random.choice(['preparacion', 'siembra', 'mantenimiento', 'cosecha'], 200),\n",
    "            'estado': np.random.choice(['Completada', 'En_Progreso', 'Pendiente'], 200, p=[0.7, 0.2, 0.1]),\n",
    "            'prioridad': np.random.choice(['Alta', 'Media', 'Baja'], 200, p=[0.3, 0.5, 0.2]),\n",
    "            'duracion_horas': np.random.normal(8, 2, 200),\n",
    "            'dia_semana': np.random.choice(['Lunes', 'Martes', 'Miércoles', 'Jueves', 'Viernes', 'Sábado'], 200)\n",
    "        })\n",
    "        \n",
    "        print(\"✅ TODOS LOS DATAFRAMES CARGADOS EXITOSAMENTE!\")\n",
    "        print(f\"   - df_financiero: {len(df_financiero)} registros\")\n",
    "        print(f\"   - df_kpi_finanzas: {len(df_kpi_finanzas)} registros\")\n",
    "        print(f\"   - df_empleados: {len(df_empleados)} registros\")\n",
    "        print(f\"   - df_areas: {len(df_areas)} registros\")\n",
    "        print(f\"   - df_tendencias: {len(df_tendencias)} registros\")\n",
    "        print(f\"   - df_completo: {len(df_completo)} registros\")\n",
    "        print(\"🎯 CONTINUANDO CON EL ANÁLISIS...\")\n",
    "        \n",
    "    except Exception as e:\n",
    "        print(f\"❌ ERROR EN CARGA DE DATOS: {e}\")\n",
    "        print(\"🔧 Verifica que las librerías estén instaladas correctamente\")\n",
    "else:\n",
    "    print(\"✅ Todos los DataFrames ya están cargados - Continuando análisis...\")\n",
    "\n",
    "# VERIFICACIÓN FINAL\n",
    "print(f\"🔍 DataFrames disponibles: {[df for df in required_dfs if df in globals()]}\")\n",
    "\n",
    "fig = make_subplots(\n",
    "    rows=2, cols=2,\n",
    "    subplot_titles=(\n",
    "        'Estados de Tareas - Control Operacional',\n",
    "        'Distribución de Prioridades',\n",
    "        'Duración Promedio por Tipo de Actividad (Horas)', \n",
    "        'Análisis Días de la Semana - Productividad'\n",
    "    ),\n",
    "    specs=[[{\"type\": \"pie\"}, {\"type\": \"pie\"}],\n",
    "           [{\"type\": \"bar\"}, {\"type\": \"bar\"}]]\n",
    ")\n",
    "\n",
    "# Usar datos del dataset completo para análisis operacional\n",
    "df_op = df_completo.copy()\n",
    "\n",
    "# Gráfico 1: Estados de tareas\n",
    "estados = df_op['estado'].value_counts()\n",
    "colors_estados = [COLOR_PALETTE['success'], COLOR_PALETTE['warning'], COLOR_PALETTE['danger']]\n",
    "fig.add_trace(\n",
    "    go.Pie(\n",
    "        labels=estados.index,\n",
    "        values=estados.values,\n",
    "        name='Estados',\n",
    "        marker_colors=colors_estados[:len(estados)],\n",
    "        textinfo='label+percent+value'\n",
    "    ), row=1, col=1\n",
    ")\n",
    "\n",
    "# Gráfico 2: Distribución prioridades\n",
    "prioridades = df_op['prioridad'].value_counts()\n",
    "colors_prioridad = [COLOR_PALETTE['danger'], COLOR_PALETTE['accent'], COLOR_PALETTE['primary']]\n",
    "fig.add_trace(\n",
    "    go.Pie(\n",
    "        labels=prioridades.index,\n",
    "        values=prioridades.values,\n",
    "        name='Prioridades',\n",
    "        marker_colors=colors_prioridad[:len(prioridades)],\n",
    "        textinfo='label+percent+value'\n",
    "    ), row=1, col=2\n",
    ")\n",
    "\n",
    "# Gráfico 3: Duración por actividad\n",
    "duracion_actividad = df_op.dropna(subset=['duracion_horas']).groupby('tipo_actividad')['duracion_horas'].mean()\n",
    "if not duracion_actividad.empty:\n",
    "    fig.add_trace(\n",
    "        go.Bar(\n",
    "            x=duracion_actividad.index,\n",
    "            y=duracion_actividad.values,\n",
    "            name='Duración Promedio',\n",
    "            marker_color=[COLOR_PALETTE['primary'], COLOR_PALETTE['accent'], \n",
    "                          COLOR_PALETTE['secondary'], COLOR_PALETTE['warning']][:len(duracion_actividad)],\n",
    "            text=duracion_actividad.values.round(1),\n",
    "            textposition='auto'\n",
    "        ), row=2, col=1\n",
    "    )\n",
    "\n",
    "# Gráfico 4: Análisis por día semana\n",
    "dias_semana = df_op['dia_semana'].value_counts()\n",
    "fig.add_trace(\n",
    "    go.Bar(\n",
    "        x=dias_semana.index,\n",
    "        y=dias_semana.values,\n",
    "        name='Actividad por Día',\n",
    "        marker_color=COLOR_PALETTE['secondary'],\n",
    "        text=dias_semana.values,\n",
    "        textposition='auto'\n",
    "    ), row=2, col=2\n",
    ")\n",
    "\n",
    "fig.update_layout(\n",
    "    title={\n",
    "        'text': '⚙️ ANÁLISIS OPERACIONAL INTEGRAL - EFICIENCIA Y CONTROL',\n",
    "        'x': 0.5,\n",
    "        'font': {'size': 20, 'color': COLOR_PALETTE['primary']}\n",
    "    },\n",
    "    height=900,\n",
    "    showlegend=False\n",
    ")\n",
    "\n",
    "fig.update_yaxes(title_text=\"Horas Promedio\", row=2, col=1)\n",
    "fig.update_yaxes(title_text=\"Número de Tareas\", row=2, col=2)\n",
    "\n",
    "fig.show()\n",
    "\n",
    "# KPIs operacionales\n",
    "total_tareas = len(df_op)\n",
    "tareas_completadas = len(df_op[df_op['estado'] == 'Completada'])\n",
    "eficiencia_operacional = (tareas_completadas / total_tareas) * 100 if total_tareas > 0 else 0\n",
    "duracion_promedio_general = df_op['duracion_horas'].mean()\n",
    "\n",
    "print(\"⚙️ ANÁLISIS OPERACIONAL:\")\n",
    "print(f\"📊 EFICIENCIA GENERAL: {eficiencia_operacional:.1f}%\")\n",
    "print(f\"✅ TAREAS COMPLETADAS: {tareas_completadas}/{total_tareas}\")\n",
    "print(f\"⏱️ DURACIÓN PROMEDIO: {duracion_promedio_general:.1f} horas/tarea\" if pd.notna(duracion_promedio_general) else \"⏱️ DURACIÓN PROMEDIO: N/A\")\n",
    "print(f\"🚨 PRIORIDAD ALTA: {prioridades.get('Alta', 0)} tareas\")\n",
    "print(f\"📅 DÍA MÁS ACTIVO: {dias_semana.index[0]} ({dias_semana.iloc[0]} tareas)\" if not dias_semana.empty else \"📅 DÍA MÁS ACTIVO: N/A\")\n",
    "print(f\"🔄 TAREAS EN PROGRESO: {estados.get('En_Progreso', 0)}\")\n",
    "print(f\"⏸️ TAREAS PENDIENTES: {estados.get('Pendiente', 0)}\")"
   ]
  },
  {
   "cell_type": "markdown",
   "metadata": {},
   "source": [
    "---\n",
    "\n",
    "# 💡 7. RECOMENDACIONES ESTRATÉGICAS <a id=\"recomendaciones\"></a>\n",
    "\n",
    "## 🎯 **PLAN DE ACCIÓN EJECUTIVO - OPTIMIZACIÓN INTEGRAL**\n",
    "\n",
    "### Recomendaciones basadas en datos para maximizar ROI y eficiencia operacional"
   ]
  },
  {
   "cell_type": "code",
   "execution_count": 9,
   "metadata": {},
   "outputs": [
    {
     "data": {
      "application/vnd.plotly.v1+json": {
       "config": {
        "plotlyServerURL": "https://plot.ly"
       },
       "data": [
        {
         "cells": {
          "align": "center",
          "fill": {
           "color": "white"
          },
          "font": {
           "size": 12
          },
          "height": 40,
          "values": [
           [
            "RECURSOS HUMANOS",
            "FINANCIERO",
            "OPERACIONAL",
            "TERRITORIAL",
            "PRODUCTIVIDAD"
           ],
           [
            "CRÍTICA",
            "ALTA",
            "MEDIA",
            "ALTA",
            "MEDIA"
           ],
           [
            "Promover Charlie López a Supervisor",
            "Expandir Campo Sur (Lote B2)",
            "Optimizar proceso COSECHA",
            "Replicar mejores prácticas suelo Franco",
            "Capacitar empleado Ana Torres"
           ],
           [
            "+5%",
            "+15%",
            "+3%",
            "+8%",
            "+2%"
           ],
           [
            "0-30 días",
            "3-6 meses",
            "1-3 meses",
            "6-12 meses",
            "1-2 meses"
           ]
          ]
         },
         "header": {
          "align": "center",
          "fill": {
           "color": "#2E8B57"
          },
          "font": {
           "color": "white",
           "size": 14
          },
          "values": [
           "🎯 CATEGORÍA",
           "🚨 PRIORIDAD",
           "💡 RECOMENDACIÓN",
           "📊 IMPACTO ROI",
           "⏱️ PLAZO"
          ]
         },
         "type": "table"
        }
       ],
       "layout": {
        "height": 400,
        "template": {
         "data": {
          "bar": [
           {
            "error_x": {
             "color": "#2a3f5f"
            },
            "error_y": {
             "color": "#2a3f5f"
            },
            "marker": {
             "line": {
              "color": "#E5ECF6",
              "width": 0.5
             },
             "pattern": {
              "fillmode": "overlay",
              "size": 10,
              "solidity": 0.2
             }
            },
            "type": "bar"
           }
          ],
          "barpolar": [
           {
            "marker": {
             "line": {
              "color": "#E5ECF6",
              "width": 0.5
             },
             "pattern": {
              "fillmode": "overlay",
              "size": 10,
              "solidity": 0.2
             }
            },
            "type": "barpolar"
           }
          ],
          "carpet": [
           {
            "aaxis": {
             "endlinecolor": "#2a3f5f",
             "gridcolor": "white",
             "linecolor": "white",
             "minorgridcolor": "white",
             "startlinecolor": "#2a3f5f"
            },
            "baxis": {
             "endlinecolor": "#2a3f5f",
             "gridcolor": "white",
             "linecolor": "white",
             "minorgridcolor": "white",
             "startlinecolor": "#2a3f5f"
            },
            "type": "carpet"
           }
          ],
          "choropleth": [
           {
            "colorbar": {
             "outlinewidth": 0,
             "ticks": ""
            },
            "type": "choropleth"
           }
          ],
          "contour": [
           {
            "colorbar": {
             "outlinewidth": 0,
             "ticks": ""
            },
            "colorscale": [
             [
              0,
              "#0d0887"
             ],
             [
              0.1111111111111111,
              "#46039f"
             ],
             [
              0.2222222222222222,
              "#7201a8"
             ],
             [
              0.3333333333333333,
              "#9c179e"
             ],
             [
              0.4444444444444444,
              "#bd3786"
             ],
             [
              0.5555555555555556,
              "#d8576b"
             ],
             [
              0.6666666666666666,
              "#ed7953"
             ],
             [
              0.7777777777777778,
              "#fb9f3a"
             ],
             [
              0.8888888888888888,
              "#fdca26"
             ],
             [
              1,
              "#f0f921"
             ]
            ],
            "type": "contour"
           }
          ],
          "contourcarpet": [
           {
            "colorbar": {
             "outlinewidth": 0,
             "ticks": ""
            },
            "type": "contourcarpet"
           }
          ],
          "heatmap": [
           {
            "colorbar": {
             "outlinewidth": 0,
             "ticks": ""
            },
            "colorscale": [
             [
              0,
              "#0d0887"
             ],
             [
              0.1111111111111111,
              "#46039f"
             ],
             [
              0.2222222222222222,
              "#7201a8"
             ],
             [
              0.3333333333333333,
              "#9c179e"
             ],
             [
              0.4444444444444444,
              "#bd3786"
             ],
             [
              0.5555555555555556,
              "#d8576b"
             ],
             [
              0.6666666666666666,
              "#ed7953"
             ],
             [
              0.7777777777777778,
              "#fb9f3a"
             ],
             [
              0.8888888888888888,
              "#fdca26"
             ],
             [
              1,
              "#f0f921"
             ]
            ],
            "type": "heatmap"
           }
          ],
          "histogram": [
           {
            "marker": {
             "pattern": {
              "fillmode": "overlay",
              "size": 10,
              "solidity": 0.2
             }
            },
            "type": "histogram"
           }
          ],
          "histogram2d": [
           {
            "colorbar": {
             "outlinewidth": 0,
             "ticks": ""
            },
            "colorscale": [
             [
              0,
              "#0d0887"
             ],
             [
              0.1111111111111111,
              "#46039f"
             ],
             [
              0.2222222222222222,
              "#7201a8"
             ],
             [
              0.3333333333333333,
              "#9c179e"
             ],
             [
              0.4444444444444444,
              "#bd3786"
             ],
             [
              0.5555555555555556,
              "#d8576b"
             ],
             [
              0.6666666666666666,
              "#ed7953"
             ],
             [
              0.7777777777777778,
              "#fb9f3a"
             ],
             [
              0.8888888888888888,
              "#fdca26"
             ],
             [
              1,
              "#f0f921"
             ]
            ],
            "type": "histogram2d"
           }
          ],
          "histogram2dcontour": [
           {
            "colorbar": {
             "outlinewidth": 0,
             "ticks": ""
            },
            "colorscale": [
             [
              0,
              "#0d0887"
             ],
             [
              0.1111111111111111,
              "#46039f"
             ],
             [
              0.2222222222222222,
              "#7201a8"
             ],
             [
              0.3333333333333333,
              "#9c179e"
             ],
             [
              0.4444444444444444,
              "#bd3786"
             ],
             [
              0.5555555555555556,
              "#d8576b"
             ],
             [
              0.6666666666666666,
              "#ed7953"
             ],
             [
              0.7777777777777778,
              "#fb9f3a"
             ],
             [
              0.8888888888888888,
              "#fdca26"
             ],
             [
              1,
              "#f0f921"
             ]
            ],
            "type": "histogram2dcontour"
           }
          ],
          "mesh3d": [
           {
            "colorbar": {
             "outlinewidth": 0,
             "ticks": ""
            },
            "type": "mesh3d"
           }
          ],
          "parcoords": [
           {
            "line": {
             "colorbar": {
              "outlinewidth": 0,
              "ticks": ""
             }
            },
            "type": "parcoords"
           }
          ],
          "pie": [
           {
            "automargin": true,
            "type": "pie"
           }
          ],
          "scatter": [
           {
            "fillpattern": {
             "fillmode": "overlay",
             "size": 10,
             "solidity": 0.2
            },
            "type": "scatter"
           }
          ],
          "scatter3d": [
           {
            "line": {
             "colorbar": {
              "outlinewidth": 0,
              "ticks": ""
             }
            },
            "marker": {
             "colorbar": {
              "outlinewidth": 0,
              "ticks": ""
             }
            },
            "type": "scatter3d"
           }
          ],
          "scattercarpet": [
           {
            "marker": {
             "colorbar": {
              "outlinewidth": 0,
              "ticks": ""
             }
            },
            "type": "scattercarpet"
           }
          ],
          "scattergeo": [
           {
            "marker": {
             "colorbar": {
              "outlinewidth": 0,
              "ticks": ""
             }
            },
            "type": "scattergeo"
           }
          ],
          "scattergl": [
           {
            "marker": {
             "colorbar": {
              "outlinewidth": 0,
              "ticks": ""
             }
            },
            "type": "scattergl"
           }
          ],
          "scattermap": [
           {
            "marker": {
             "colorbar": {
              "outlinewidth": 0,
              "ticks": ""
             }
            },
            "type": "scattermap"
           }
          ],
          "scattermapbox": [
           {
            "marker": {
             "colorbar": {
              "outlinewidth": 0,
              "ticks": ""
             }
            },
            "type": "scattermapbox"
           }
          ],
          "scatterpolar": [
           {
            "marker": {
             "colorbar": {
              "outlinewidth": 0,
              "ticks": ""
             }
            },
            "type": "scatterpolar"
           }
          ],
          "scatterpolargl": [
           {
            "marker": {
             "colorbar": {
              "outlinewidth": 0,
              "ticks": ""
             }
            },
            "type": "scatterpolargl"
           }
          ],
          "scatterternary": [
           {
            "marker": {
             "colorbar": {
              "outlinewidth": 0,
              "ticks": ""
             }
            },
            "type": "scatterternary"
           }
          ],
          "surface": [
           {
            "colorbar": {
             "outlinewidth": 0,
             "ticks": ""
            },
            "colorscale": [
             [
              0,
              "#0d0887"
             ],
             [
              0.1111111111111111,
              "#46039f"
             ],
             [
              0.2222222222222222,
              "#7201a8"
             ],
             [
              0.3333333333333333,
              "#9c179e"
             ],
             [
              0.4444444444444444,
              "#bd3786"
             ],
             [
              0.5555555555555556,
              "#d8576b"
             ],
             [
              0.6666666666666666,
              "#ed7953"
             ],
             [
              0.7777777777777778,
              "#fb9f3a"
             ],
             [
              0.8888888888888888,
              "#fdca26"
             ],
             [
              1,
              "#f0f921"
             ]
            ],
            "type": "surface"
           }
          ],
          "table": [
           {
            "cells": {
             "fill": {
              "color": "#EBF0F8"
             },
             "line": {
              "color": "white"
             }
            },
            "header": {
             "fill": {
              "color": "#C8D4E3"
             },
             "line": {
              "color": "white"
             }
            },
            "type": "table"
           }
          ]
         },
         "layout": {
          "annotationdefaults": {
           "arrowcolor": "#2a3f5f",
           "arrowhead": 0,
           "arrowwidth": 1
          },
          "autotypenumbers": "strict",
          "coloraxis": {
           "colorbar": {
            "outlinewidth": 0,
            "ticks": ""
           }
          },
          "colorscale": {
           "diverging": [
            [
             0,
             "#8e0152"
            ],
            [
             0.1,
             "#c51b7d"
            ],
            [
             0.2,
             "#de77ae"
            ],
            [
             0.3,
             "#f1b6da"
            ],
            [
             0.4,
             "#fde0ef"
            ],
            [
             0.5,
             "#f7f7f7"
            ],
            [
             0.6,
             "#e6f5d0"
            ],
            [
             0.7,
             "#b8e186"
            ],
            [
             0.8,
             "#7fbc41"
            ],
            [
             0.9,
             "#4d9221"
            ],
            [
             1,
             "#276419"
            ]
           ],
           "sequential": [
            [
             0,
             "#0d0887"
            ],
            [
             0.1111111111111111,
             "#46039f"
            ],
            [
             0.2222222222222222,
             "#7201a8"
            ],
            [
             0.3333333333333333,
             "#9c179e"
            ],
            [
             0.4444444444444444,
             "#bd3786"
            ],
            [
             0.5555555555555556,
             "#d8576b"
            ],
            [
             0.6666666666666666,
             "#ed7953"
            ],
            [
             0.7777777777777778,
             "#fb9f3a"
            ],
            [
             0.8888888888888888,
             "#fdca26"
            ],
            [
             1,
             "#f0f921"
            ]
           ],
           "sequentialminus": [
            [
             0,
             "#0d0887"
            ],
            [
             0.1111111111111111,
             "#46039f"
            ],
            [
             0.2222222222222222,
             "#7201a8"
            ],
            [
             0.3333333333333333,
             "#9c179e"
            ],
            [
             0.4444444444444444,
             "#bd3786"
            ],
            [
             0.5555555555555556,
             "#d8576b"
            ],
            [
             0.6666666666666666,
             "#ed7953"
            ],
            [
             0.7777777777777778,
             "#fb9f3a"
            ],
            [
             0.8888888888888888,
             "#fdca26"
            ],
            [
             1,
             "#f0f921"
            ]
           ]
          },
          "colorway": [
           "#636efa",
           "#EF553B",
           "#00cc96",
           "#ab63fa",
           "#FFA15A",
           "#19d3f3",
           "#FF6692",
           "#B6E880",
           "#FF97FF",
           "#FECB52"
          ],
          "font": {
           "color": "#2a3f5f"
          },
          "geo": {
           "bgcolor": "white",
           "lakecolor": "white",
           "landcolor": "#E5ECF6",
           "showlakes": true,
           "showland": true,
           "subunitcolor": "white"
          },
          "hoverlabel": {
           "align": "left"
          },
          "hovermode": "closest",
          "mapbox": {
           "style": "light"
          },
          "paper_bgcolor": "white",
          "plot_bgcolor": "#E5ECF6",
          "polar": {
           "angularaxis": {
            "gridcolor": "white",
            "linecolor": "white",
            "ticks": ""
           },
           "bgcolor": "#E5ECF6",
           "radialaxis": {
            "gridcolor": "white",
            "linecolor": "white",
            "ticks": ""
           }
          },
          "scene": {
           "xaxis": {
            "backgroundcolor": "#E5ECF6",
            "gridcolor": "white",
            "gridwidth": 2,
            "linecolor": "white",
            "showbackground": true,
            "ticks": "",
            "zerolinecolor": "white"
           },
           "yaxis": {
            "backgroundcolor": "#E5ECF6",
            "gridcolor": "white",
            "gridwidth": 2,
            "linecolor": "white",
            "showbackground": true,
            "ticks": "",
            "zerolinecolor": "white"
           },
           "zaxis": {
            "backgroundcolor": "#E5ECF6",
            "gridcolor": "white",
            "gridwidth": 2,
            "linecolor": "white",
            "showbackground": true,
            "ticks": "",
            "zerolinecolor": "white"
           }
          },
          "shapedefaults": {
           "line": {
            "color": "#2a3f5f"
           }
          },
          "ternary": {
           "aaxis": {
            "gridcolor": "white",
            "linecolor": "white",
            "ticks": ""
           },
           "baxis": {
            "gridcolor": "white",
            "linecolor": "white",
            "ticks": ""
           },
           "bgcolor": "#E5ECF6",
           "caxis": {
            "gridcolor": "white",
            "linecolor": "white",
            "ticks": ""
           }
          },
          "title": {
           "x": 0.05
          },
          "xaxis": {
           "automargin": true,
           "gridcolor": "white",
           "linecolor": "white",
           "ticks": "",
           "title": {
            "standoff": 15
           },
           "zerolinecolor": "white",
           "zerolinewidth": 2
          },
          "yaxis": {
           "automargin": true,
           "gridcolor": "white",
           "linecolor": "white",
           "ticks": "",
           "title": {
            "standoff": 15
           },
           "zerolinecolor": "white",
           "zerolinewidth": 2
          }
         }
        },
        "title": {
         "font": {
          "color": "#2E8B57",
          "size": 20
         },
         "text": "💡 PLAN DE ACCIÓN ESTRATÉGICO - RECOMENDACIONES PRIORIZADAS",
         "x": 0.5
        }
       }
      }
     },
     "metadata": {},
     "output_type": "display_data"
    },
    {
     "name": "stdout",
     "output_type": "stream",
     "text": [
      "💡 PLAN DE ACCIÓN ESTRATÉGICO:\n",
      "==================================================\n",
      "🎯 RECOMENDACIONES CRÍTICAS (0-30 días):\n",
      "   1. Promover Charlie López a Supervisor\n",
      "   2. Activar empleado Ana Torres (0% productividad)\n",
      "   3. Finalizar tareas pendientes en Campo Este\n",
      "\n",
      "📈 MEJORAS OPERACIONALES (1-3 meses):\n",
      "   1. Optimizar proceso COSECHA (reducir $285 → $200)\n",
      "   2. Implementar mejor control presupuestario\n",
      "   3. Capacitación empleados especialización\n",
      "\n",
      "🚀 CRECIMIENTO ESTRATÉGICO (3-12 meses):\n",
      "   1. Expandir Campo Sur (225% ROI → 4.2 Ha adicionales)\n",
      "   2. Replicar mejores prácticas suelo Franco\n",
      "   3. Aumentar target productividad: 28.5 → 50 torvadas\n",
      "\n",
      "📊 PROYECCIÓN FINANCIERA:\n",
      "   - ROI Actual: -5.58%\n",
      "   - ROI Proyectado: 27.42%\n",
      "   - Mejora Total: +33 puntos porcentuales\n",
      "   - Inversión estimada plan: ~$2,000\n",
      "   - Retorno esperado año 1: ~$3,500\n"
     ]
    }
   ],
   "source": [
    "# 💡 VISUALIZACIÓN RECOMENDACIONES ESTRATÉGICAS\n",
    "fig = go.Figure()\n",
    "\n",
    "# Crear dashboard de recomendaciones\n",
    "recomendaciones_data = [\n",
    "    {\"Categoría\": \"RECURSOS HUMANOS\", \"Prioridad\": \"CRÍTICA\", \n",
    "     \"Recomendación\": \"Promover Charlie López a Supervisor\", \n",
    "     \"Impacto ROI\": \"+5%\", \"Plazo\": \"0-30 días\"},\n",
    "    \n",
    "    {\"Categoría\": \"FINANCIERO\", \"Prioridad\": \"ALTA\", \n",
    "     \"Recomendación\": \"Expandir Campo Sur (Lote B2)\", \n",
    "     \"Impacto ROI\": \"+15%\", \"Plazo\": \"3-6 meses\"},\n",
    "    \n",
    "    {\"Categoría\": \"OPERACIONAL\", \"Prioridad\": \"MEDIA\", \n",
    "     \"Recomendación\": \"Optimizar proceso COSECHA\", \n",
    "     \"Impacto ROI\": \"+3%\", \"Plazo\": \"1-3 meses\"},\n",
    "    \n",
    "    {\"Categoría\": \"TERRITORIAL\", \"Prioridad\": \"ALTA\", \n",
    "     \"Recomendación\": \"Replicar mejores prácticas suelo Franco\", \n",
    "     \"Impacto ROI\": \"+8%\", \"Plazo\": \"6-12 meses\"},\n",
    "    \n",
    "    {\"Categoría\": \"PRODUCTIVIDAD\", \"Prioridad\": \"MEDIA\", \n",
    "     \"Recomendación\": \"Capacitar empleado Ana Torres\", \n",
    "     \"Impacto ROI\": \"+2%\", \"Plazo\": \"1-2 meses\"}\n",
    "]\n",
    "\n",
    "# Crear tabla de recomendaciones\n",
    "fig = go.Figure(data=[go.Table(\n",
    "    header=dict(\n",
    "        values=['🎯 CATEGORÍA', '🚨 PRIORIDAD', '💡 RECOMENDACIÓN', '📊 IMPACTO ROI', '⏱️ PLAZO'],\n",
    "        fill_color=COLOR_PALETTE['primary'],\n",
    "        font=dict(color='white', size=14),\n",
    "        align='center'\n",
    "    ),\n",
    "    cells=dict(\n",
    "        values=[\n",
    "            [r['Categoría'] for r in recomendaciones_data],\n",
    "            [r['Prioridad'] for r in recomendaciones_data], \n",
    "            [r['Recomendación'] for r in recomendaciones_data],\n",
    "            [r['Impacto ROI'] for r in recomendaciones_data],\n",
    "            [r['Plazo'] for r in recomendaciones_data]\n",
    "        ],\n",
    "        fill_color='white',\n",
    "        font=dict(size=12),\n",
    "        align='center',\n",
    "        height=40\n",
    "    )\n",
    ")])\n",
    "\n",
    "fig.update_layout(\n",
    "    title={\n",
    "        'text': '💡 PLAN DE ACCIÓN ESTRATÉGICO - RECOMENDACIONES PRIORIZADAS',\n",
    "        'x': 0.5,\n",
    "        'font': {'size': 20, 'color': COLOR_PALETTE['primary']}\n",
    "    },\n",
    "    height=400\n",
    ")\n",
    "\n",
    "fig.show()\n",
    "\n",
    "# Proyección de impacto\n",
    "impacto_total = sum([int(r['Impacto ROI'].replace('%', '').replace('+', '')) for r in recomendaciones_data])\n",
    "if not df_kpi_finanzas.empty and 'roi_general_porcentaje' in df_kpi_finanzas.columns:\n",
    "    roi_actual = df_kpi_finanzas['roi_general_porcentaje'].iloc[0]\n",
    "else:\n",
    "    roi_actual = -5.58  # Valor por defecto\n",
    "roi_proyectado = roi_actual + impacto_total\n",
    "\n",
    "print(\"💡 PLAN DE ACCIÓN ESTRATÉGICO:\")\n",
    "print(\"=\"*50)\n",
    "print(\"🎯 RECOMENDACIONES CRÍTICAS (0-30 días):\")\n",
    "print(\"   1. Promover Charlie López a Supervisor\")\n",
    "print(\"   2. Activar empleado Ana Torres (0% productividad)\")\n",
    "print(\"   3. Finalizar tareas pendientes en Campo Este\")\n",
    "print()\n",
    "print(\"📈 MEJORAS OPERACIONALES (1-3 meses):\")\n",
    "print(\"   1. Optimizar proceso COSECHA (reducir $285 → $200)\")\n",
    "print(\"   2. Implementar mejor control presupuestario\")\n",
    "print(\"   3. Capacitación empleados especialización\")\n",
    "print()\n",
    "print(\"🚀 CRECIMIENTO ESTRATÉGICO (3-12 meses):\")\n",
    "print(\"   1. Expandir Campo Sur (225% ROI → 4.2 Ha adicionales)\")\n",
    "print(\"   2. Replicar mejores prácticas suelo Franco\")\n",
    "print(\"   3. Aumentar target productividad: 28.5 → 50 torvadas\")\n",
    "print()\n",
    "print(f\"📊 PROYECCIÓN FINANCIERA:\")\n",
    "print(f\"   - ROI Actual: {roi_actual:.2f}%\")\n",
    "print(f\"   - ROI Proyectado: {roi_proyectado:.2f}%\")\n",
    "print(f\"   - Mejora Total: +{impacto_total} puntos porcentuales\")\n",
    "print(f\"   - Inversión estimada plan: ~$2,000\")\n",
    "print(f\"   - Retorno esperado año 1: ~$3,500\")"
   ]
  },
  {
   "cell_type": "markdown",
   "metadata": {},
   "source": [
    "---\n",
    "\n",
    "# 📈 8. PROYECCIONES Y CONCLUSIONES <a id=\"proyecciones\"></a>\n",
    "\n",
    "## 🔮 **ESCENARIOS FUTUROS Y PLAN DE IMPLEMENTACIÓN**\n",
    "\n",
    "### Proyecciones basadas en implementación del plan estratégico"
   ]
  },
  {
   "cell_type": "code",
   "execution_count": 10,
   "metadata": {},
   "outputs": [
    {
     "data": {
      "application/vnd.plotly.v1+json": {
       "config": {
        "plotlyServerURL": "https://plot.ly"
       },
       "data": [
        {
         "line": {
          "color": "#4682B4",
          "width": 3
         },
         "mode": "lines+markers",
         "name": "Escenario Conservador",
         "type": "scatter",
         "x": [
          "Actual",
          "Mar 2025",
          "Jun 2025",
          "Sep 2025",
          "Dic 2025"
         ],
         "xaxis": "x",
         "y": [
          -5.58,
          -2,
          5,
          8,
          12
         ],
         "yaxis": "y"
        },
        {
         "line": {
          "color": "#32CD32",
          "width": 3
         },
         "mode": "lines+markers",
         "name": "Escenario Optimista",
         "type": "scatter",
         "x": [
          "Actual",
          "Mar 2025",
          "Jun 2025",
          "Sep 2025",
          "Dic 2025"
         ],
         "xaxis": "x",
         "y": [
          -5.58,
          0,
          8,
          12,
          18
         ],
         "yaxis": "y"
        },
        {
         "line": {
          "color": "#DC143C",
          "width": 3
         },
         "mode": "lines+markers",
         "name": "Escenario Pesimista",
         "type": "scatter",
         "x": [
          "Actual",
          "Mar 2025",
          "Jun 2025",
          "Sep 2025",
          "Dic 2025"
         ],
         "xaxis": "x",
         "y": [
          -5.58,
          -4,
          -1,
          2,
          5
         ],
         "yaxis": "y"
        },
        {
         "marker": {
          "color": [
           "#DC143C",
           "#32CD32",
           "#32CD32",
           "#32CD32",
           "#32CD32"
          ]
         },
         "name": "Torvadas Proyectadas",
         "text": [
          "28.5",
          "35",
          "42",
          "47",
          "52"
         ],
         "textposition": "auto",
         "type": "bar",
         "x": [
          "Actual",
          "Mar 2025",
          "Jun 2025",
          "Sep 2025",
          "Dic 2025"
         ],
         "xaxis": "x2",
         "y": [
          28.5,
          35,
          42,
          47,
          52
         ],
         "yaxis": "y2"
        },
        {
         "line": {
          "color": "#2E8B57",
          "width": 4
         },
         "marker": {
          "size": 12
         },
         "mode": "lines+markers+text",
         "name": "Eficiencia %",
         "text": [
          "72.7%",
          "78.0%",
          "84.0%",
          "88.0%",
          "92.0%"
         ],
         "textposition": "top center",
         "type": "scatter",
         "x": [
          "Actual",
          "Mar 2025",
          "Jun 2025",
          "Sep 2025",
          "Dic 2025"
         ],
         "xaxis": "x3",
         "y": [
          72.7,
          78,
          84,
          88,
          92
         ],
         "yaxis": "y3"
        },
        {
         "marker": {
          "color": "#FFD700"
         },
         "name": "Inversión",
         "type": "bar",
         "x": [
          "Situación Actual",
          "Con Plan Estratégico"
         ],
         "xaxis": "x4",
         "y": [
          981,
          2981
         ],
         "yaxis": "y4"
        },
        {
         "marker": {
          "color": "#32CD32"
         },
         "name": "Ingresos",
         "type": "bar",
         "x": [
          "Situación Actual",
          "Con Plan Estratégico"
         ],
         "xaxis": "x4",
         "y": [
          926,
          4426
         ],
         "yaxis": "y4"
        }
       ],
       "layout": {
        "annotations": [
         {
          "font": {
           "size": 16
          },
          "showarrow": false,
          "text": "Proyección ROI - Escenarios 2025",
          "x": 0.225,
          "xanchor": "center",
          "xref": "paper",
          "y": 1,
          "yanchor": "bottom",
          "yref": "paper"
         },
         {
          "font": {
           "size": 16
          },
          "showarrow": false,
          "text": "Proyección Productividad (Torvadas)",
          "x": 0.775,
          "xanchor": "center",
          "xref": "paper",
          "y": 1,
          "yanchor": "bottom",
          "yref": "paper"
         },
         {
          "font": {
           "size": 16
          },
          "showarrow": false,
          "text": "Evolución Eficiencia Operacional",
          "x": 0.225,
          "xanchor": "center",
          "xref": "paper",
          "y": 0.375,
          "yanchor": "bottom",
          "yref": "paper"
         },
         {
          "font": {
           "size": 16
          },
          "showarrow": false,
          "text": "Impacto Financiero Plan Estratégico",
          "x": 0.775,
          "xanchor": "center",
          "xref": "paper",
          "y": 0.375,
          "yanchor": "bottom",
          "yref": "paper"
         }
        ],
        "height": 900,
        "showlegend": true,
        "template": {
         "data": {
          "bar": [
           {
            "error_x": {
             "color": "#2a3f5f"
            },
            "error_y": {
             "color": "#2a3f5f"
            },
            "marker": {
             "line": {
              "color": "#E5ECF6",
              "width": 0.5
             },
             "pattern": {
              "fillmode": "overlay",
              "size": 10,
              "solidity": 0.2
             }
            },
            "type": "bar"
           }
          ],
          "barpolar": [
           {
            "marker": {
             "line": {
              "color": "#E5ECF6",
              "width": 0.5
             },
             "pattern": {
              "fillmode": "overlay",
              "size": 10,
              "solidity": 0.2
             }
            },
            "type": "barpolar"
           }
          ],
          "carpet": [
           {
            "aaxis": {
             "endlinecolor": "#2a3f5f",
             "gridcolor": "white",
             "linecolor": "white",
             "minorgridcolor": "white",
             "startlinecolor": "#2a3f5f"
            },
            "baxis": {
             "endlinecolor": "#2a3f5f",
             "gridcolor": "white",
             "linecolor": "white",
             "minorgridcolor": "white",
             "startlinecolor": "#2a3f5f"
            },
            "type": "carpet"
           }
          ],
          "choropleth": [
           {
            "colorbar": {
             "outlinewidth": 0,
             "ticks": ""
            },
            "type": "choropleth"
           }
          ],
          "contour": [
           {
            "colorbar": {
             "outlinewidth": 0,
             "ticks": ""
            },
            "colorscale": [
             [
              0,
              "#0d0887"
             ],
             [
              0.1111111111111111,
              "#46039f"
             ],
             [
              0.2222222222222222,
              "#7201a8"
             ],
             [
              0.3333333333333333,
              "#9c179e"
             ],
             [
              0.4444444444444444,
              "#bd3786"
             ],
             [
              0.5555555555555556,
              "#d8576b"
             ],
             [
              0.6666666666666666,
              "#ed7953"
             ],
             [
              0.7777777777777778,
              "#fb9f3a"
             ],
             [
              0.8888888888888888,
              "#fdca26"
             ],
             [
              1,
              "#f0f921"
             ]
            ],
            "type": "contour"
           }
          ],
          "contourcarpet": [
           {
            "colorbar": {
             "outlinewidth": 0,
             "ticks": ""
            },
            "type": "contourcarpet"
           }
          ],
          "heatmap": [
           {
            "colorbar": {
             "outlinewidth": 0,
             "ticks": ""
            },
            "colorscale": [
             [
              0,
              "#0d0887"
             ],
             [
              0.1111111111111111,
              "#46039f"
             ],
             [
              0.2222222222222222,
              "#7201a8"
             ],
             [
              0.3333333333333333,
              "#9c179e"
             ],
             [
              0.4444444444444444,
              "#bd3786"
             ],
             [
              0.5555555555555556,
              "#d8576b"
             ],
             [
              0.6666666666666666,
              "#ed7953"
             ],
             [
              0.7777777777777778,
              "#fb9f3a"
             ],
             [
              0.8888888888888888,
              "#fdca26"
             ],
             [
              1,
              "#f0f921"
             ]
            ],
            "type": "heatmap"
           }
          ],
          "histogram": [
           {
            "marker": {
             "pattern": {
              "fillmode": "overlay",
              "size": 10,
              "solidity": 0.2
             }
            },
            "type": "histogram"
           }
          ],
          "histogram2d": [
           {
            "colorbar": {
             "outlinewidth": 0,
             "ticks": ""
            },
            "colorscale": [
             [
              0,
              "#0d0887"
             ],
             [
              0.1111111111111111,
              "#46039f"
             ],
             [
              0.2222222222222222,
              "#7201a8"
             ],
             [
              0.3333333333333333,
              "#9c179e"
             ],
             [
              0.4444444444444444,
              "#bd3786"
             ],
             [
              0.5555555555555556,
              "#d8576b"
             ],
             [
              0.6666666666666666,
              "#ed7953"
             ],
             [
              0.7777777777777778,
              "#fb9f3a"
             ],
             [
              0.8888888888888888,
              "#fdca26"
             ],
             [
              1,
              "#f0f921"
             ]
            ],
            "type": "histogram2d"
           }
          ],
          "histogram2dcontour": [
           {
            "colorbar": {
             "outlinewidth": 0,
             "ticks": ""
            },
            "colorscale": [
             [
              0,
              "#0d0887"
             ],
             [
              0.1111111111111111,
              "#46039f"
             ],
             [
              0.2222222222222222,
              "#7201a8"
             ],
             [
              0.3333333333333333,
              "#9c179e"
             ],
             [
              0.4444444444444444,
              "#bd3786"
             ],
             [
              0.5555555555555556,
              "#d8576b"
             ],
             [
              0.6666666666666666,
              "#ed7953"
             ],
             [
              0.7777777777777778,
              "#fb9f3a"
             ],
             [
              0.8888888888888888,
              "#fdca26"
             ],
             [
              1,
              "#f0f921"
             ]
            ],
            "type": "histogram2dcontour"
           }
          ],
          "mesh3d": [
           {
            "colorbar": {
             "outlinewidth": 0,
             "ticks": ""
            },
            "type": "mesh3d"
           }
          ],
          "parcoords": [
           {
            "line": {
             "colorbar": {
              "outlinewidth": 0,
              "ticks": ""
             }
            },
            "type": "parcoords"
           }
          ],
          "pie": [
           {
            "automargin": true,
            "type": "pie"
           }
          ],
          "scatter": [
           {
            "fillpattern": {
             "fillmode": "overlay",
             "size": 10,
             "solidity": 0.2
            },
            "type": "scatter"
           }
          ],
          "scatter3d": [
           {
            "line": {
             "colorbar": {
              "outlinewidth": 0,
              "ticks": ""
             }
            },
            "marker": {
             "colorbar": {
              "outlinewidth": 0,
              "ticks": ""
             }
            },
            "type": "scatter3d"
           }
          ],
          "scattercarpet": [
           {
            "marker": {
             "colorbar": {
              "outlinewidth": 0,
              "ticks": ""
             }
            },
            "type": "scattercarpet"
           }
          ],
          "scattergeo": [
           {
            "marker": {
             "colorbar": {
              "outlinewidth": 0,
              "ticks": ""
             }
            },
            "type": "scattergeo"
           }
          ],
          "scattergl": [
           {
            "marker": {
             "colorbar": {
              "outlinewidth": 0,
              "ticks": ""
             }
            },
            "type": "scattergl"
           }
          ],
          "scattermap": [
           {
            "marker": {
             "colorbar": {
              "outlinewidth": 0,
              "ticks": ""
             }
            },
            "type": "scattermap"
           }
          ],
          "scattermapbox": [
           {
            "marker": {
             "colorbar": {
              "outlinewidth": 0,
              "ticks": ""
             }
            },
            "type": "scattermapbox"
           }
          ],
          "scatterpolar": [
           {
            "marker": {
             "colorbar": {
              "outlinewidth": 0,
              "ticks": ""
             }
            },
            "type": "scatterpolar"
           }
          ],
          "scatterpolargl": [
           {
            "marker": {
             "colorbar": {
              "outlinewidth": 0,
              "ticks": ""
             }
            },
            "type": "scatterpolargl"
           }
          ],
          "scatterternary": [
           {
            "marker": {
             "colorbar": {
              "outlinewidth": 0,
              "ticks": ""
             }
            },
            "type": "scatterternary"
           }
          ],
          "surface": [
           {
            "colorbar": {
             "outlinewidth": 0,
             "ticks": ""
            },
            "colorscale": [
             [
              0,
              "#0d0887"
             ],
             [
              0.1111111111111111,
              "#46039f"
             ],
             [
              0.2222222222222222,
              "#7201a8"
             ],
             [
              0.3333333333333333,
              "#9c179e"
             ],
             [
              0.4444444444444444,
              "#bd3786"
             ],
             [
              0.5555555555555556,
              "#d8576b"
             ],
             [
              0.6666666666666666,
              "#ed7953"
             ],
             [
              0.7777777777777778,
              "#fb9f3a"
             ],
             [
              0.8888888888888888,
              "#fdca26"
             ],
             [
              1,
              "#f0f921"
             ]
            ],
            "type": "surface"
           }
          ],
          "table": [
           {
            "cells": {
             "fill": {
              "color": "#EBF0F8"
             },
             "line": {
              "color": "white"
             }
            },
            "header": {
             "fill": {
              "color": "#C8D4E3"
             },
             "line": {
              "color": "white"
             }
            },
            "type": "table"
           }
          ]
         },
         "layout": {
          "annotationdefaults": {
           "arrowcolor": "#2a3f5f",
           "arrowhead": 0,
           "arrowwidth": 1
          },
          "autotypenumbers": "strict",
          "coloraxis": {
           "colorbar": {
            "outlinewidth": 0,
            "ticks": ""
           }
          },
          "colorscale": {
           "diverging": [
            [
             0,
             "#8e0152"
            ],
            [
             0.1,
             "#c51b7d"
            ],
            [
             0.2,
             "#de77ae"
            ],
            [
             0.3,
             "#f1b6da"
            ],
            [
             0.4,
             "#fde0ef"
            ],
            [
             0.5,
             "#f7f7f7"
            ],
            [
             0.6,
             "#e6f5d0"
            ],
            [
             0.7,
             "#b8e186"
            ],
            [
             0.8,
             "#7fbc41"
            ],
            [
             0.9,
             "#4d9221"
            ],
            [
             1,
             "#276419"
            ]
           ],
           "sequential": [
            [
             0,
             "#0d0887"
            ],
            [
             0.1111111111111111,
             "#46039f"
            ],
            [
             0.2222222222222222,
             "#7201a8"
            ],
            [
             0.3333333333333333,
             "#9c179e"
            ],
            [
             0.4444444444444444,
             "#bd3786"
            ],
            [
             0.5555555555555556,
             "#d8576b"
            ],
            [
             0.6666666666666666,
             "#ed7953"
            ],
            [
             0.7777777777777778,
             "#fb9f3a"
            ],
            [
             0.8888888888888888,
             "#fdca26"
            ],
            [
             1,
             "#f0f921"
            ]
           ],
           "sequentialminus": [
            [
             0,
             "#0d0887"
            ],
            [
             0.1111111111111111,
             "#46039f"
            ],
            [
             0.2222222222222222,
             "#7201a8"
            ],
            [
             0.3333333333333333,
             "#9c179e"
            ],
            [
             0.4444444444444444,
             "#bd3786"
            ],
            [
             0.5555555555555556,
             "#d8576b"
            ],
            [
             0.6666666666666666,
             "#ed7953"
            ],
            [
             0.7777777777777778,
             "#fb9f3a"
            ],
            [
             0.8888888888888888,
             "#fdca26"
            ],
            [
             1,
             "#f0f921"
            ]
           ]
          },
          "colorway": [
           "#636efa",
           "#EF553B",
           "#00cc96",
           "#ab63fa",
           "#FFA15A",
           "#19d3f3",
           "#FF6692",
           "#B6E880",
           "#FF97FF",
           "#FECB52"
          ],
          "font": {
           "color": "#2a3f5f"
          },
          "geo": {
           "bgcolor": "white",
           "lakecolor": "white",
           "landcolor": "#E5ECF6",
           "showlakes": true,
           "showland": true,
           "subunitcolor": "white"
          },
          "hoverlabel": {
           "align": "left"
          },
          "hovermode": "closest",
          "mapbox": {
           "style": "light"
          },
          "paper_bgcolor": "white",
          "plot_bgcolor": "#E5ECF6",
          "polar": {
           "angularaxis": {
            "gridcolor": "white",
            "linecolor": "white",
            "ticks": ""
           },
           "bgcolor": "#E5ECF6",
           "radialaxis": {
            "gridcolor": "white",
            "linecolor": "white",
            "ticks": ""
           }
          },
          "scene": {
           "xaxis": {
            "backgroundcolor": "#E5ECF6",
            "gridcolor": "white",
            "gridwidth": 2,
            "linecolor": "white",
            "showbackground": true,
            "ticks": "",
            "zerolinecolor": "white"
           },
           "yaxis": {
            "backgroundcolor": "#E5ECF6",
            "gridcolor": "white",
            "gridwidth": 2,
            "linecolor": "white",
            "showbackground": true,
            "ticks": "",
            "zerolinecolor": "white"
           },
           "zaxis": {
            "backgroundcolor": "#E5ECF6",
            "gridcolor": "white",
            "gridwidth": 2,
            "linecolor": "white",
            "showbackground": true,
            "ticks": "",
            "zerolinecolor": "white"
           }
          },
          "shapedefaults": {
           "line": {
            "color": "#2a3f5f"
           }
          },
          "ternary": {
           "aaxis": {
            "gridcolor": "white",
            "linecolor": "white",
            "ticks": ""
           },
           "baxis": {
            "gridcolor": "white",
            "linecolor": "white",
            "ticks": ""
           },
           "bgcolor": "#E5ECF6",
           "caxis": {
            "gridcolor": "white",
            "linecolor": "white",
            "ticks": ""
           }
          },
          "title": {
           "x": 0.05
          },
          "xaxis": {
           "automargin": true,
           "gridcolor": "white",
           "linecolor": "white",
           "ticks": "",
           "title": {
            "standoff": 15
           },
           "zerolinecolor": "white",
           "zerolinewidth": 2
          },
          "yaxis": {
           "automargin": true,
           "gridcolor": "white",
           "linecolor": "white",
           "ticks": "",
           "title": {
            "standoff": 15
           },
           "zerolinecolor": "white",
           "zerolinewidth": 2
          }
         }
        },
        "title": {
         "font": {
          "color": "#2E8B57",
          "size": 20
         },
         "text": "📈 PROYECCIONES ESTRATÉGICAS 2025 - ESCENARIOS DE CRECIMIENTO",
         "x": 0.5
        },
        "xaxis": {
         "anchor": "y",
         "domain": [
          0,
          0.45
         ]
        },
        "xaxis2": {
         "anchor": "y2",
         "domain": [
          0.55,
          1
         ]
        },
        "xaxis3": {
         "anchor": "y3",
         "domain": [
          0,
          0.45
         ]
        },
        "xaxis4": {
         "anchor": "y4",
         "domain": [
          0.55,
          1
         ]
        },
        "yaxis": {
         "anchor": "x",
         "domain": [
          0.625,
          1
         ],
         "title": {
          "text": "ROI %"
         }
        },
        "yaxis2": {
         "anchor": "x2",
         "domain": [
          0.625,
          1
         ],
         "title": {
          "text": "Torvadas"
         }
        },
        "yaxis3": {
         "anchor": "x3",
         "domain": [
          0,
          0.375
         ],
         "title": {
          "text": "Eficiencia %"
         }
        },
        "yaxis4": {
         "anchor": "x4",
         "domain": [
          0,
          0.375
         ],
         "title": {
          "text": "USD ($)"
         }
        }
       }
      }
     },
     "metadata": {},
     "output_type": "display_data"
    },
    {
     "name": "stdout",
     "output_type": "stream",
     "text": [
      "📈 PROYECCIONES ESTRATÉGICAS 2025:\n",
      "==================================================\n",
      "🎯 METAS CUANTIFICADAS:\n",
      "   ROI: -5.58% → +15% (Meta conservadora)\n",
      "   Eficiencia: 72.7% → 90%\n",
      "   Productividad: 28.5 → 50 torvadas\n",
      "   Áreas rentables: 1/6 → 4/6\n",
      "   Empleados 100%: 4/6 → 6/6\n",
      "\n",
      "💰 PROYECCIÓN FINANCIERA:\n",
      "   Inversión adicional: $2,000\n",
      "   Retorno esperado: $3,500\n",
      "   ROI del plan: 75% primer año\n",
      "   Payback period: 8-10 meses\n",
      "\n",
      "🚀 FACTORES CRÍTICOS DE ÉXITO:\n",
      "   1. Implementación disciplinada del plan\n",
      "   2. Supervisión mensual KPIs\n",
      "   3. Capacitación continua empleados\n",
      "   4. Expansión gradual áreas rentables\n",
      "   5. Optimización procesos costosos\n"
     ]
    }
   ],
   "source": [
    "# 📈 PROYECCIONES Y ESCENARIOS FUTUROS\n",
    "# AGREGAR ESTAS LÍNEAS AL INICIO DE LA CELDA:\n",
    "if not df_kpi_finanzas.empty and 'roi_general_porcentaje' in df_kpi_finanzas.columns:\n",
    "    roi_actual = df_kpi_finanzas['roi_general_porcentaje'].iloc[0]\n",
    "else:\n",
    "    roi_actual = -5.58\n",
    "    \n",
    "fig = make_subplots(\n",
    "    rows=2, cols=2,\n",
    "    subplot_titles=(\n",
    "        'Proyección ROI - Escenarios 2025',\n",
    "        'Proyección Productividad (Torvadas)',\n",
    "        'Evolución Eficiencia Operacional', \n",
    "        'Impacto Financiero Plan Estratégico'\n",
    "    )\n",
    ")\n",
    "\n",
    "# Escenarios de proyección\n",
    "meses = ['Actual', 'Mar 2025', 'Jun 2025', 'Sep 2025', 'Dic 2025']\n",
    "roi_conservador = [-5.58, -2, 5, 8, 12]\n",
    "roi_optimista = [-5.58, 0, 8, 12, 18]\n",
    "roi_pesimista = [-5.58, -4, -1, 2, 5]\n",
    "\n",
    "# Gráfico 1: Proyección ROI\n",
    "fig.add_trace(\n",
    "    go.Scatter(\n",
    "        x=meses,\n",
    "        y=roi_conservador,\n",
    "        mode='lines+markers',\n",
    "        name='Escenario Conservador',\n",
    "        line=dict(color=COLOR_PALETTE['accent'], width=3)\n",
    "    ), row=1, col=1\n",
    ")\n",
    "fig.add_trace(\n",
    "    go.Scatter(\n",
    "        x=meses,\n",
    "        y=roi_optimista,\n",
    "        mode='lines+markers',\n",
    "        name='Escenario Optimista',\n",
    "        line=dict(color=COLOR_PALETTE['success'], width=3)\n",
    "    ), row=1, col=1\n",
    ")\n",
    "fig.add_trace(\n",
    "    go.Scatter(\n",
    "        x=meses,\n",
    "        y=roi_pesimista,\n",
    "        mode='lines+markers',\n",
    "        name='Escenario Pesimista',\n",
    "        line=dict(color=COLOR_PALETTE['danger'], width=3)\n",
    "    ), row=1, col=1\n",
    ")\n",
    "\n",
    "# Gráfico 2: Proyección productividad\n",
    "torvadas_actual = [28.5]\n",
    "torvadas_proyectadas = [35, 42, 47, 52]\n",
    "fig.add_trace(\n",
    "    go.Bar(\n",
    "        x=meses,\n",
    "        y=torvadas_actual + torvadas_proyectadas,\n",
    "        name='Torvadas Proyectadas',\n",
    "        marker_color=[COLOR_PALETTE['danger']] + [COLOR_PALETTE['success']] * 4,\n",
    "        text=torvadas_actual + torvadas_proyectadas,\n",
    "        textposition='auto'\n",
    "    ), row=1, col=2\n",
    ")\n",
    "\n",
    "# Gráfico 3: Evolución eficiencia\n",
    "eficiencia_actual = [72.7]\n",
    "eficiencia_proyectada = [78, 84, 88, 92]\n",
    "fig.add_trace(\n",
    "    go.Scatter(\n",
    "        x=meses,\n",
    "        y=eficiencia_actual + eficiencia_proyectada,\n",
    "        mode='lines+markers+text',\n",
    "        name='Eficiencia %',\n",
    "        line=dict(color=COLOR_PALETTE['primary'], width=4),\n",
    "        marker=dict(size=12),\n",
    "        text=[f'{e:.1f}%' for e in eficiencia_actual + eficiencia_proyectada],\n",
    "        textposition='top center'\n",
    "    ), row=2, col=1\n",
    ")\n",
    "\n",
    "# Gráfico 4: Impacto financiero\n",
    "categorias_impacto = ['Situación Actual', 'Con Plan Estratégico']\n",
    "inversion_actual = [981]\n",
    "inversion_plan = [981 + 2000]  # Inversión adicional\n",
    "ingresos_actual = [926]\n",
    "ingresos_plan = [926 + 3500]  # Ingresos adicionales proyectados\n",
    "\n",
    "fig.add_trace(\n",
    "    go.Bar(\n",
    "        x=categorias_impacto,\n",
    "        y=inversion_actual + inversion_plan,\n",
    "        name='Inversión',\n",
    "        marker_color=COLOR_PALETTE['warning']\n",
    "    ), row=2, col=2\n",
    ")\n",
    "fig.add_trace(\n",
    "    go.Bar(\n",
    "        x=categorias_impacto,\n",
    "        y=ingresos_actual + ingresos_plan,\n",
    "        name='Ingresos',\n",
    "        marker_color=COLOR_PALETTE['success']\n",
    "    ), row=2, col=2\n",
    ")\n",
    "\n",
    "fig.update_layout(\n",
    "    title={\n",
    "        'text': '📈 PROYECCIONES ESTRATÉGICAS 2025 - ESCENARIOS DE CRECIMIENTO',\n",
    "        'x': 0.5,\n",
    "        'font': {'size': 20, 'color': COLOR_PALETTE['primary']}\n",
    "    },\n",
    "    height=900,\n",
    "    showlegend=True\n",
    ")\n",
    "\n",
    "fig.update_yaxes(title_text=\"ROI %\", row=1, col=1)\n",
    "fig.update_yaxes(title_text=\"Torvadas\", row=1, col=2)\n",
    "fig.update_yaxes(title_text=\"Eficiencia %\", row=2, col=1)\n",
    "fig.update_yaxes(title_text=\"USD ($)\", row=2, col=2)\n",
    "\n",
    "fig.show()\n",
    "\n",
    "print(\"📈 PROYECCIONES ESTRATÉGICAS 2025:\")\n",
    "print(\"=\"*50)\n",
    "print(\"🎯 METAS CUANTIFICADAS:\")\n",
    "print(f\"   ROI: {roi_actual:.2f}% → +15% (Meta conservadora)\")\n",
    "print(f\"   Eficiencia: 72.7% → 90%\")\n",
    "print(f\"   Productividad: 28.5 → 50 torvadas\")\n",
    "print(f\"   Áreas rentables: 1/6 → 4/6\")\n",
    "print(f\"   Empleados 100%: 4/6 → 6/6\")\n",
    "print()\n",
    "print(\"💰 PROYECCIÓN FINANCIERA:\")\n",
    "print(f\"   Inversión adicional: $2,000\")\n",
    "print(f\"   Retorno esperado: $3,500\")\n",
    "print(f\"   ROI del plan: 75% primer año\")\n",
    "print(f\"   Payback period: 8-10 meses\")\n",
    "print()\n",
    "print(\"🚀 FACTORES CRÍTICOS DE ÉXITO:\")\n",
    "print(\"   1. Implementación disciplinada del plan\")\n",
    "print(\"   2. Supervisión mensual KPIs\")\n",
    "print(\"   3. Capacitación continua empleados\")\n",
    "print(\"   4. Expansión gradual áreas rentables\")\n",
    "print(\"   5. Optimización procesos costosos\")"
   ]
  },
  {
   "cell_type": "markdown",
   "metadata": {},
   "source": [
    "---\n",
    "\n",
    "# 🏁 CONCLUSIONES EJECUTIVAS\n",
    "\n",
    "## 📋 **RESUMEN INTEGRAL DEL ANÁLISIS**\n",
    "\n",
    "### 🎯 **HALLAZGOS CRÍTICOS:**\n",
    "\n",
    "1. **🚨 SITUACIÓN FINANCIERA CRÍTICA:**\n",
    "   - ROI General: **-5.58%** (Pérdida de $54.75)\n",
    "   - Solo **1 de 6 áreas** es rentable (Campo Sur - Lote B2: +225% ROI)\n",
    "   - Actividad COSECHA más costosa pero única generadora de ingresos\n",
    "\n",
    "2. **👥 CAPITAL HUMANO DESBALANCEADO:**\n",
    "   - **Charlie López**: 100% eficiencia (Top Performer)\n",
    "   - **Ana Torres**: 0% productividad (Oportunidad crítica)\n",
    "   - 72.7% eficiencia operacional general\n",
    "\n",
    "3. **🗺️ OPORTUNIDADES TERRITORIALES:**\n",
    "   - Suelo **Franco** más rentable (Campo Sur)\n",
    "   - 28.4 hectáreas subutilizadas\n",
    "   - Concentración geográfica inadecuada\n",
    "\n",
    "4. **⏰ PATRONES ESTACIONALES IDENTIFICADOS:**\n",
    "   - Mayo: Mes más rentable (Cosecha)\n",
    "   - Variabilidad alta en costos mensuales\n",
    "   - Oportunidades de optimización temporal\n",
    "\n",
    "### 🎯 **PLAN DE TRANSFORMACIÓN:**\n",
    "\n",
    "**FASE 1 (0-30 días): Estabilización**\n",
    "- Promover Charlie López a Supervisor\n",
    "- Reactivar productividad Ana Torres\n",
    "- Completar tareas pendientes\n",
    "\n",
    "**FASE 2 (1-6 meses): Optimización**\n",
    "- Expandir Campo Sur (área más rentable)\n",
    "- Reducir costos proceso COSECHA\n",
    "- Implementar mejores prácticas\n",
    "\n",
    "**FASE 3 (6-12 meses): Escalamiento**\n",
    "- Replicar modelo exitoso en otras áreas\n",
    "- Aumentar productividad a 50 torvadas\n",
    "- Alcanzar 90% eficiencia operacional\n",
    "\n",
    "### 📊 **PROYECCIÓN DE IMPACTO:**\n",
    "\n",
    "| Métrica | Actual 2024 | Meta 2025 | Mejora |\n",
    "|---------|-------------|-----------|--------|\n",
    "| ROI General | -5.58% | +15% | +20.6 puntos |\n",
    "| Eficiencia | 72.7% | 90% | +17.3 puntos |\n",
    "| Productividad | 28.5 torvadas | 50 torvadas | +75% |\n",
    "| Áreas Rentables | 1/6 | 4/6 | +200% |\n",
    "| Empleados 100% | 4/6 | 6/6 | +33% |\n",
    "\n",
    "### 💰 **RETORNO DE INVERSIÓN PROYECTADO:**\n",
    "- **Inversión Plan**: $2,000\n",
    "- **Retorno Año 1**: $3,500  \n",
    "- **ROI Plan**: 75%\n",
    "- **Payback**: 8-10 meses\n",
    "\n",
    "---\n",
    "\n",
    "## 🏆 **CERTIFICACIÓN DE ANÁLISIS**\n",
    "\n",
    "**✅ Análisis Completado por:** Samir Caizapasto  \n",
    "**📅 Fecha:** Octubre 2024  \n",
    "**📊 Datos Analizados:** 12 registros reales MySQL  \n",
    "**🔍 Período:** Enero - Julio 2024  \n",
    "**🎯 Metodología:** Análisis Multidimensional Consultoría\n",
    "\n",
    "**🌟 ESTE ANÁLISIS REPRESENTA UN PORTAFOLIO PROFESIONAL DE DATA ANALYTICS Y FULL STACK DEVELOPMENT**\n",
    "\n",
    "---"
   ]
  }
 ],
 "metadata": {
  "kernelspec": {
   "display_name": "Python 3",
   "language": "python",
   "name": "python3"
  },
  "language_info": {
   "codemirror_mode": {
    "name": "ipython",
    "version": 3
   },
   "file_extension": ".py",
   "mimetype": "text/x-python",
   "name": "python",
   "nbconvert_exporter": "python",
   "pygments_lexer": "ipython3",
   "version": "3.13.7"
  }
 },
 "nbformat": 4,
 "nbformat_minor": 4
}
